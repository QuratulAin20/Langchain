{
  "nbformat": 4,
  "nbformat_minor": 0,
  "metadata": {
    "colab": {
      "provenance": [],
      "authorship_tag": "ABX9TyPAq+dxB2b5TSBnf6W2MfVM",
      "include_colab_link": true
    },
    "kernelspec": {
      "name": "python3",
      "display_name": "Python 3"
    },
    "language_info": {
      "name": "python"
    }
  },
  "cells": [
    {
      "cell_type": "markdown",
      "metadata": {
        "id": "view-in-github",
        "colab_type": "text"
      },
      "source": [
        "<a href=\"https://colab.research.google.com/github/QuratulAin20/Langchain/blob/main/video_chatbot.ipynb\" target=\"_parent\"><img src=\"https://colab.research.google.com/assets/colab-badge.svg\" alt=\"Open In Colab\"/></a>"
      ]
    },
    {
      "cell_type": "markdown",
      "source": [
        "## Problem statement\n",
        "we have to build the chatbot for a video responsible for answer query from video"
      ],
      "metadata": {
        "id": "YrwtyX1drZxy"
      }
    },
    {
      "cell_type": "markdown",
      "source": [
        "## SOLUTION\n",
        "- First target is to fetch the transcript of the video that we will do using langchain youtube loader or using youtube API\n",
        "\n",
        "- Next step is to do text splitting on the data to get chunks\n",
        "\n",
        "- Next create embedding of our chunk and store in vector db\n",
        "\n",
        "- Create a retriever\n",
        "\n",
        "- Pass the query to retriever to get response\n",
        "\n",
        "- Next combine our query and chunks and create a prompt\n",
        "\n",
        "- now it pass to LLM and get response\n"
      ],
      "metadata": {
        "id": "4RwuAejBrldK"
      }
    },
    {
      "cell_type": "code",
      "execution_count": null,
      "metadata": {
        "id": "rwhBPFJprHZT"
      },
      "outputs": [],
      "source": [
        "!pip install -q youtube-transcript-api langchain-community langchain-groq langchain-huggingface\\\n",
        "               faiss-cpu tiktoken python-dotenv"
      ]
    },
    {
      "cell_type": "code",
      "source": [
        "import os\n",
        "os.environ['GROQ_API_KEY'] = \"\""
      ],
      "metadata": {
        "id": "dr6389K1snWh"
      },
      "execution_count": null,
      "outputs": []
    },
    {
      "cell_type": "code",
      "source": [
        "from youtube_transcript_api import YouTubeTranscriptApi, TranscriptsDisabled\n",
        "from langchain.text_splitter import RecursiveCharacterTextSplitter\n",
        "from langchain_huggingface import HuggingFaceEmbeddings\n",
        "from langchain_community.vectorstores import FAISS\n",
        "from langchain_core.prompts import PromptTemplate"
      ],
      "metadata": {
        "id": "nt3-xfVus5Vd"
      },
      "execution_count": null,
      "outputs": []
    },
    {
      "cell_type": "markdown",
      "source": [
        "# STEP-1\n",
        "## 1a Indexing"
      ],
      "metadata": {
        "id": "sWqTTdCltWQy"
      }
    },
    {
      "cell_type": "code",
      "source": [
        "video_id = \"Gfr50f6ZBvo\" # only the ID, not full URL and it shoould contain english transcript because we are assigning languages=[\"en\"] for other language we use its language\n",
        "try:\n",
        "    # If you don’t care which language, this returns the “best” one\n",
        "    transcript_list = YouTubeTranscriptApi.get_transcript(video_id, languages=[\"en\"])\n",
        "\n",
        "    # Flatten it to plain text\n",
        "    transcript = \" \".join(chunk[\"text\"] for chunk in transcript_list)\n",
        "    print(transcript)\n",
        "\n",
        "except TranscriptsDisabled:\n",
        "    print(\"No captions available for this video.\")"
      ],
      "metadata": {
        "colab": {
          "base_uri": "https://localhost:8080/"
        },
        "id": "wiCZl9f-tNV0",
        "outputId": "873641ba-4991-4582-cb10-e9f4538379ed"
      },
      "execution_count": null,
      "outputs": [
        {
          "output_type": "stream",
          "name": "stdout",
          "text": [
            "the following is a conversation with demus hasabis ceo and co-founder of deepmind a company that has published and builds some of the most incredible artificial intelligence systems in the history of computing including alfred zero that learned all by itself to play the game of gold better than any human in the world and alpha fold two that solved protein folding both tasks considered nearly impossible for a very long time demus is widely considered to be one of the most brilliant and impactful humans in the history of artificial intelligence and science and engineering in general this was truly an honor and a pleasure for me to finally sit down with him for this conversation and i'm sure we will talk many times again in the future this is the lex friedman podcast to support it please check out our sponsors in the description and now dear friends here's demis hassabis let's start with a bit of a personal question am i an ai program you wrote to interview people until i get good enough to interview you well i'll be impressed if if you were i'd be impressed by myself if you were i don't think we're quite up to that yet but uh maybe you're from the future lex if you did would you tell me is that is that a good thing to tell a language model that's tasked with interviewing that it is in fact um ai maybe we're in a kind of meta turing test uh probably probably it would be a good idea not to tell you so it doesn't change your behavior right this is a kind of heisenberg uncertainty principle situation if i told you you behave differently yeah maybe that's what's happening with us of course this is a benchmark from the future where they replay 2022 as a year before ais were good enough yet and now we want to see is it going to pass exactly if i was such a program would you be able to tell do you think so to the touring test question you've talked about the benchmark for solving intelligence what would be the impressive thing you've talked about winning a nobel prize in a system winning a nobel prize but i still return to the touring test as a compelling test the spirit of the touring test is a compelling test yeah the turing test of course it's been unbelievably influential and turing's one of my all-time heroes but i think if you look back at the 1950 papers original paper and read the original you'll see i don't think he meant it to be a rigorous formal test i think it was more like a thought experiment almost a bit of philosophy he was writing if you look at the style of the paper and you can see he didn't specify it very rigorously so for example he didn't specify the knowledge that the expert or judge would have um not you know how much time would they have to investigate this so these important parameters if you were gonna make it uh a true sort of formal test um and you know some by some measures people claimed the turing test passed several you know a decade ago i remember someone claiming that with a with a kind of very bog standard normal uh logic model um because they pretended it was a it was a kid so the the judges thought that the machine you know was was a was a child so um that would be very different from an expert ai person uh interrogating a machine and knowing how it was built and so on so i think um you know we should probably move away from that as a formal test and move more towards a general test where we test the ai capabilities on a range of tasks and see if it reaches human level or above performance on maybe thousands perhaps even millions of tasks eventually and cover the entire sort of cognitive space so i think for its time it was an amazing thought experiment and also 1950s obviously it was barely the dawn of the computer age so of course he only thought about text and now um we have a lot more different inputs so yeah maybe the better thing to test is the generalizability so across multiple tasks but i think it's also possible as as systems like god show that eventually that might map right back to language so you might be able to demonstrate your ability to generalize across tasks by then communicating your ability to generalize across tasks which is kind of what we do through conversation anyway when we jump around ultimately what's in there in that conversation is not just you moving around knowledge it's you moving around like these entirely different modalities of understanding that ultimately map to your ability to to uh operate successfully in all these domains which you can think of as tasks yeah i think certainly we as humans use language as our main generalization communication tool so i think we end up thinking in language and expressing our solutions in language um so it's going to be very powerful uh uh mode in which to uh explain you know the system to explain what it's doing um but i don't think it's the only uh uh modality that matters so i think there's gonna be a lot of you know there's there's a lot of different ways to express uh capabilities uh other than just language yeah visual robotics body language um yeah action is the interactive aspect of all that that's all part of it but what's interesting with gato is that it's a it's it's it's sort of pushing prediction to the maximum in terms of like you know mapping arbitrary sequences to other sequences and sort of just predicting what's going to happen next so prediction seems to be fundamental to intelligence and what you're predicting doesn't so much matter yeah it seems like you can generalize that quite well so obviously language models predict the next word um gato predicts potentially any uh action or any token uh and it's just the beginning really it's our most general agent one could call it so far but um you know that itself can be scaled up massively more than we've done so far obviously we're in the in the middle of doing that but the big part of solving agi is creating benchmarks that help us get closer and closer sort of creating benchmarks that test the journalizability and it's just still interesting that this fella alan turing was one of the first and probably still one of the only people that was trying maybe philosophically but was trying to formulate a benchmark that could be followed it is even though it's it's fuzzy it's still sufficiently rigorous to where you can run that test and i still think something like the touring test will at the end of the day be the thing that truly impresses other humans so that you can have a close friend who's an ai system for that friend to be a good friend they're going to have to be able to uh play starcraft and they're going to have to do all of these tasks um get you a beer so the robotics tasks uh play games with you use language humor all those kinds of things but that ultimately can boil down to language it feels like not in terms of the ai community but in terms of the actual impact of general intelligence on the world it feels like language will be the place where it truly shines i think so because it's such an important kind of input output for us i think you're right i think the turing test that what the the kind of the the philosophy behind it which is the idea of can can a machine mimic the behaviors of a human and men and i would say wider than just language and text then you know in terms of actions and everything else creativity all these things then um if it can sort of match or exceed human cognitive capabilities then i think we have a you know true intelligence so i thought from that perspective you're right i think he did formulate the right uh kind of uh setup i just i think there'll be a kind of humor in the ai systems of the future looking back to this conversation and thinking about the touring test and uh also thinking about by that time they would know which year they were finally able to sort of cross the threshold of human level intelligence and think how funny it is that we humans were still confused about this whole problem that has been long ago been solved well hello to the ai agents of the future anyway so going back to your to your journey when did you fall in love with programming first well it's pretty uh pretty young age actually so um you know i started off uh actually games was my first love so starting to play chess when i was around four years old and then um it was actually with winnings from a chess competition that i managed to buy my first chess computer when i was about eight years old it was a zx spectrum which was hugely popular in the uk at the time and uh it's amazing machine because i think it trained a whole generation of programmers in the uk because it was so accessible you know you literally switched it on and there was the basic prompt and you could just get going and um my parents didn't really know anything about computers so but because it was my money from a chess competition i could i could say i i wanted to buy it uh and then you know i just went to bookstores got books on programming and um started typing in you know the programming code and and then of course um once you start doing that you start adjusting it and then making your own games and that's when i fell in love with computers and realized that they were a very magical device um in a way i kind of i would have been able to explain this at the time but i felt that they were sort of almost a magical extension of your mind i always had this feeling and i've always loved this about computers that you can set them off doing something some task for you you can go to sleep come back the next day and it's solved um you know that feels magical to me so i mean all machines do that to some extent they all enhance our natural capabilities obviously cars make us allow us to move faster than we can run but this was a machine to extend the mind and and then of course ai is the ultimate expression of what a machine may be able to do or learn so very naturally for me that thought extended into into ai quite quickly remember the the programming language that was first started special to the machine no it was just the base it was just i think it was just basic uh on the zx spectrum i don't know what specific form it was and then later on i got a commodore amiga which uh was a fantastic machine no you're just showing off so yeah well lots of my friends had atari st's and i i managed to get amigas it was a bit more powerful and uh and that was incredible and used to do um programming in assembler and and uh also amos basic this this specific form of basic it was incredible actually as well all my coding skills and when did you fall in love with ai so when did you first start to gain an understanding that you can not just write programs that do some mathematical operations for you while you sleep but something that's a keen to bringing an entity to life sort of a thing that can figure out something more complicated than uh than a simple mathematical operation yeah so there was a few stages for me all while i was very young so first of all as i was trying to improve at playing chess i was captaining various england junior chess teams and at the time when i was about you know maybe 10 11 years old i was gonna become a professional chess player that was my first thought um that dream was there sure she tried to get to the highest level yeah so i was um you know i got to when i was about 12 years old i got to master stand and i was second highest rated player in the world to judith polgar who obviously ended up being an amazing chess player and uh world women's champion and when i was trying to improve at chess where you know what you do is you obviously first of all you're trying to improve your own thinking processes so that leads you to thinking about thinking how is your brain coming up with these ideas why is it making mistakes how can you how can you improve that thought process but the second thing is that you it was just the beginning this was like in the in the early 80s mid 80s of chess computers if you remember they were physical boards like the one we have in front of us and you pressed down the you know the squares and i think kasparov had a branded version of it that i i i got and um you were you know used to they're not as strong as they are today but they were they were pretty strong and you used to practice against them um to try and improve your openings and other things and so i remember i think i probably got my first one i was around 11 or 12. and i remember thinking um this is amazing you know how how has someone programmed uh uh this this chess board to play chess uh and uh it was very formative book i bought which was called the chess computer handbook by david levy which came out in 1984 or something so i must have got it when i was about 11 12 and it explained fully how these chess programs were made i remember my first ai program being uh programming my amiga it couldn't it wasn't powerful enough to play chess i couldn't write a whole chess program but i wrote a program for it to play othello reversey it's sometimes called i think in the u.s and so a slightly simpler game than chess but i used all of the principles that chess programs had alpha beta search all of that and that was my first ai program i remember that very well was around 12 years old so that that that brought me into ai and then the second part was later on uh when i was around 1617 and i was writing games professionally designing games uh writing a game called theme park which um had ai as a core gameplay component as part of the simulation um and it sold you know millions of copies around the world and people loved the way that the ai even though it was relatively simple by today's ai standards um was was reacting to the way you as the player played it so it was called a sandbox game so it's one of the first types of games like that along with simcity and it meant that every game you played was unique is there something you could say just on a small tangent about really impressive ai from a game design human enjoyment perspective really impressive ai that you've seen in games and maybe what does it take to create ai system and how hard of a problem is that so a million questions just as a brief tangent well look i think um games uh games have been significant in my life for three reasons so first of all to to i was playing them and training myself on games when i was a kid then i went through a phase of designing games and writing ai4 games so all the games i i professionally wrote uh had ai as a core component and that was mostly in the in the 90s and the reason i was doing that in games industry was at the time the games industry i think was the cutting edge of technology so whether it was graphics with people like john carmack and quake and those kind of things or ai i think actually all the action was going on in games and and we've seen we're still reaping the benefits of that even with things like gpus which you know i find ironic was obviously invented for graphics computer graphics but then turns out to be amazingly useful for ai it just turns out everything's a matrix multiplication it appears you know in the whole world so um so i think games at the time had the most cutting edge ai and a lot of the the games uh uh we you know i was involved in writing so there was a game called black and white which was one game i was involved with in the early stages of which i still think is the most um impressive uh example of reinforcement learning in a computer game so in that game you know you trained a little pet animal uh and yeah and it sort of learned from how you were treating it so if you treated it badly then it became mean yeah and then it would be mean to to your villagers and your and your population the sort of uh the little tribe that you were running uh but if you were kind to it then it would be kind and people were fascinated by how that was and so was i to be honest with the way it kind of developed and um especially the mapping to good and evil yeah it made you made you realize made me realize that you can sort of in the way in the choices you make can define uh the where you end up and that means all of us are capable of the good uh evil it all matters in uh the different choices along the trajectory to those places that you make it's fascinating i mean games can do that philosophically to you and it's rare it seems rare yeah well games are i think a unique medium because um you as the player you're not just passively consuming the the entertainment right you're actually actively involved as an as a as an agent so i think that's what makes it in some ways can be more visceral than other other mediums like you know films and books so the second so that was you know designing ai and games and then the third use uh uh i've we've used of ai is in deep mind from the beginning which is using games as a testing ground for proving out ai algorithms and developing ai algorithms and that was a that was a sort of um a core component of our vision at the start of deepmind was that we would use games very heavily uh as our main testing ground certainly to begin with um because it's super efficient to use games and also you know it's very easy to have metrics to see how well your systems are improving and what direction your ideas are going in and whether you're making incremental improvements and because those games are often rooted in something that humans did for a long time beforehand there's already a strong set of rules like it's already a damn good benchmark yes it's really good for so many reasons because you've got you've got you've got clear measures of how good humans can be at these things and in some cases like go we've been playing it for thousands of years um and and uh often they have scores or at least win conditions so it's very easy for reward learning systems to get a reward it's very easy to specify what that reward is um and uh also at the end it's easy to you know to test uh externally you know how strong is your system by of course playing against you know the world's strongest players at those games so it's it's so good for so many reasons and it's also very efficient to run potentially millions of simulations in parallel on the cloud so um i think there's a huge reason why we were so successful back in you know starting out 2010 how come we were able to progress so quickly because we'd utilize games and um you know at the beginning of deep mind we also hired some amazing game engineers uh who i knew from my previous uh lives in the games industry and uh and that helped to bootstrap us very quickly and plus it's somehow super compelling almost at a philosophical level of man versus machine over over a chessboard or a go board and especially given that the entire history of ai is defined by people saying it's going to be impossible to make a machine that beats a human being in chess and then once that happened people were certain when i was coming up in ai that go is not a game that could be solved because of the combinatorial complexity it's just too it's it's it's you know no matter how much moore's law you have compute is just never going to be able to crack the game of go yeah and so that then there's something compelling about facing sort of taking on the impossibility of that task from the ai researcher perspective engineer perspective and then as a human being just observing this whole thing your beliefs about what you thought was impossible being broken apart it's it's uh humbling to realize we're not as smart as we thought it's humbling to realize that the things we think are impossible now perhaps will be done in the future there's something really powerful about a game ai system being a human being in a game that drives that message uh home for like millions billions of people especially in the case of go sure well look i think it's a i mean it has been a fascinating journey and and especially as i i think about it from i can understand it from both sides both as the ai you know creators of the ai um but also as a games player originally so you know it was a it was a really interesting it was i mean it was a fantastic um but also somewhat bittersweet moment the alphago match for me um uh seeing that and and and being obviously heavily heavily involved in that um but you know as you say chess has been uh the i mean kasparov i think rightly called it the drosophila of of intelligence right so it's sort of i i love that phrase and and i think he's right because chess has been um hand in hand with ai from the beginning of the the whole field right so i think every ai practitioner starting with turing and claude shannon and all those uh the sort of forefathers of of of of the field um tried their hand at writing a chess program uh i've got original audition of claude shannon's first chess program i think it was 1949 uh the the original sort of uh paper and um they all did that and turing famously wrote a chess program that but all the computers around there were obviously too slow to run it so he had to run he had to be the computer right so he literally i think spent two or three days running his own program by hand with pencil and paper and playing playing a friend of his uh with his chess program so of course deep blue was a huge moment uh beating off um but actually when that happened i remember that very very vividly of course because it was you know chess and computers and ai all the things i loved and i was at college at the time but i remember coming away from that being more impressed by kasparov's mind than i was by deep blue because here was kasparov with his human mind not only could he play chess more or less to the same level as this brute of a calculation machine um but of course kasparov can do everything else humans can do ride a bike talk many languages do politics all the rest of the amazing things that kasparov does and so with the same brain yeah and and yet deep blue uh brilliant as it was at chess it had been hand coded for chess and um actually had distilled the knowledge of chess grand masters uh into into a cool program but it couldn't do anything else like it couldn't even play a strictly simpler game like tic-tac-toe so um something to me was missing from um intelligence from that system that we would regard as intelligence and i think it was this idea of generality and and also learning yeah um so and that's what we tried to do out with alphago yeah we alphago and alpha zero mu zero and then got on all the things that uh we'll get into some parts of there's just a fascinating trajectory here but let's just stick on chess briefly uh on the human side of chess you've proposed that from a game design perspective the thing that makes chess compelling as a game uh is that there's a creative tension between a bishop and the knight can you explain this first of all it's really interesting to think about what makes the game compelling makes it stick across centuries yeah i was sort of thinking about this and actually a lot of even amazing chess players don't think about it necessarily from a games designer point of view so it's with my game design hat on that i was thinking about this why is chess so compelling and i think a critical uh reason is the the dynamicness of of of the different kind of chess positions you can have whether they're closed or open and other things comes from the bishop and the night so if you think about how different the the the capabilities of the bishop and knight are in terms of the way they move and then somehow chess has evolved to balance those two capabilities more or less equally so they're both roughly worth three points each so you think that dynamics was always there and then the rest of the rules are kind of trying to stabilize the game well maybe i mean it's sort of i don't know his chicken and egg situation probably both came together but the fact that it's got to this beautiful equilibrium where you can have the bishop and knight they're so different in power um but so equal in value across the set of the universe of all positions right somehow they've been balanced by humanity over hundreds of years um i think gives gives the game the creative tension uh that you can swap the bishop and knights uh for a bishop for a knight and you you they're more or less worth the same but now you aim for a different type of position if you have the knight you want a closed position if you have the bishop you want an open position so i think that creates a lot of the creative tension in chess so some kind of controlled creative tension from an ai perspective do you think ai systems convention design games that are optimally compelling to humans well that's an interesting question you know sometimes i get asked about ai and creativity and and this and the way i answered that is relevant to that question which is that i think they're different levels of creativity one could say so i think um if we define creativity as coming up with something original right that's that's useful for a purpose then you know i think the kind of lowest level of creativity is like an interpolation so an averaging of all the examples you see so maybe a very basic ai system could say you could have that so you show it millions of pictures of cats and then you say give me an average looking cat right generate me an average looking cat i would call that interpolation then there's extrapolation which something like alphago showed so alphago played you know millions of games of go against itself and then it came up with brilliant new ideas like move 37 in game two bringing a motif strategies and go that that no humans had ever thought of even though we've played it for thousands of years and professionally for hundreds of years so that that i call that extrapolation but then that's still there's still a level above that which is you know you could call out the box thinking or true innovation which is could you invent go right could you invent chess and not just come up with a brilliant chess move or brilliant go move but can you can you actually invent chess or something as good as chess or go and i think one day uh ai could but what's missing is how would you even specify that task to a a program right now and the way i would do it if i was best telling a human to do it or a games designer a human games designer to do it is i would say something like go i would say um come up with a game that only takes five minutes to learn which go does because it's got simple rules but many lifetimes to master right or impossible to master in one lifetime because so deep and so complex um and then it's aesthetically beautiful uh and also uh it can be completed in three or four hours of gameplay time which is you know useful for our us you know in in a human day and so um you might specify these side of high level concepts like that and then you know with that and maybe a few other things uh one could imagine that go satisfies uh those those constraints um but the problem is is that we we're not able to specify abstract notions like that high-level abstract notions like that yet to our ai systems um and i think there's still something missing there in terms of um high-level concepts or abstractions that they truly understand and that you know combinable and compositional um so for the moment i think ai is capable of doing interpolation extrapolation but not true invention so coming up with rule sets uh and optimizing with complicated objectives around those rule sets we can't currently do but you could take a specific rule set and then run a kind of self-play experiment to see how long just observe how an ai system from scratch learns how long is that journey of learning and maybe if it satisfies some of those other things you mentioned in terms of quickness to learn and so on and you could see a long journey to master for even an ai system then you could say that this is a promising game um but it would be nice to do almost like alpha codes or programming rules so generating rules that kind of uh that automate even that part of the generation of rules so i have thought about systems actually um that i think would be amazing in in for a games designer if you could have a system that um takes your game plays it tens of millions of times maybe overnight and then self balances the rules better so it tweaks the the rules and the maybe the equations and the and the and the parameters so that the game uh is more balanced the units in the game or some of the rules could be tweaked so it's a bit of like a giving a base set and then allowing a monte carlo tree search or something like that to sort of explore it right and i think that would be super super a powerful tool actually for for balancing auto balancing a game which usually takes thousands of hours from hundreds of games human games testers normally to to balance some one you know game like starcraft which is you know blizzard are amazing at balancing their games but it takes them years and years and years so one could imagine at some point when this uh this stuff becomes uh efficient enough to you know you might be able to do that like overnight do you think a game that is optimal designed by an ai system would look very much like uh planet earth maybe maybe it's only the sort of game i would love to make is is and i've tried you know my in my game's career the games design career you know my first big game was designing a theme park an amusement park then uh with games like republic i tried to you know have games where we designed whole cities and and allowed you to play in so and of course people like will wright have written games like sim earth uh trying to simulate the whole of earth pretty tricky but um i see earth i haven't actually played that one so what is it does it incorporative evolution or yeah it has evolution and it's sort of um it tries to it sort of treats it as an entire biosphere but from quite a high level so nice to be able to sort of zoom in zoom out zoom in exactly so obviously he couldn't do that was in the night i think he wrote that in the 90s so it couldn't you know it wasn't it wasn't able to do that but that that would be uh obviously the ultimate sandbox game of course on that topic do you think we're living in a simulation yes well so okay so i'm gonna jump around from the absurdly philosophical to the short term sure very very happy to so i think uh my answer to that question is a little bit complex because uh there is simulation theory which obviously nick bostrom i think famously first proposed um and uh i don't quite believe it in in that sense so um in the in the sense that uh are we in some sort of computer game or have our descendants somehow recreated uh uh earth in the you know 21st century and and some for some kind of experimental reason i think that um but i do think that we that that we might be that the best way to understand physics and the universe is from a computational perspective so understanding it as an information universe and actually information being the most fundamental unit of uh reality rather than matter or energy so a physicist would say you know matter or energy you know e equals m c squared these are the things that are are the fundamentals of the universe i'd actually say information um which of course itself can be can specify energy or matter right matter is actually just you know we're we're just out the way our bodies and all the molecules in our body arrange is information so i think information may be the most fundamental way to describe the universe and therefore you could say we're in some sort of simulation because of that um but i don't i do i'm not i'm not really a subscriber to the idea that um you know these are sort of throw away billions of simulations around i think this is actually very critical and possibly unique this simulation particular one yes so but and you just mean treating the universe as a computer that's processing and modifying information is is a good way to solve the problems of physics of chemistry of biology and perhaps of humanity and so on yes i think understanding physics in terms of information theory uh might be the best way to to really uh understand what's going on here from our understanding of a universal turing machine from our understanding of a computer do you think there's something outside of the capabilities of a computer that is present in our universe you have a disagreement with roger penrose the nature of consciousness he he thinks that consciousness is more than just a computation uh do you think all of it the whole shebang is can be can be a competition yeah i've had many fascinating debates with uh sir roger penrose and obviously he's he's famously and i read you know emperors of new mind and and um and his books uh his classical books uh and they they were pretty influential and you know in the 90s and um he believes that there's something more you know something quantum that is needed to explain consciousness in the brain um i think about what we're doing actually at deepmind and what my career is being we're almost like true rings champion so we are pushing turing machines or classical computation to the limits what are the limits of what classical computing can do now um and at the same time i've also studied neuroscience to see and that's why i did my phd in was to see also to look at you know is there anything quantum in the brain from a neuroscience or biological perspective and um and so far i think most neuroscientists and most mainstream biologists and neuroscientists would say there's no evidence of any quantum uh systems or effects in the brain as far as we can see it's it can be mostly explained by classical uh classical theories so and then so there's sort of the the search from the biology side and then at the same time there's the raising of the water uh at the bar from what classical turing machines can do uh uh and and you know including our new ai systems and uh as you alluded to earlier um you know i think ai especially in the last decade plus has been a continual story now of surprising uh events uh and surprising successes knocking over one theory after another of what was thought to be impossible you know from go to protein folding and so on and so i think um i would be very hesitant to bet against how far the uh universal turing machine and classical computation paradigm can go and and my betting would be that all of certainly what's going on in our brain uh can probably be mimicked or or approximated on a on a classical machine um not you know not requiring something metaphysical or quantum and we'll get there with some of the work with alpha fold which i think begins the journey of modeling this beautiful and complex world of biology so you think all the magic of the human mind comes from this just a few pounds of mush of a biological computational mush that's akin to some of the neural networks not directly but in spirit that deep mind has been working with well look i think it's um you say it's a few you know of course it's this is the i think the biggest miracle of the universe is that um it is just a few pounds of mush in our skulls and yet it's also our brains are the most complex objects in the in that we know of in the universe so there's something profoundly beautiful and amazing about our brains and i think that it's an incredibly uh incredible efficient machine and and uh uh and it's a is you know phenomenal basically and i think that building ai one of the reasons i want to build ai and i've always wanted to is i think by building an intelligent artifact like ai and then comparing it to the human mind um that will help us unlock the uniqueness and the true secrets of the mind that we've always wondered about since the dawn of history like consciousness dreaming uh creativity uh emotions what are all these things right we've we've wondered about them since since the dawn of humanity and i think one of the reasons and you know i love philosophy and philosophy of mind is we found it difficult is there haven't been the tools for us to really other than introspection to from very clever people in in history very clever philosophers to really investigate this scientifically but now suddenly we have a plethora of tools firstly we have all the neuroscience tools fmri machines single cell recording all of this stuff but we also have the ability computers and ai to build uh intelligent systems so i think that um uh you know i think it is amazing what the human mind does and um and and i'm kind of in awe of it really and uh and i think it's amazing that without human minds we're able to build things like computers and and actually even you know think and investigate about these questions i think that's also a testament to the human mind yeah the universe built the human mind that now is building computers that help us understand both the universe and our own human mind right that's exactly it i mean i think that's one you know one could say we we are maybe we're the mechanism by which the universe is going to try and understand itself yeah it's beautiful so let's let's go to the basic building blocks of biology that i think is another angle at which you can start to understand the human mind the human body which is quite fascinating which is from the basic building blocks start to simulate start to model how from those building blocks you can construct bigger and bigger more complex systems maybe one day the entirety of the human biology so here's another problem that thought to be impossible to solve which is protein folding and alpha fold or specific alpha fold 2 did just that it solved protein folding i think it's one of the biggest breakthroughs uh certainly in the history of structural biology but uh in general in in science um maybe from a high level what is it and how does it work and then we can ask some fascinating sure questions after sure um so maybe like to explain it uh to people not familiar with protein folding is you know i first of all explain proteins which is you know proteins are essential to all life every function in your body depends on proteins sometimes they're called the workhorses of biology and if you look into them and i've you know obviously as part of alpha fold i've been researching proteins and and structural biology for the last few years you know they're amazing little bio nano machines proteins they're incredible if you actually watch little videos of how they work animations of how they work and um proteins are specified by their genetic sequence called the amino acid sequence so you can think of those their genetic makeup and then in the body uh in in nature they when they when they fold up into a 3d structure so you can think of it as a string of beads and then they fold up into a ball now the key thing is you want to know what that 3d structure is because the structure the 3d structure of a protein is what helps to determine what does it do the function it does in your body and also if you're interested in drug drugs or disease you need to understand that 3d structure because if you want to target something with a drug compound or about to block that something the protein is doing uh you need to understand where it's going to bind on the surface of the protein so obviously in order to do that you need to understand the 3d structure so the structure is mapped to the function the structure is mapped to the function and the structure is obviously somehow specified by the by the amino acid sequence and that's the in essence the protein folding problem is can you just from the amino acid sequence the one-dimensional string of letters can you immediately computationally predict the 3d structure right and this has been a grand challenge in biology for over 50 years so i think it was first articulated by christian anfinsen a nobel prize winner in 1972 uh as part of his nobel prize winning lecture and he just speculated this should be possible to go from the amino acid sequence to the 3d structure we didn't say how so i you know it's been described to me as equivalent to fermat's last theorem but for biology right you should as somebody that uh very well might win the nobel prize in the future but outside of that you should do more of that kind of thing in the margins just put random things that will take like 200 years to solve set people off for 200 years it should be possible exactly and just don't give any interest exactly i think everyone's exactly should be i'll have to remember that for future so yeah so he set off you know with this one throwaway remark just like fermat you know he he set off this whole 50-year uh uh uh field really of computational biology and and they had you know they got stuck they hadn't really got very far with doing this and and um until now until alpha fold came along this is done experimentally right very painstakingly so the rule of thumb is and you have to like crystallize the protein which is really difficult some proteins can't be crystallized like membrane proteins and then you have to use very expensive electron microscopes or x-ray crystallography machines really painstaking work to get the 3d structure and visualize the 3d structure so the rule of thumb in in experimental biology is that it takes one phd student their entire phd to do one protein uh and with alpha fold two we were able to predict the 3d structure in a matter of seconds um and so we were you know over christmas we did the whole human proteome or every protein in the human body all 20 000 proteins so the human proteins like the equivalent of the human genome but on protein space and uh and sort of revolutionize really what uh a structural biologist can do because now um they don't have to worry about these painstaking experimentals you know should they put all of that effort in or not they can almost just look up the structure of their proteins like a google search and so there's a data set on which it's trained and how to map this amino acids because first of all it's incredible that a protein this little chemical computer is able to do that computation itself in some kind of distributed way and do it very quickly that's a weird thing and they evolved that way because you know in the beginning i mean that's a great invention just the protein itself yes i mean and then they there's i think probably a history of like uh they evolved to have many of these proteins and those proteins figure out how to be computers themselves in such a way that you can create structures that can interact in complexes with each other in order to form high level functions i mean it's a weird system that they figured it out well for sure i mean we you know maybe we should talk about the origins of life too but proteins themselves i think are magical and incredible uh uh uh as i said little little bio-nano machines and um and and actually levantal who is another scientist uh uh a contemporary of anfinsen uh he he coined this eleventh house what became known as levantal's paradox which is exactly what you're saying he calculated roughly a protein an average protein which is maybe 2 000 amino acids bases long is um is is can fold in maybe 10 to the power 300 different conformations so there's 10 to the power 300 different ways that protein could fold up and yet somehow in nature physics solves this solves this in a matter of milliseconds so proteins fold up in your body in you know sometimes in fractions of a second so physics is somehow solving that search problem and just to be clear in many of these cases maybe you correct me if i'm wrong there's often a unique way for that sequence to form itself yes so among that huge number of possibilities yes it figures out a way how to stability uh in some cases there might be a misfunction so on which leads to a lot of the disorders and stuff like that but yes most of the time it's a unique mapping and that unique mapping is not obvious no exactly that's just what the problem is exactly so there's a unique mapping usually in a healthy in if it's healthy and as you say in disease so for example alzheimer's one one one conjecture is that it's because of a misfolded protein a protein that folds in the wrong way amyloid beta protein so um and then because it falls in the wrong way it gets tangled up right in your in your neurons so um it's super important to understand both healthy functioning and also disease is to understand uh you know what what these things are doing and how they're structuring of course the next step is sometimes proteins change shape when they interact with something so um they're not just static necessarily in in biology maybe you can give some interesting sort of beautiful things to you about these early days of alpha fold of of solving this problem because unlike games this is real physical systems that are less amenable to self-play type of mechanisms the the size of the data set is smaller that you might otherwise like so you have to be very clever about certain things is there something you could speak to um what was very hard to solve and what are some beautiful aspects about the the solution yeah i would say alpha fold is the most complex and also probably most meaningful system we've built so far so it's been an amazing time actually in the last you know two three years to see that come through because um as we talked about earlier you know games is what we started on uh building things like alphago and alpha zero but really the ultimate goal was to um not just to crack games it was just to to to build use them to bootstrap general learning systems we could then apply to real world challenges specifically my passion is scientific challenges like protein folding and then alpha fold of course is our first big proof point of that and so um you know in terms of the data uh and the amount of innovations that had to go into it we you know it was like more than 30 different component algorithms needed to be put together to crack the protein folding um i think some of the big innovations were that um kind of building in some hard coded constraints around physics and evolutionary biology um to constrain sort of things like the bond angles uh uh in the in the in the protein and things like that um a lot but not to impact the learning system so still allowing uh the system to be able to learn the physics uh itself um from the examples that we had and the examples as you say there are only about 150 000 proteins even after 40 years of experimental biology only around 150 000 proteins have been the structures have been found out about so that was our training set which is um much less than normally we would like to use but using various tricks things like self distillation so actually using alpha folds predictions um some of the best predictions that it thought was highly confident in we put them back into the training set right to make the training set bigger that was critical to to alpha fold working so there was actually a huge number of different um uh innovations like that that were required to to ultimately crack the problem after fold one what it produced was a distagram so a kind of a matrix of the pairwise distances between all of the molecules in the in the in the protein and then there had to be a separate optimization process to uh create the 3d structure and what we did for alpha volt2 is make it truly end to end so we went straight from the amino acid sequence of of of bases to the 3d structure directly without going through this intermediate step and in machine learning what we've always found is that the more end to end you can make it the better the system and it's probably because um we you know the in the end the system is better at learning what the constraints are than than we are as the human designers of specifying it so anytime you can let it flow end to end and actually just generate what it is you're really looking for in this case the 3d structure you're better off than having this intermediate step which you then have to hand craft the next step for so so it's better to let the gradients and the learning flow all the way through the system um from the end point the end output you want to the inputs so that's a good way to start a new problem handcraft a bunch of stuff add a bunch of manual constraints with a small intent learning piece or a small learning piece and grow that learning piece until it consumes the whole thing that's right and so you can also see you know this is a bit of a method we've developed over doing many sort of successful outfits we call them alpha x projects right is and the easiest way to see that is the evolution of alphago to alpha zero so alphago was um a learning system but it was specifically trained to only play go right so uh and what we wanted to do with first version of go is just get to world champion performance no matter how we did it right and then and then of course alphago zero we we we removed the need to use human games as a starting point right so it could just play against itself from random starting point from the beginning so that removed the the need for human knowledge uh about go and then finally alpha zero then generalized it so that any things we had in there the system including things like symmetry of the go board uh were removed so the alpha zero could play from scratch any two player game and then mu0 which is the final latest version of that set of things was then extending it so that you didn't even have to give it the rules of the game it would learn that for itself so it could also deal with computer games as well as board games so that line of alpha golf goes zero alpha zero mu zero that's the full trajectory of what you can take from uh imitation learning to full self supervised learning yeah exactly and learning learning uh the entire structure of the environment you put in from scratch right and and and and bootstrapping it uh through self-play uh yourself but the thing is it would have been impossible i think or very hard for us to build alpha zero or mu0 first out of the box even psychologically because you have to believe in yourself for a very long time you're constantly dealing with doubt because a lot of people say that it's impossible exactly so it was hard enough just to do go as you were saying everyone thought that was impossible or at least a decade away um from when we when we did it back in 2015 24 you know 2016 and um and so yes it would have been psychologically probably very difficult as well as the fact that of course we learnt a lot by building alphago first right so it's i think this is why i call ai in engineering science it's one of the most fascinating science disciplines but it's also an engineering science in the sense that unlike natural sciences um the phenomenon you're studying it doesn't exist out in nature you have to build it first so you have to build the artifact first and then you can study how how and pull it apart and how it works this is tough to uh ask you this question because you probably will say it's everything but let's let's try let's try to think to this because you're in a very interesting position where deepmind is the place of some of the most uh brilliant ideas in the history of ai but it's also a place of brilliant engineering so how much of solving intelligence this big goal for deepmind how much of it is science how much is engineering so how much is the algorithms how much is the data how much is the hardware compute infrastructure how much is it the software computer infrastructure yeah um what else is there how much is the human infrastructure and like just the humans interact in certain kinds of ways in all the space of all those ideas how much does maybe like philosophy how much what's the key if um uh if if you were to sort of look back like if we go forward 200 years look back what was the key thing that solved intelligence is that ideas i think it's a combination first of all of course it's a combination of all those things but the the ratios of them changed over over time so yeah so um even in the last 12 years so we started deep mine in 2010 which is hard to imagine now because 2010 it's only 12 short years ago but nobody was talking about ai uh you know if you remember back to your mit days you know no one was talking about it i did a postdoc at mit back around then and it was sort of thought of as a well look we know ai doesn't work we tried this hard in the 90s at places like mit mostly losing using logic systems and old-fashioned sort of good old-fashioned ai we would call it now um people like minsky and and and patrick winston and you know all these characters right and used to debate a few of them and they used to think i was mad thinking about that some new advance could be done with learning systems and um i was actually pleased to hear that because at least you know you're on a unique track at that point right even if every all of your you know professors are telling you you're mad that's true and of course in industry uh you can we couldn't get you know as difficult to get two cents together uh and which is hard to imagine now as well given it's the biggest sort of buzzword in in vcs and and fundraising's easy and all these kind of things today so back in 2010 it was very difficult and what we the reason we started then and shane and i used to discuss um uh uh what were the sort of founding tenets of deep mind and it was very various things one was um algorithmic advances so deep learning you know jeff hinton and cohen just had just sort of invented that in academia but no one in industry knew about it uh we love reinforcement learning we thought that could be scaled up but also understanding about the human brain had advanced um quite a lot uh in the decade prior with fmri machines and other things so we could get some good hints about architectures and algorithms and and sort of um representations maybe that the brain uses so as at a systems level not at a implementation level um and then the other big things were compute and gpus right so we could see a compute was going to be really useful and it got to a place where it became commoditized mostly through the games industry and and that could be taken advantage of and then the final thing was also mathematical and theoretical definitions of intelligence so things like ai xi aix which uh shane worked on with his supervisor marcus hutter which is a sort of theoretical uh proof really of universal intelligence um which is actually a reinforcement learning system um in the limit i mean it assumes infinite compute and infinite memory in the way you know like a turing machine proof but i was also waiting to see something like that too to you know like turing machines uh and and computation theory that people like turing and shannon came up with underpins modern computer science um uh you know i was waiting for a theory like that to sort of underpin agi research so when i you know met shane and saw he was working on something like that you know that to me was a sort of final piece of the jigsaw so in the early days i would say that ideas were the most important uh you know and for us it was deep reinforcement learning scaling up deep learning um of course we've seen transformers so huge leaps i would say you know three or four from for if you think from 2010 until now uh huge evolutions things like alphago um and um and and maybe there's a few more still needed but as we get closer to ai agi um i think engineering becomes more and more important and data because scale and of course the the recent you know results of gpt3 and all the big language models and large models including our ones uh has shown that scale is a is and large models are clearly going to be unnecessary but perhaps not sufficient part of an agi solution and throughout that like you said and i'd like to give you a big thank you you're one of the pioneers in this is sticking by ideas like reinforcement learning that this can actually work given actually limited success in the past and also which we still don't know but proudly having the best researchers in the world and talking about solving intelligence so talking about whatever you call it agi or something like this that speaking of mit that's that's just something not you wouldn't bring up no uh not not maybe you did in uh like 40 50 years ago but that was um ai was a place where you do tinkering very small scale not very ambitious projects and maybe the biggest ambitious projects were in the space of robotics and doing like the darpa challenge sure but the task of solving intelligence and believing you can that's really really powerful so in order for engineering to do its work to have great engineers build great systems you have to have that belief that threats throughout the whole thing that you can actually solve some of these impossible challenges yeah that's right and and back in 2010 you know our mission statement um and still is today you know it was used to be uh solving step one solve intelligence step two use it to solve everything else yes so if you can imagine pitching that to a vc in 2010 you know the kind of looks we we got we managed to you know find a few uh kooky people to back us but it was uh it was tricky and and i and i got to the point where we we wouldn't mention it to any of our professors because they would just eye roll and think we you know committed career suicide and and uh and and you know so it was there's a lot of things that we had to do but we always believed it and one reason you know by the way one reason we i believe i've always believed in reinforcement learning is that that if you look at neuroscience that is the way that the you know primate brain learns one of the main mechanisms is the dopamine system implement some form of td learning a very famous result in the late 90s uh where they saw this in monkeys and uh and as a you know proper game prediction error so we you know again in the limit this is this is what i think you can use neuroscience for is is you know any at mathematics you when you're when you're doing something as ambitious as trying to solve intelligence and you're you're you know it's blue sky research no one knows how to do it you you you need to use any evidence or any source of information you can to help guide you in the right direction or give you confidence you're going in the right direction so so that that was one reason we pushed so hard on that and that's and just going back to your early question about organization the other big thing that i think we innovated with at deepmind to encourage invention and and uh and innovation was the multi-disciplinary organization we built and we still have today so deepmind originally was a confluence of the of the most cutting-edge knowledge in neuroscience with machine learning engineering and mathematics right and and gaming and then since then we built that out even further so we have philosophers here and and uh by you know ethicists but also other types of scientists physicists and so on um and that's what brings together i tried to build a sort of um new type of bell labs but in this golden era right uh and and a new expression of that um to try and uh foster this incredible sort of innovation machine so talking about the humans in the machine the mind itself is a learning machine with a lots of amazing human minds in it coming together to try and build these uh learning systems if we return to the big ambitious dream of alpha fold that may be the early steps on a very long journey in um in biology do you think the same kind of approach can use to predict the structure and function of more complex biological systems so multi-protein interaction and then i mean you can go out from there just simulating bigger and bigger systems that eventually simulate something like the human brain or the human body just the big mush the mess of the beautiful resilient mesobiology do do you see that as a long-term vision i do and i think um you know if you think about what are the things top things i wanted to apply ai ai2 once we had powerful enough systems biology and curing diseases and understanding biology uh was right up there you know top of my list that's one of the reasons i personally pushed that myself and with alpha fold but i think alpha fold uh amazing as it is is just the beginning um and and and i hope it's evidence of uh what could be done with computational methods so um you know alpha fold solve this this huge problem of the structure of proteins but biology is dynamic so really what i imagine from here we're working on all these things now is protein protein interaction uh protein ligand binding so reacting with molecules um then you want to get build up to pathways and then eventually a virtual cell that's my dream uh maybe in the next 10 years and i've been talking actually to a lot of biologists friends of mine paul nurse who runs the qrik institute amazing biologist nobel prize winning biologist we've been discussing for 20 years now virtual cells could you build a virtual simulation of a cell and if you could that would be incredible for biology and disease discovery because you could do loads of experiments on the virtual cell and then only at the last stage validate it in the wet lab so you could you know in terms of the search space of discovering new drugs you know it takes 10 years roughly to go from uh uh to to go from uh you know identifying a target to uh having a drug candidate um maybe that could be shortened to you know by an order of magnitude with if you could do most of that that that work in silico so in order to get to a virtual cell we have to build up uh uh understanding of different parts of biology and the interactions and and um so you know every every few years we talk about this with i talked about this with paul and then finally last year after alpha fault i said now is the time we can finally go for it and and alpha falls the first proof point that this might be possible uh and he's very excited when we have some collaborations with his with his lab they're just across the road actually from us as you know wonderful being here in king's cross with the quick institute across the road and um and i think the next steps you know i think there's going to be some amazing advances in biology built on top of things like alpha fold uh we're already seeing that with the community doing that after we've open sourced it and released it um and uh you know i also i often say that i think uh if you think of mathematics is the perfect description language for physics i think ai might be end up being the perfect description language for biology because biology is so messy it's so emergent so dynamic and complex um i think i find it very hard to believe we'll ever get to something as elegant as newton's laws of motions to describe a cell right it's just too complicated um so i think ai is the right tool for this you have to uh you have to start at the basic building blocks and use ai to run the simulation for all those building blocks so have a very strong way to do prediction of what given these building blocks what kind of biology how the the function and the evolution of that biological system it's almost like a cellular automata you have to run you can't analyze it from a high level you have to take the basic ingredients figure out the rules yeah and let it run but in this case the rules are very difficult to figure out yes yes learn them that's exactly it so it's the biology is too complicated to figure out the rules it's it's it's too emergent too dynamic say compared to a physics system like the motion of a planet yeah right and and so you have to learn the rules and that's exactly the type of systems that we're building so you you mentioned you've open sourced alpha fold and even the data involved to me personally also really happy and a big thank you for open sourcing mijoko uh the physics simulation engine that's that's often used for robotics research and so on so i think that's a pretty gangster move uh so what what's the what's i mean this uh very few companies or people would do that kind of thing what's the philosophy behind that you know it's a case-by-case basis and in both those cases we felt that was the maximum benefit to humanity to do that and and the scientific community in one case the robotics uh physics community with mojoco so purchased it we purchased to obs we purchased it for the express principle to open source it so um so you know i hope people appreciate that it's great to hear that you do and then the second thing was and mostly we did it because the person building it is uh uh would not it was not able to cope with supporting it anymore because it was it got too big for him his amazing professor uh who who built it in the first place so we helped him out with that and then with alpha folds even bigger i would say and i think in that case we decided that there were so many downstream applications of alpha fold um that we couldn't possibly even imagine what they all were so the best way to accelerate uh drug discovery and also fundamental research would be to to um give all that data away and and and the and the and the system itself um you know it's been so gratifying to see what people have done that within just one year which is a short amount of time in science and uh it's been used by over 500 000 researchers have used it we think that's almost every biologist in the world i think there's roughly 500 000 biologists in the world professional biologists have used it to to look at their proteins of interest we've seen amazing fundamental research done so a couple of weeks ago front cover there was a whole special issue of science including the front cover which had the nuclear pore complex on it which is one of the biggest proteins in the body the nuclear poor complex is a protein that governs all the nutrients going in and out of your cell nucleus so they're like little hole gateways that open and close to let things go in and out of your cell nucleus so they're really important but they're huge because they're massive doughnut rings shaped things and they've been looking to try and figure out that structure for decades and they have lots of you know experimental data but it's too low resolution there's bits missing and they were able to like a giant lego jigsaw puzzle use alpha fold predictions plus experimental data and combined those two independent sources of information uh actually four different groups around the world were able to put it together the sec more or less simultaneously using alpha fault predictions so that's been amazing to see and pretty much every pharma company every drug company executive i've spoken to has said that their teams are using alpha fold to accelerate whatever drugs uh uh they're trying to discover so i think the knock-on effect has been enormous in terms of uh the impact that uh alpha-fold has made and it's probably bringing in it's creating biologists it's bringing more people into the field um both on the excitement and both on the technical skills involved and um it's almost like uh a gateway drug to biology yes it is you get more computational people involved too hopefully and and i think for us you know the next stage as i said you know in future we have to have other considerations too we're building on top of alpha fold and these other ideas i discussed with you about protein protein interactions and and genomics and other things and not everything will be open source some of it will will do commercially because that will be the best way to actually get the most resources and impact behind it in other ways some other projects will do non-profit style um and also we have to consider for future things as well safety and ethics as well like but you know synthetic biology there are you know there is dual use and we have to think about that as well with alpha fold we you know we consulted with 30 different bioethicists and and other people expert in this field to make sure it was safe before um we released it so there'll be other considerations in future but for right now you know i think alpha fold is a kind of a gift from us to to to the scientific community so i'm pretty sure that something like alpha fold uh would be part of nobel prizes in the future but us humans of course are horrible with credit assignment so we'll of course give it to the humans do you think there will be a day when ai system can't be denied that it earned that nobel prize do you think we'll see that in 21st century it depends what type of ais we end up building right whether they're um you know goal seeking agents who specifies the goals uh who comes up with the hypotheses who you know who determines which problems to tackle right so i think it's about an announcement yeah so it's announcing the results exactly as part of it um so i think right now of course it's it's it's it's amazing human ingenuity that's behind these systems and then the system in my opinion is just a tool you know it'd be a bit like saying with galileo and his telescope you know the ingenuity the the the credit should go to the telescope i mean it's clearly galileo building the tool which he then uses so i still see that in the same way today even though these tools learn for themselves um they're i think i think of things like alpha fold and that the things we're building as the ultimate tools for science and for acquiring new knowledge to help us as scientists acquire new knowledge i think one day there will come a point where an ai system may solve or come up with something like general relativity of its own bat not just by averaging everything on the internet or averaging everything on pubmed although that would be interesting to see what that would come up with um so that to me is a bit like our earlier debate about creativity you know inventing go rather than just coming up with a good go move and um so i think uh solving i think to to you know if we wanted to give it the credit of like a nobel type of thing then it would need to invent go uh and sort of invent that new conjecture out of the blue um rather than being specified by the the human scientists or the human creators so i think right now that's it's definitely just a tool although it is interesting how far you get by averaging everything on the internet like you said because you know a lot of people do see science as you're always standing on the shoulders of giants and the question is how much are you really reaching up above the shoulders of giants maybe it's just assimilating different kinds of results of the past with ultimately this new perspective that gives you this breakthrough idea but that idea may not be novel in the way that we can't be already discovered on the internet maybe the nobel prizes of the next 100 years are already all there on the internet to be discovered they could be they could be i mean i think um this is one of the big mysteries i think is that uh uh i i first of all i believe a lot of the big new breakthroughs that are going to come in the next few decades and even in the last decade are going to come at the intersection between different subject areas where um there'll be some new connection that's found between what seemingly with disparate areas and and one can even think of deep mind as i said earlier as a sort of interdisciplinary between neuroscience ideas and ai engineering ideas uh originally and so um so i think there's that and then one of the things we can't imagine today is and one of the reasons i think people we were so surprised by how well large models worked is that actually it's very hard for our human minds our limited human minds to understand what it would be like to read the whole internet right i think we can do a thought experiment and i used to do this of like well what if i read the whole of wikipedia what would i know and i think our minds can just about comprehend maybe what that would be like but the whole internet is beyond comprehension so i think we just don't understand what it would be like to be able to hold all of that in mind potentially right and then active at once and then maybe what are the connections that are available there so i think no doubt there are huge things to be discovered just like that but i do think there is this other type of creativity of true spark of new knowledge new idea never thought before about can't be average from things that are known um that really of course everything come you know nobody creates in a vacuum so there must be clues somewhere but just a unique way of putting those things together i think some of the greatest scientists in history have displayed that i would say although it's very hard to know going back to their time what was exactly known uh when they came up with those things although you're making me really think because just the thought experiment of deeply knowing a hundred wikipedia pages i don't think i can um i've been really impressed by wikipedia for for technical topics yeah so if you know a hundred pages or a thousand pages i don't think who can visually truly comprehend what's what kind of intelligence that is that's a pretty powerful intelligence if you know how to use that and integrate that information correctly yes i think you can go really far you can probably construct thought experiments based on that like simulate different ideas so if this is true let me run this thought experiment then maybe this is true it's not really invention it's like just taking literally the knowledge and using it to construct a very basic simulation of the world i mean some argue it's romantic in part but einstein would do the same kind of things with a thought experiment yeah one could imagine doing that systematically across millions of wikipedia pages plus pubmed all these things i think there are many many things to be discovered like that they're hugely useful you know you could imagine and i want us to do some of those things in material science like room temperature superconductors or something on my list one day i'd like to like you know have an ai system to help build better optimized batteries all of these sort of mechanical things mr i think a systematic sort of search could be uh guided by a model could be um could be extremely powerful so speaking of which you have a paper on nuclear fusion uh magnetic control of tokamak plasmas to deep reinforcement learning so you uh you're seeking to solve nuclear fusion with deep rl so it's doing control of high temperature plasmas can you explain this work and uh can ai eventually solve nuclear fusion it's been very fun last year or two and very productive because we've been taking off a lot of my dream projects if you like of things that i've collected over the years of areas of science that i would like to i think could be very transformative if we helped accelerate and uh really interesting problems scientific challenges in of themselves this is energy so energy yes exactly so energy and climate so we talked about disease and biology as being one of the biggest places i think ai can help with i think energy and climate uh is another one so maybe they would be my top two um and fusion is one one area i think ai can help with now fusion has many challenges mostly physics material science and engineering challenges as well to build these massive fusion reactors and contain the plasma and what we try to do whenever we go into a new field to apply our systems is we look for um we talk to domain experts we try and find the best people in the world to collaborate with um in this case in fusion we we collaborated with epfl in switzerland the swiss technical institute who are amazing they have a test reactor that they were willing to let us use which you know i double checked with the team we were going to use carefully and safely i was impressed they managed to persuade them to let us use it and um and it's a it's an amazing test reactor they have there and they try all sorts of pretty crazy experiments on it and um the the the what we tend to look at is if we go into a new domain like fusion what are all the bottleneck problems uh like thinking from first principles you know what are all the bottleneck problems that are still stopping fusion working today and then we look at we you know we get a fusion expert to tell us and then we look at those bottlenecks and we look at the ones which ones are amenable to our ai methods today yes right and and and then and would be interesting from a research perspective from our point of view from an ai point of view and that would address one of their bottlenecks and in this case plasma control was was perfect so you know the plasma it's a million degrees celsius something like that it's hotter than the sun and there's obviously no material that can contain it so they have to be containing these magnetic very powerful superconducting magnetic fields but the problem is plasma is pretty unstable as you imagine you're kind of holding a mini sun mini star in a reactor so you know you you kind of want to predict ahead of time what the plasma's going to do so you can move the magnetic field within a few milliseconds you know to to basically contain what it's going to do next so it seems like a perfect problem if you think of it for like a reinforcement learning prediction problem so uh you know your controller you're gonna move the magnetic field and until we came along you know they were they were doing it with with traditional operational uh research type of uh controllers uh which are kind of handcrafted and the problem is of course they can't react in the moment to something the plasma's doing that they have to be hard-coded and again knowing that that's normally our go-to solution is we would like to learn that instead and they also had a simulator of these plasma so there were lots of criteria that matched what we we like to to to use so can ai eventually solve nuclear fusion well so we with this problem and we published it in a nature paper last year uh we held the fusion that we held the plasma in specific shapes so actually it's almost like carving the plasma into different shapes and control and hold it there for the record amount of time so um so that's one of the problems of of fusion sort of um solved so i have a controller that's able to no matter the shape uh contain it continue yeah contain it and hold it in structure and there's different shapes that are better for for the energy productions called droplets and and and so on so um so that was huge and now we're looking we're talking to lots of fusion startups to see what's the next problem we can tackle uh in the fusion area so another fascinating place in a paper title pushing the frontiers of density functionals by solving the fractional electron problem so you're taking on modeling and simulating the quantum mechanical behavior of electrons yes um can you explain this work and can ai model and simulate arbitrary quantum mechanical systems in the future yeah so this is another problem i've had my eye on for you know a decade or more which is um uh sort of simulating the properties of electrons if you can do that you can basically describe how elements and materials and substances work so it's kind of like fundamental if you want to advance material science um and uh you know we have schrodinger's equation and then we have approximations to that density functional theory these things are you know are famous and um people try and write approximations to to these uh uh to these functionals and and kind of come up with descriptions of the electron clouds where they're gonna go how they're gonna interact when you put two elements together uh and what we try to do is learn a simulation uh uh learner functional that will describe more chemistry types of chemistry so um until now you know you can run expensive simulations but then you can only simulate very small uh molecules very simple molecules we would like to simulate large materials um and so uh today there's no way of doing that and we're building up towards uh building functionals that approximate schrodinger's equation and then allow you to describe uh what the electrons are doing and all materials sort of science and material properties are governed by the electrons and and how they interact so have a good summarization of the simulation through the functional um but one that is still close to what the actual simulation would come out with so what um how difficult is that to ask what's involved in that task is it running those those complicated simulations yeah and learning the task of mapping from the initial conditions and the parameters of the simulation learning what the functional would be yeah so it's pretty tricky and we've done it with um you know the nice thing is we there are we can run a lot of the simulations that the molecular dynamics simulations on our compute clusters and so that generates a lot of data so in this case the data is generated so we like those sort of systems and that's why we use games simulator generated data and we can kind of create as much of it as we want really um and just let's leave some you know if any computers are free in the cloud we just run we run some of these calculations right compute cluster calculation that's all the the free compute times used up on quantum mechanics quantum mechanics exactly simulations and protein simulations and other things and so um and so you know when you're not searching on youtube for video cat videos we're using those computers usefully and quantum chemistry that's the idea and and putting them for good use and then yeah and then all of that computational data that's generated we can then try and learn the functionals from that which of course are way more efficient once we learn the functional than um running those simulations would be do you think one day ai may allow us to do something like basically crack open physics so do something like travel faster than the speed of light my ultimate aim has always been with ai is um the reason i am personally working on ai for my whole life it was to build a tool to help us understand stand the universe so i wanted to and that means physics really and the nature of reality so um uh i don't think we have systems that are capable of doing that yet but when we get towards agi i think um that's one of the first things i think we should apply agi to i would like to test the limits of physics and our knowledge of physics there's so many things we don't know there's one thing i find fascinating about science and you know as a huge proponent of the scientific method as being one of the greatest ideas humanity's ever had and allowed us to progress with our knowledge but i think as a true scientist i think what you find is the more you find out uh you the more you realize we don't know and and i always think that it's surprising that more people don't aren't troubled you know every night i think about all these things we interact with all the time that we have no idea how they work time consciousness gravity life we can't i mean these are all the fundamental things of nature i think the way we don't really know what they are to live life we uh pin certain assumptions on them and kind of treat our assumptions as if they're a fact yeah that allows us to sort of box them off somehow yeah box them off but the reality is when you think of time you should remind yourself you should put it off the sh take it off the shelf and realize like no we have a bunch of assumptions there's still a lot of there's even now a lot of debate there's a lot of uncertainty about exactly what is time uh is there an error of time you know there's there's a lot of fundamental questions you can't just make assumptions about and maybe ai allows you to um not put anything on the shelf yeah not make any uh hard assumptions and really open it up and see what exactly i think we should be truly open-minded about that and uh exactly that not be dogmatic to a particular theory um it'll also allow us to build better tools experimental tools eventually that can then test certain theories that may not be testable today about as things about like what we spoke about at the beginning about the computational nature of the universe how one might if that was true how one might go about testing that right and and how much uh you know there are people who've conjectured people like uh scott aronson and others about uh you know how much information can a specific planck unit of space and time contain right so one might be able to think about testing those ideas if you had um ai helping you build some new exquisite uh uh experimental tools this is what i imagine you know many decades from now we'll be able to do and what kind of questions can be answered through running a simulation of of them so there's a bunch of physics simulations you can imagine that could be run in an uh so some kind of efficient way much like you're doing in the quantum simulation work and perhaps even the origin of life so figuring out how going even back before the work of alpha fault begins of how this whole whole thing um emerges from a rock yes from a static thing would what do you do you think ai will allow us to is that something you have your eye on it's trying to understand the origin of life first of all yourself what do you think um how the heck did life originate on earth yeah well maybe we i'll come to that in a second but i think the ultimate use of ai is to kind of use it to accelerate science to the maximum so i um think of it a little bit like the tree of all knowledge if you imagine that's all the knowledge there is in the universe to attain and we sort of barely scratched the surface of that so far in even though you know we've we've done pretty well since the enlightenment right as humanity and i think ai will turbo charge all of that like we've seen with alpha fold and i want to explore as much of that tree of knowledge as it's possible to do and um and i think that involves ai helping us with with with understanding or finding patterns um but also potentially designing and building new tools experimental tools so i think that's all uh and also running simulations and learning simulations all of that we're already we're sort of doing it at a at a at a you know baby steps level here but i can imagine that in in in the decades to come as uh you know what's the full flourishing of of that line of thinking it's going to be truly incredible i would say if i visualize this tree of knowledge something tells me that that knowledge for tree of knowledge for humans is much smaller in the set of all possible trees of knowledge is actually quite small giving our cognitive limitations limited cognitive capabilities that even with with the tools we build we still won't be able to understand a lot of things and that's perhaps what non-human systems might be able to reach farther not just as tools but in themselves understanding something that they can bring back yeah it could well be so i mean there's so many things that that are sort of encapsulated in what you just said there i think first of all um there's there's two different things there's like what do we understand today yeah what could the human mind understand and what is the totality of what is there to be understood yeah right and so there's three consensus you know you can think of them as three larger and larger trees or exploring more branches of that tree and i i think with ai we're going to explore that whole lot now the question is is uh you know if you think about what is the totality of what could be understood um there may be some fundamental physics reasons why certain things can't be understood like what's outside the simulation or outside the universe maybe it's not understandable from within the universe so that's there may be some hard constraints like that you know it could be smaller constraints like um we think of space time as fundamental us our human brains are really used to this idea of a three-dimensional world with time right maybe but our tools could go beyond that they wouldn't have that limitation necessary they could think in 11 dimensions 12 dimensions whatever is needed but um we could still maybe understand that in several different ways the example i always give is um when i you know play gary kasparov at speed chess or we've talked about chess and these kind of things um you know he if you if you if you're reasonably good at chess you can um you can't come up with the move gary comes up with in his move but he can explain it to you and you can understand and you can understand post hoc the reasoning yeah so so i think there's a there's an even further level of like well maybe you couldn't have invented that thing but but using like going back to using language again perhaps you can understand and appreciate that same way like you can appreciate you know vivaldi or mozart or something without you can appreciate the beauty of that without um being able to to construct it yourself right invent the music yourself so i think we see this in all forms of life so it'll be that times you know a million but it would you can imagine also one sign of intelligence is the ability to explain things clearly and simply right you know people like richard feynman another one of my all-time heroes used to say that right if you can't you know if you can explain it something simply then you that's a that's the best sign a complex topic simply then that's one of the best signs of you understanding it yeah so i can see myself talking trash in the ai system in that way yes uh it gets frustrated how dumb i am and trying to explain something to me i was like well that means you're not intelligent because if you were intelligent you'd be able to explain it simply yeah of course you know there's also the other option of course we could enhance ourselves and and without devices we we are already sort of symbiotic with our compute devices right with our phones and other things and you know this stuff like neural link and etc that could be could could advance that further um so i think there's lots of lots of really amazing possibilities uh that i could foresee from here well let me ask you some wild questions so out there looking for friends do you think there's a lot of alien civilizations out there so i guess this also goes back to your origin of life question too because i think that that's key um my personal opinion looking at all this and and you know it's one of my hobbies physics i guess so so i i you know it's something i think about a lot and talk to a lot of experts on and and and read a lot of books on and i think my feeling currently is that that we are alone i think that's the most likely scenario given what what evidence we have so um and the reasoning is i think that you know we've tried since uh things like seti program and i guess since the dawning of the the space age uh we've you know had telescopes open radio telescopes and other things and if you think about um and try to detect signals now if you think about the evolution of humans on earth we could have easily been um a million years ahead of our time now or million years behind quite easily with just some slightly different quirk thing happening hundreds of thousands years ago uh you know things could have been slightly different if the bto had hit the dinosaurs a million years earlier maybe things would have evolved uh we'd be a million years ahead of where we are now so what that means is if you imagine where humanity will be in a few hundred years let alone a million years especially if we hopefully um you know solve things like climate change and other things and we continue to flourish and we build things like ai and we do space traveling and all of the stuff that that humans have dreamed of for forever right and sci-fi has talked about forever um we will be spreading across the stars right and void neumann famously calculated you know it would only take about a million years if you send out von neumann probes to the nearest you know the nearest uh uh other solar systems and and then they built all they did was build two more versions of themselves and set those two out to the next nearest systems uh you you know within a million years i think you would have one of these probes in every system in the galaxy so it's not actually in cosmo cosmological time that's actually a very short amount of time so and and you know we've people like dyson have thought about constructing dyson spheres around stars to collect all the energy coming out of the star you know that there would be constructions like that would be visible across base um probably even across a galaxy so and then you know if you think about all of our radio television uh emissions that have gone out since since the you know 30s and 40s um imagine a million years of that and now hundreds of civilizations doing that when we opened our ears at the point we got technologically sophisticated enough in the space age we should have heard a cacophony of voices we should have joined that cacophony of voices and what we did we opened our ears and we heard nothing and many people who argue that there are aliens would say well we haven't really done exhaustive search yet and maybe we're looking in the wrong bands and and we've got the wrong devices and we wouldn't notice what an alien form was like to be so different to what we're used to but you know i'm not i don't really buy that that it shouldn't be as difficult as that like we i think we've searched enough there should be if it were everywhere if it was it should be everywhere we should see dyson's fears being put up sun's blinking in and out you know there should be a lot of evidence for those things and then there are other people argue well the sort of safari view of like well we're a primitive species still because we're not space faring yet and and and we're you know there's some kind of globe like universal rule not to interfere star trek rule but like look look we can't even coordinate humans to deal with climate change and we're one species what is the chance that of all of these different human civilization you know alien civilizations they would have the same priorities and and and and agree across you know these kind of matters and even if that was true and we were in some sort of safari for our own good to me that's not much different from the simulation hypothesis because what does it mean the simulation hypothesis i think in its most fundamental level it means what we're seeing is not quite reality right it's something there's something more deeper underlying it maybe computational now if we were in a if we were in a sort of safari park and everything we were seeing was a hologram and it was projected by the aliens or whatever that to me is not much different than thinking we're inside of another universe because we still can't see true reality right i mean there's there's other explanations it could be that the way they're communicating is just fundamentally different that we're too dumb to understand the much better methods of communication they have it could be i mean i mean it's silly to say but our own thoughts could be the methods by which they're communicating like the place from which our ideas writers talk about this like the muse yeah it sounds like very kind of uh wild but it could be thoughts it could be some interactions with our mind that we think are originating from us is actually something that uh is coming from other life forms elsewhere consciousness itself might be that it could be but i don't see any sensible argument to the why why would all of the alien species be using this way yes some of them will be more primitive they would be close to our level you know there would there should be a whole sort of normal distribution of these things right some would be aggressive some would be you know curious others would be very stoical and philosophical because you know maybe they're a million years older than us but it's not it shouldn't be like what i mean one one alien civilization might be like that communicating thoughts and others but i don't see why you know potentially the hundreds there should be would be uniform in this way right it could be a violent dictatorship that the the people the alien civilizations that uh become successful become um [Music] gain the ability to be destructive an order of magnitude more destructive but of course the the sad thought well either humans are very special we took a lot of leaps that arrived at what it means to be human yeah um there's a question there which was the hardest which was the most special but also if others have reached this level and maybe many others have reached this level the great filter that prevented them from going farther to becoming a multi-planetary species or reaching out into the stars and those are really important questions for us whether um whether there's other alien civilizations out there or not this is very useful for us to think about if we destroy ourselves how will we do it and how easy is it to do yeah well you know these are big questions and i've thought about these a lot but the the the interesting thing is that if we're if we're alone that's somewhat comforting from the great filter perspective because it probably means the great filters were are past us and i'm pretty sure they are so that by in going back to your origin of life question there are some incredible things that no one knows how happened like obviously the first life form from chemical soup that seems pretty hard but i would guess the multicellular i wouldn't be that surprised if we saw single single cell sort of life forms elsewhere uh bacteria type things but multicellular life seems incredibly hard that step of you know capturing mitochondria and then sort of using that as part of yourself you know when you've just eaten it would you say that's the biggest the most uh like if if you had to choose one sort of uh hitchhiker's got this galaxy one sentence summary of like oh those clever creatures did this that would be the multilist i think that was probably the one that that's the biggest i mean there's a great book called the 10 grand great inventions of evolution by nick lane and he speculates on 10 10 of these you know what could be great filters um i think that's one i think the the advent of of intelligence and and conscious intelligence and in order you know to us to be able to do science and things like that is huge as well i mean it's only evolved once as far as you know uh in in earth history so that would be a later candidate but there's certainly for the early candidates i think multicellular life forms is huge by the way what it's interesting to ask you if you can hypothesize about what is the origin of intelligence is it uh that we started cooking meat over fire is it that we somehow figured out that we could be very powerful when we start collaborating so cooperation between um our ancestors so that we can overthrow the alpha male uh what is it richard i talked to richard randham who thinks we're all just beta males who figured out how to collaborate to defeat the one the dictator the authoritarian alpha male um that control the tribe um is there other explanation did was there um 2001 space out any type of monolith yeah that came down to earth well i i think um i think all of those things you suggest for good candidates fire and and and cooking right so that's clearly important you know energy efficiency yeah cooking our meat and then and then being able to to to be more efficient about eating it and getting it consuming the energy um i think that's huge and then utilizing fire and tools i think you're right about the the tribal cooperation aspects and probably language as part of that yes um because probably that's what allowed us to outcompete neanderthals and and perhaps less cooperative species so um so that may be the case tool making spears axes i think that let us i mean i think it's pretty clear now that humans were responsible for a lot of the extinctions of megafauna um especially in in the americas when humans arrived so uh you can imagine once you discover tool usage how powerful that would have been and how scary for animals so i think all of those could have been explanations for it you know the interesting thing is that it's a bit like general intelligence too is it's very costly to begin with to have a brain and especially a general purpose brain rather than a special purpose one because the amount of energy our brains use i think it's like 20 of the body's energy and it's it's massive and when you're thinking chest one of the funny things that that we used to say is as much as a racing driver uses for a whole you know formula one race if just playing a game of you know serious high level chess which you you know you wouldn't think just sitting there um because the brain's using so much uh energy so in order for an animal an organism to justify that there has to be a huge payoff and the problem with with half a brain or half you know intelligence saying iqs of you know of like a monkey brain it's it's not clear you can justify that evolutionary until you get to the human level brain and so but how do you how do you do that jump it's very difficult which is why i think it's only been done once from the sort of specialized brains that you see in animals to this sort of general purpose chewing powerful brains that humans have um and which allows us to invent the modern modern world um and uh you know it takes a lot to to cross that barrier and i think we've seen the same with ai systems which is that uh maybe until very recently it's always been easier to craft a specific solution to a problem like chess than it has been to build a general learning system that could potentially do many things because initially uh that system will be way worse than uh less efficient than the specialized system so one of the interesting quirks of the human mind of this evolved system is that it appears to be conscious this thing that we don't quite understand but it seems very very special its ability to have a subjective experience that it feels like something to eat a cookie the deliciousness of it or see a color and that kind of stuff do you think in order to solve intelligence we also need to solve consciousness along the way do you think agi systems need to have consciousness in order to be truly intelligent yeah we thought about this a lot actually and um i think that my guess is that consciousness and intelligence are double dissociable so you can have one without the other both ways and i think you can see that with consciousness in that i think some animals and pets if you have a pet dog or something like that you can see some of the higher animals and dolphins things like that are uh have self-awareness and uh very sociable um seem to dream um you know those kinds of a lot of the traits one would regard as being kind of conscious and self-aware um and but yet they're not that smart right uh so they're not that intelligent by by say iq standards or something like that yeah it's also possible that our understanding of intelligence is flawed like putting an iq to it sure maybe the thing that a dog can do is actually gone very far along the path of intelligence and we humans are just able to play chess and maybe write poems right but if we go back to the idea of agi and general intelligence you know dogs are very specialized right most animals are pretty specialized they can be amazing at what they do but they're like kind of elite sports sports people or something right so they do one thing extremely well because their entire brain is is optimized they have somehow convinced the entirety of the human population to feed them and service them so in some way they're controlling yes exactly well we co-evolved to some crazy degree right uh including the the way the dogs you know even even wag their tails and twitch their noses right we find we're finding inexorably cute yeah um but i think um you can also see intelligence on the other side so systems like artificial systems that are amazingly smart at certain things like maybe playing go and chess and other things but they don't feel at all in any shape or form conscious in the way that you know you do to me or i do to you and um and i think actually building ai is uh these intelligent constructs uh is one of the best ways to explore the mystery of consciousness to break it down because um we're going to have devices that are pretty smart at certain things or capable of certain things but potentially won't have any semblance of self-awareness or other things and in fact i would advocate if there's a choice building systems in the first place ai systems that are not conscious to begin with uh are just tools um until we understand them better and the capabilities better so on that topic just not as the ceo of deep mind just as a human being let me ask you about this one particular anecdotal evidence of the google engineer who made a comment or believed that there's some aspect of a language model the lambda language model that exhibited sentience so you said you believe there might be a responsibility to build systems that are not essential and this experience of a particular engineer i think i'd love to get your general opinion on this kind of thing but i think it will happen more and more and more which uh not when engineers but when people out there that don't have an engineering background start interacting with increasingly intelligent systems we anthropomorphize them they they start to have deep impactful um interactions with us in a way that we miss them yeah when they're gone and we sure feel like they're living entities self-aware entities and maybe even we project sentience onto them so what what's your thought about this particular uh system was is uh have you ever met a language model that's sentient no i no no what do you make of the case of when you kind of feel that there's some elements of sentience to this system yeah so this is you know an interesting question and uh uh obviously a very fundamental one so first thing to say is i think that none of the systems we have today i i would say even have one iota of uh semblance of consciousness or sentience that's my personal feeling interacting with them every day so i think that's way premature to be discussing what that engineer talked about i appreciate i think at the moment it's more of a projection of the way our own minds work which is to see uh uh uh sort of purpose and direction in almost anything that we you know our brains are trained to interpret uh agency basically in things uh even the an inanimate thing sometimes and of course with a a language system because language is so fundamental to intelligence that's going to be easy for us to anthropomorphize that i mean back in the day even the first uh you know the dumbest sort of template chatbots ever eliza and and and and the ilk of the original chatbots back in the 60s fooled some people under certain circumstances right they pretended to be a psychologist so just basically rabbit back to you the same question you asked it back to you um and uh some people believe that so i don't think we can this is why i think the turing test is a little bit flawed as a formal test because it depends on the sophistication of the of the judge um whether or not they are qualified to make that distinction so i think we should uh talk to you know the the top philosophers about this people like daniel dennett and uh david chalmers and others who've obviously thought deeply about consciousness of course consciousness itself hasn't been well there's no agreed definition if i was to you know uh speculate about that uh you know i kind of the definite the working definition i like is it's the way information feels when you know it gets processed i think maybe max tegmark came up with that i like that idea i don't know if it helps us get towards any more operational thing but but it's it's it's i think it's a nice way of viewing it um i think we can obviously see from neuroscience certain prerequisites that are required like self-awareness i think is necessary but not sufficient component this idea of a self and other and set of coherent preferences that are coherent over time you know these things are maybe memory um these things are probably needed for a sentient or conscious being um but but the reason that the difficult thing i think for us when we get and i think this is a really interesting philosophical debate is when we get closer to agi and and and you know and and much more powerful systems than we have today um how are we going to make this judgment and one way which is the turing test is sort of a behavioral judgment is is the system exhibiting all the behaviors um that a human sentient uh or a sentient being would would would exhibit um is it answering the right questions is it saying the right things is it indistinguishable from a human um and so on but i think there's a second thing that makes us as humans regard each other as sentient right why do we why do we think this and i debated this with daniel dennett and i think there's a second reason that's often overlooked which is that we're running on the same substrate right so if we're exhibiting the same behavior uh more or less as humans and we're running on the same you know carbon-based biological substrate the squishy you know few pounds of of flesh in our skulls then the most parsimonious i think explanation is that you're feeling the same thing as i'm feeling right but we will never have that second part the substrate equivalence with a machine right so we will have to only judge based on the behavior and i think the substrate equivalence is a critical part of why we make assumptions that we're conscious and in fact even with with animals high-level animals why we think they might be because they're exhibiting some of the behaviors we would expect from a sentient animal and we know they're made of the same things biological neurons so we're gonna have to come up with explanations uh or models of the gap between substrate differences between machines and humans did to get anywhere beyond the behavioral but to me sort of the practical question is very interesting and very important when you have millions perhaps billions of people believing that you have ascension ai believing what that google engineer believed which i just see is an obvious very near-term future thing certainly on the path to agi how does that change the world what's the responsibility of the ai system to help those millions of people and also what's the ethical thing because you can you can make a lot of people happy by creating a meaningful deep experience with a system that's faking it before it makes it yeah and i i don't is a are we the right or who is to say what's the right thing to do should ai always be tools like why why why are we constraining ais to always be tools as opposed to friends yeah i think well i mean these are you know you know fantastic questions and and also critical ones and we've been thinking about this uh since the start of d minor before that because we planned for success and you know how how you know you know however remote that looked like back in 2010 and we've always had sort of these ethical considerations as fundamental at deepmind um and my current thinking on the language models is and and large models is they're not ready we don't understand them well enough yet um and you know in terms of analysis tools and and guard rails what they can and can't do and so on to deploy them at scale because i think you know there are big still ethical questions like should an ai system always announce that it is an ai system to begin with probably yes um it what what do you do about answering those philosophical questions about the feelings uh people may have about ai systems perhaps incorrectly attributed so i think there's a whole bunch of research that needs to be done first um to responsibly before you know you can responsibly deploy these systems at scale that would be at least be my current position over time i'm very confident we'll have those tools like interpretability questions um and uh analysis questions uh and then with the ethical quandary you know i think there it's important to uh look beyond just science that's why i think philosophy social sciences even theology other things like that come into it where um what you know arts and humanities what what does it mean to be human and the spirit of being human and and to enhance that and and the human condition right and allow us to experience things we could never experience before and improve the the overall human condition and humanity overall you know get radical abundance solve many scientific problems solve disease so this is the era i think this is the amazing era i think we're heading into if we do it right um but we've got to be careful we've already seen with things like social media how dual use technologies can be misused by firstly by by by bad you know p bad actors or naive actors or crazy actors right so there's that set of just the common or garden misuse of existing dual use technology and then of course there's an additional uh uh thing that has to be overcome with ai that eventually it may have its own agency so it could be uh uh uh good or bad in in in of itself so i think these questions have to be approached very carefully um using the scientific method i would say in terms of hypothesis generation careful control testing not live a b testing out in the world because with powerful dual technologies like ai if something goes wrong it may cause you know a lot of harm before you can fix it um it's not like a you know an imaging app or game app where you know that if if something goes wrong it's relatively easy to fix and and the harm's relatively small so i think it comes with you know the the the usual uh cliche of like with a lot of power comes a lot of responsibility and i think that's the case here with things like ai given the the enormous opportunity in front of us and i think we need a lot of voices uh and as many inputs into things like the design of the systems and the values they should have and what goals should they be put to um i think as wide a group of voices as possible beyond just the technologies is needed uh to input into that and to have a say in that especially when it comes to deployment of these systems which is when the rubber really hits the road it really affects the general person in the street rather than fundamental research and that's why i say i think as a first step it would be better if we have the choice to build these systems as tools to give and i'm not saying that it should never they should never go beyond tools because of course the potential is there um for it to go way beyond just tools uh but um i think that would be a good first step in order for us to you know allow us to carefully experiment understand what these things can do so the leap between tool to sentient entity being is one should take very careful yes let me ask a dark personal question so you're one of the most brilliant people in the ag community also one of the most kind and uh if i may say sort of loved people in the community that said uh creation of a super intelligent ai system would be one of the most powerful things in the world tools or otherwise and again as the old saying goes power corrupts and absolute power crops absolutely you are likely to be one of the people i would say probably the most likely person to be in the control of such a system do you think about the corrupting nature of power when you talk about these kinds of systems that um as all dictators and people have caused atrocities in the past always think they're doing good but they don't do good because the powers polluted their mind about what is good and what is evil do you think about this stuff or are we just focused on language modeling no i think about them all the time and you know i think what are the defenses against that i think one thing is to remain very grounded and sort of humble uh no matter what you do or achieve and i try to do that i might you know my best friends are still my set of friends from my undergraduate cambridge days my family's you know and and friends are very important um i've always i think trying to be a multi-disciplinary person it helps to keep you humble because no matter how good you are at one topic someone will be better than you at that and it and always relearning a new topic again from scratch is or new field is very humbling right so for me that's been biology over the last five years you know huge area topic and and and it's been and i just love doing that but it helps to keep you grounded like it keeps you open-minded and and then the other important thing is to have a really good amazing set of uh people around you at your company or your organization who are also very ethical and grounded themselves and help to keep you that way and then ultimately just to answer your question i hope we're going to be a big part of of birthing ai and that being the greatest benefit to humanity of any tool or technology ever and and getting us into a world of radical abundance and curing diseases and and and solving many of the big challenges we have in front of us and then ultimately you know help the ultimate flourishing of humanity to travel the stars and find those aliens if they are there and if they're not there find out why they're not there what what is going on here in the universe um this is all to come and and that's what i've always dreamed about um but i don't think i think ai is too big an idea it's not going to be uh there'll be a certain set of pioneers who get there first i hope we're in the vanguard so we can influence how that goes and i think it matters who builds who which which cultures they come from and what values they have uh the builders of ai systems because i think even though the ai system is going to learn for itself most of its knowledge there'll be a residue in the system of the culture and the values of the creators of the system um and there's interesting questions to to discuss about that geopolitically you know different cultures as we're in a more fragmented world than ever unfortunately i think in terms of global cooperation we see that in things like climate where we can't seem to get our act together uh globally to cooperate on these pressing matters i hope that will change over time perhaps you know if we get to an era of radical abundance we don't have to be so competitive anymore maybe we can be more cooperative if resources aren't so scarce it's true that in terms of power corrupting and leading to destructive things it seems that some of the atrocities of the past happen when there's a significant constraint on resources i think that's the first thing i don't think that's enough i think scarcity is one thing that's led to competition destruct you know sort of zero sum game thinking i would like us to all be in a positive sum world and i think for that you have to remove scarcity i don't think that's enough unfortunately to get world peace because there's also other corrupting things like wanting power over people and this kind of stuff which is not necessarily satisfied by by just abundance but i think it will help um and i think uh but i think ultimately ai is not going to be run by any one person or one organization i think it should belong to the world belong to humanity um and i think maybe many there'll be many ways this will happen and ultimately um everybody should have a say in that do you have advice for uh young people in high school and college maybe um if they're interested in ai or interested in having a big impact on the world what they should do to have a career they can be proud of her to have a life they can be proud of i love giving talks to the next generation what i say to them is actually two things i i think the most important things to learn about and to find out about when you're when you're young is what are your true passions is first of all there's two things one is find your true passions and i think you can do that by the way to do that is to explore as many things as possible when you're young and you you have the time and you and you can take those risks um i would also encourage people to look at the finding the connections between things in a unique way i think that's a really great way to find a passion second thing i would say advise is know yourself so spend a lot of time understanding how you work best like what are the optimal times to work what are the optimal ways that you study um what are your how do you deal with pressure sort of test yourself in various scenarios and try and improve your weaknesses but also find out what your unique skills and strengths are and then hone those so then that's what will be your super value in the world later on and if you can then combine those two things and find passions that you're genuinely excited about that intersect with what your unique strong skills are then you're you know you're on to something incredible and and you know i think you can make a huge difference in the world so let me ask about know yourself this is fun this is fun quick questions about day in the life the perfect day the perfect productive day in the life of demise's house yeah maybe uh maybe these days you're um there's a lot involved yeah it may be a slightly younger you could focus on a demonstration project maybe um how early do you wake up are you night owl do you wake up early in the morning what are some interesting habits uh how many dozens of cups of coffees do you drink a day what's the computer um that you use uh what's the setup how many screens what kind of keyboard are we talking uh emacs vim are we talking something more modern so it's a bunch of those questions so maybe uh day in the life what what's the perfect day involved well these days it's quite different from say 10 20 years ago back 10 20 years ago it would have been you know a whole day of research individual research or programming doing some experiment neuroscience computer science experiment reading lots of research papers uh and then perhaps at night time you know um reading science fiction books or or uh playing uh some games but lots of focus so like deep focused work on whether it's uh programming or reading research paper yes yes so that would be a lot of debrief you know uh focused work these days for the last sort of i guess you know five to ten years i've actually got quite a structure that works very well for me now which is that um i'm a night complete night out always have been so i optimized for that so you know i get you know i basically do a normal day's work get into work about 11 o'clock and sort of do work to about seven uh in the office uh and i will arrange back-to-back meetings for the entire time of that and with as many me as many people as possible so that's my collaboration management part of the day then i go home uh spend time with the family and friends uh have dinner uh uh relax a little bit and then i start a second day of work i call it my second day work around 10 pm 11 p.m and that's the time till about the small hours of the morning four five in the morning where i will do my thinking and reading a research writing research papers um sadly don't have time to code anymore but it's it's not efficient to to do that uh these days uh given the amount of time i have um but that's when i do you know maybe do the long kind of stretches of of thinking and planning and then probably you know using using email or other things i would set i would fire off a lot of things to my team to deal with the next morning for actually thinking about this overnight we should go for this project or arrange this meeting the next day when you're thinking through a problem are you talking about a sheet of paper or the patent pen is there some independent structure yeah i like processes i still like pencil and paper best for working out things but um these days it's just so efficient to read research papers just on the screen i still often print them out actually i still prefer to mark out things and i find it goes into the brain quick better and sticks in the brain better when you're you're still using physical pen and pencil and paper so you take notes with the i have lots of nodes electronic ones and also um whole stacks of notebooks that um that i use at home yeah on some of these most challenging next steps for example stuff none of us know about that you're working on you're thinking there's some deep thinking required there right like what what is the right problem what is the right approach because you're gonna have to invest a huge amount of time for the whole team they're going to have to pursue this thing what's the right way to do it is is rl going to work here or not yes um what's the right thing to try what's the right benchmark to use yeah we need to construct a benchmark from scratch all those kinds of things yes so i think all those kind of things in the night time phase but also much more um i find i've always found the quiet hours of the morning um when everyone's asleep it's super quiet outside um i love that time it's the golden hours like between like one and three in the morning um put some music on some inspiring music on and then um think these deep thoughts so that's when i would read you know my philosophy books and uh spinoza's my you know recent favorite can all these things i i i you know read about a great uh uh a scientist of history how they did things how they thought things so that's when you do all your create that's when i do all my creative thinking and it's good i think i think people recommend you know you do your your your sort of creative thinking in one block and the way i organize the day that way i don't get interrupted because obviously no one else is up uh at those times so i can i can go uh you know as i can sort of get super deep and super into flow the other nice thing about doing it night time wise is if i'm really uh onto something or i've i've got really deep into something i can choose to extend it and i'll go into six in the morning whatever and then i'll just pay for it the next day yeah cause i'll be a bit tired and i won't be my best but that's fine i can decide looking at my schedule the next day that and given where i'm at with this particular thought or creative idea that i'm going to pay that cost the next day so so i think that's that's more flexible than morning people who do that you know they get up at four in the morning they can also do those golden hours then but then their start of their schedule day starts at breakfast you know 8 a.m whatever they have their first meeting and then it's hard you have to reschedule a day if you're in flow yeah that's going to be i don't have to see that special threat of thoughts that the you're too passionate about you that this is where some of the greatest ideas could potentially come is when you just lose yourself late into yeah and for the meetings i mean you're loading in really hard problems in a very short amount of time so you have to do some kind of first principles thinking here it's like what's the problem what's the state of things what's the right next step yes you have to get really good at context switching which is one of the hardest things because especially as we do so many things if you include all the scientific things we do scientific fields we're working in these are entire you know complex fields in themselves and you you have to sort of keep up to abreast of that but i enjoy it i've always been uh a sort of generalist in a way and that's actually what happened with my games career after chess i i i one of the reasons i stopped playing chess was that i got into computers but also i started realizing there were many other great games out there to play too so i've always been that way inclined multidisciplinary and there's too many interesting things in in the world to spend all your time just on one thing so you mentioned spinoza gotta ask the big ridiculously big question about life what do you think is the meaning of this whole thing uh why are we humans here you've already mentioned that perhaps the universe created us is that why you think we're here to understand how the universe yeah i think my answer to that would be and at least the the life i'm living is to gain and uh to gain and understand the knowledge you know to gain knowledge and understand the universe that's what i think uh i can't see any higher purpose than that if you think back to the classical greeks you know the virtue of gaining knowledge it's uh i think it's that it's one of the few true virtues is to understand um the world around us and the context and humanity better and um and i think if you do that you become more compassionate and more understanding yourself and and more tolerant and all these i think all these other things may flow from that and to me you know understanding the nature of reality that is the biggest question what is going on here is sometimes the colloquial way i say what is really going on here uh it's so mysterious i feel like we're in some huge puzzle and and it's but the world is also seems to be the universe seems to be structured in a way you know why is it structured in a way that science is even possible that you know methods the scientific method works things are repeatable um it feels like it's almost structured in a way to be conducive to gaining knowledge so i feel like and you know why should computers be even possible isn't that amazing that uh computational electronic devices can can can can be possible and they're made of sand our most you know common element that we have you know silicon that on the on the earth's crust they could be made of diamond or something then we would have only had one computer yeah right so it's a lot of things are kind of slightly suspicious to me it sure as heck sounds this puzzle sure sounds like something we talked about earlier what it takes to to design a game that's really fun to play for prolonged periods of time and it does seem like this puzzle like you mentioned the more you learn about it the more you realize how little you know so it humbles you but excites you by the possibility of learning more it's one heck of a one heck of a puzzle we got going on here um so like i mentioned of all the people in the world you're very likely to be the one who creates the agi system um that achieves human level intelligence and goes beyond it so if you got a chance and very well you could be the person that goes into the room with the system and have a conversation maybe you only get to ask one question if you do what question would you ask her i would probably ask um what is the true nature of reality i think that's the question i don't know if i'd understand the answer because maybe it would be 42 or something like that but um that's the question i would ask and then there'll be a deep sigh from the systems like all right how do i explain to the excuse me exactly all right let me i don't have time to explain uh maybe i'll draw you a picture that it is i mean how do you even begin um to answer that question well i think it would um what would you what would you think the answer could possibly look like i think it could it could start looking like uh uh more fundamental explanations of physics would be the beginning you know more careful specification of that taking you walking us through by the hand as to what one would do to maybe prove those things out maybe giving you glimpses of what things you totally missed in the physics of today exactly just here here's glimpses of no like there's a much uh a much more elaborate world or a much simpler world or something a much deeper maybe simpler explanation yes of things right than the standard model of physics which we know doesn't work but we still keep adding to so um and and that's how i think the beginning of an explanation would look and it would start encompassing many of the mysteries that we have wondered about for thousands of years like you know consciousness uh life and gravity all of these things yeah giving us a glimpses of explanations for those things yeah well um damas dear one of the special human beings in this giant puzzle of ours and it's a huge honor that you would take a pause from the bigger puzzle to solve this small puzzle of a conversation with me today it's truly an honor and a pleasure thank you thank you i really enjoyed it thanks lex thanks for listening to this conversation with demas establish to support this podcast please check out our sponsors in the description and now let me leave you with some words from edskar dykstra computer science is no more about computers than astronomy is about telescopes thank you for listening and hope to see you next time\n"
          ]
        }
      ]
    },
    {
      "cell_type": "markdown",
      "source": [
        "- In `transcript` we join all our extracted video text"
      ],
      "metadata": {
        "id": "oxnD9okVxokS"
      }
    },
    {
      "cell_type": "code",
      "source": [
        "transcript_list"
      ],
      "metadata": {
        "colab": {
          "base_uri": "https://localhost:8080/"
        },
        "id": "sZeYiAxWt7SV",
        "outputId": "8ade381f-9cde-4a93-9bae-f877fd8284f3"
      },
      "execution_count": null,
      "outputs": [
        {
          "output_type": "execute_result",
          "data": {
            "text/plain": [
              "[{'text': 'generative AI is revolutionizing',\n",
              "  'start': 3.04,\n",
              "  'duration': 3.799},\n",
              " {'text': 'Industries across the', 'start': 5.04, 'duration': 4.639},\n",
              " {'text': 'globe from creating stunning visuals to',\n",
              "  'start': 6.839,\n",
              "  'duration': 5.401},\n",
              " {'text': 'Drafting and debugging code to analyzing',\n",
              "  'start': 9.679,\n",
              "  'duration': 5.321},\n",
              " {'text': 'reports to powering intelligent chat',\n",
              "  'start': 12.24,\n",
              "  'duration': 5.799},\n",
              " {'text': 'Bots generative AI is impacting every',\n",
              "  'start': 15.0,\n",
              "  'duration': 4.48},\n",
              " {'text': 'role in an', 'start': 18.039, 'duration': 3.881},\n",
              " {'text': 'organization but how do you master this',\n",
              "  'start': 19.48,\n",
              "  'duration': 5.0},\n",
              " {'text': 'Cutting Edge technology and become a',\n",
              "  'start': 21.92,\n",
              "  'duration': 5.72},\n",
              " {'text': \"generative AI expert in today's video we\",\n",
              "  'start': 24.48,\n",
              "  'duration': 4.84},\n",
              " {'text': 'will walk you through a step-by-step',\n",
              "  'start': 27.64,\n",
              "  'duration': 3.84},\n",
              " {'text': 'road map that covers everything you need',\n",
              "  'start': 29.32,\n",
              "  'duration': 7.16},\n",
              " {'text': \"to know let's Dive Right In step one\",\n",
              "  'start': 31.48,\n",
              "  'duration': 8.399},\n",
              " {'text': 'master Python and machine learning',\n",
              "  'start': 36.48,\n",
              "  'duration': 5.8},\n",
              " {'text': 'fundamentals to start your journey you',\n",
              "  'start': 39.879,\n",
              "  'duration': 3.921},\n",
              " {'text': 'need to learn about the essential',\n",
              "  'start': 42.28,\n",
              "  'duration': 4.16},\n",
              " {'text': 'components of python the go-to language',\n",
              "  'start': 43.8,\n",
              "  'duration': 5.32},\n",
              " {'text': 'for AI development learn about the',\n",
              "  'start': 46.44,\n",
              "  'duration': 5.72},\n",
              " {'text': 'various data structures in Python and',\n",
              "  'start': 49.12,\n",
              "  'duration': 5.919},\n",
              " {'text': 'data analysis libraries like numai',\n",
              "  'start': 52.16,\n",
              "  'duration': 5.16},\n",
              " {'text': 'pandas and mat', 'start': 55.039, 'duration': 4.601},\n",
              " {'text': 'clotet these libraries enable you to',\n",
              "  'start': 57.32,\n",
              "  'duration': 5.079},\n",
              " {'text': 'handle and analyze data', 'start': 59.64, 'duration': 4.76},\n",
              " {'text': 'efficiently this is critical for',\n",
              "  'start': 62.399,\n",
              "  'duration': 5.08},\n",
              " {'text': 'building AI systems then dive into',\n",
              "  'start': 64.4,\n",
              "  'duration': 3.92},\n",
              " {'text': 'machine', 'start': 67.479, 'duration': 3.441},\n",
              " {'text': 'learning understand and use key', 'start': 68.32, 'duration': 5.04},\n",
              " {'text': 'supervised and unsupervised machine',\n",
              "  'start': 70.92,\n",
              "  'duration': 5.0},\n",
              " {'text': 'learning algorithms to solve industry',\n",
              "  'start': 73.36,\n",
              "  'duration': 5.04},\n",
              " {'text': 'problems this foundational knowledge is',\n",
              "  'start': 75.92,\n",
              "  'duration': 5.04},\n",
              " {'text': 'essential for understanding how AI',\n",
              "  'start': 78.4,\n",
              "  'duration': 4.88},\n",
              " {'text': 'systems work and prepares you for',\n",
              "  'start': 80.96,\n",
              "  'duration': 7.04},\n",
              " {'text': 'complex topics ahead step two dive into',\n",
              "  'start': 83.28,\n",
              "  'duration': 5.64},\n",
              " {'text': 'deep', 'start': 88.0, 'duration': 3.0},\n",
              " {'text': 'learning now that you have built a',\n",
              "  'start': 88.92,\n",
              "  'duration': 4.92},\n",
              " {'text': \"strong Foundation it's time to level up\",\n",
              "  'start': 91.0,\n",
              "  'duration': 5.28},\n",
              " {'text': 'deep learning or neural networks are at',\n",
              "  'start': 93.84,\n",
              "  'duration': 4.76},\n",
              " {'text': 'the core of generative air tools like',\n",
              "  'start': 96.28,\n",
              "  'duration': 5.519},\n",
              " {'text': 'chat GPT and Del neural networks make it',\n",
              "  'start': 98.6,\n",
              "  'duration': 6.199},\n",
              " {'text': 'possible for systems to understand text',\n",
              "  'start': 101.799,\n",
              "  'duration': 3.881},\n",
              " {'text': 'and', 'start': 104.799, 'duration': 3.0},\n",
              " {'text': 'images some popular types of neural',\n",
              "  'start': 105.68,\n",
              "  'duration': 4.32},\n",
              " {'text': 'network architectures are artificial',\n",
              "  'start': 107.799,\n",
              "  'duration': 5.121},\n",
              " {'text': 'neural networks or Ann convolutional',\n",
              "  'start': 110.0,\n",
              "  'duration': 6.439},\n",
              " {'text': 'neural networks or CNN recurrent neural',\n",
              "  'start': 112.92,\n",
              "  'duration': 8.159},\n",
              " {'text': 'networks or RNN and transform commers',\n",
              "  'start': 116.439,\n",
              "  'duration': 6.96},\n",
              " {'text': 'start with a Anns which are used to work',\n",
              "  'start': 121.079,\n",
              "  'duration': 3.72},\n",
              " {'text': 'with structure', 'start': 123.399, 'duration': 4.961},\n",
              " {'text': 'data then move to CNN which are used to',\n",
              "  'start': 124.799,\n",
              "  'duration': 6.361},\n",
              " {'text': 'work with images next you can learn',\n",
              "  'start': 128.36,\n",
              "  'duration': 5.56},\n",
              " {'text': 'about rnns which are used to work with',\n",
              "  'start': 131.16,\n",
              "  'duration': 6.48},\n",
              " {'text': 'texts and time series data and finally',\n",
              "  'start': 133.92,\n",
              "  'duration': 5.64},\n",
              " {'text': 'learn about', 'start': 137.64, 'duration': 3.8},\n",
              " {'text': 'Transformers Transformers are the',\n",
              "  'start': 139.56,\n",
              "  'duration': 4.8},\n",
              " {'text': 'backbone of large language models in',\n",
              "  'start': 141.44,\n",
              "  'duration': 7.04},\n",
              " {'text': 'fact the T in Char GPT also stands for',\n",
              "  'start': 144.36,\n",
              "  'duration': 5.959},\n",
              " {'text': 'Transformers to work with these',\n",
              "  'start': 148.48,\n",
              "  'duration': 3.44},\n",
              " {'text': 'architectures you would need to learn',\n",
              "  'start': 150.319,\n",
              "  'duration': 3.56},\n",
              " {'text': 'some Frameworks which will make it easy',\n",
              "  'start': 151.92,\n",
              "  'duration': 4.959},\n",
              " {'text': 'for you to build and use various',\n",
              "  'start': 153.879,\n",
              "  'duration': 5.0},\n",
              " {'text': 'architectures I would recommend that you',\n",
              "  'start': 156.879,\n",
              "  'duration': 4.601},\n",
              " {'text': 'learn pie torch to build the models and',\n",
              "  'start': 158.879,\n",
              "  'duration': 5.161},\n",
              " {'text': 'hugging face to access some pre-trained',\n",
              "  'start': 161.48,\n",
              "  'duration': 4.679},\n",
              " {'text': 'models step', 'start': 164.04, 'duration': 4.52},\n",
              " {'text': 'three understand llms and build',\n",
              "  'start': 166.159,\n",
              "  'duration': 4.921},\n",
              " {'text': 'applications with prompt engineering and',\n",
              "  'start': 168.56,\n",
              "  'duration': 5.319},\n",
              " {'text': 'Lang chain Transformers paved the way',\n",
              "  'start': 171.08,\n",
              "  'duration': 4.799},\n",
              " {'text': 'for large language models to generate',\n",
              "  'start': 173.879,\n",
              "  'duration': 3.801},\n",
              " {'text': 'humanik text and', 'start': 175.879, 'duration': 4.481},\n",
              " {'text': 'images get a basic understanding of how',\n",
              "  'start': 177.68,\n",
              "  'duration': 6.119},\n",
              " {'text': 'LMS are built with Transformers the best',\n",
              "  'start': 180.36,\n",
              "  'duration': 6.36},\n",
              " {'text': 'way to use and understand llms is to',\n",
              "  'start': 183.799,\n",
              "  'duration': 5.201},\n",
              " {'text': 'work with generative AI tools like CH',\n",
              "  'start': 186.72,\n",
              "  'duration': 6.72},\n",
              " {'text': 'GPT di mid journey and Runway while',\n",
              "  'start': 189.0,\n",
              "  'duration': 6.2},\n",
              " {'text': 'using these tools you would also',\n",
              "  'start': 193.44,\n",
              "  'duration': 3.719},\n",
              " {'text': 'understand the limitations of large',\n",
              "  'start': 195.2,\n",
              "  'duration': 4.36},\n",
              " {'text': 'language models once you familiarize',\n",
              "  'start': 197.159,\n",
              "  'duration': 4.561},\n",
              " {'text': 'yourself with llm and the popular',\n",
              "  'start': 199.56,\n",
              "  'duration': 4.36},\n",
              " {'text': 'generative AI tools you can start',\n",
              "  'start': 201.72,\n",
              "  'duration': 5.48},\n",
              " {'text': 'accessing llms using an', 'start': 203.92, 'duration': 6.239},\n",
              " {'text': 'API start by building simple application',\n",
              "  'start': 207.2,\n",
              "  'duration': 6.399},\n",
              " {'text': 'using the API and prompt engineering',\n",
              "  'start': 210.159,\n",
              "  'duration': 6.881},\n",
              " {'text': 'prompting is the easiest way to use an',\n",
              "  'start': 213.599,\n",
              "  'duration': 6.441},\n",
              " {'text': 'llm crafting effective prompts unlocks',\n",
              "  'start': 217.04,\n",
              "  'duration': 5.8},\n",
              " {'text': 'the full potential of models for tasks',\n",
              "  'start': 220.04,\n",
              "  'duration': 5.559},\n",
              " {'text': 'such as summarization content generation',\n",
              "  'start': 222.84,\n",
              "  'duration': 5.599},\n",
              " {'text': 'and data extraction once you master',\n",
              "  'start': 225.599,\n",
              "  'duration': 5.041},\n",
              " {'text': 'prompt engineering learn Frameworks like',\n",
              "  'start': 228.439,\n",
              "  'duration': 5.36},\n",
              " {'text': 'Lang chain to structure and manage llm',\n",
              "  'start': 230.64,\n",
              "  'duration': 5.64},\n",
              " {'text': 'powered workflows ensuring that your',\n",
              "  'start': 233.799,\n",
              "  'duration': 6.201},\n",
              " {'text': 'model interactions are modular scalable',\n",
              "  'start': 236.28,\n",
              "  'duration': 6.239},\n",
              " {'text': 'and efficient step', 'start': 240.0, 'duration': 6.079},\n",
              " {'text': 'four building rat systems with Lang',\n",
              "  'start': 242.519,\n",
              "  'duration': 5.761},\n",
              " {'text': 'chain once you have mastered building',\n",
              "  'start': 246.079,\n",
              "  'duration': 4.72},\n",
              " {'text': 'llm applications the next step is to',\n",
              "  'start': 248.28,\n",
              "  'duration': 5.879},\n",
              " {'text': 'explore retrieval augmented generation',\n",
              "  'start': 250.799,\n",
              "  'duration': 6.601},\n",
              " {'text': 'or rack systems racks enable large',\n",
              "  'start': 254.159,\n",
              "  'duration': 5.881},\n",
              " {'text': 'language models to generate outputs that',\n",
              "  'start': 257.4,\n",
              "  'duration': 4.68},\n",
              " {'text': 'are informed by domain specific',\n",
              "  'start': 260.04,\n",
              "  'duration': 5.84},\n",
              " {'text': 'knowledge or databases rack systems',\n",
              "  'start': 262.08,\n",
              "  'duration': 6.72},\n",
              " {'text': 'combine the generative power of llms',\n",
              "  'start': 265.88,\n",
              "  'duration': 5.12},\n",
              " {'text': 'with information retrieval to create',\n",
              "  'start': 268.8,\n",
              "  'duration': 5.0},\n",
              " {'text': 'smarter and more context aware', 'start': 271.0, 'duration': 5.24},\n",
              " {'text': 'applications rchain simplifies this',\n",
              "  'start': 273.8,\n",
              "  'duration': 4.48},\n",
              " {'text': 'integration making it easier to',\n",
              "  'start': 276.24,\n",
              "  'duration': 4.519},\n",
              " {'text': 'incorporate external knowledge sources',\n",
              "  'start': 278.28,\n",
              "  'duration': 5.759},\n",
              " {'text': 'into your llm workflows in addition to L',\n",
              "  'start': 280.759,\n",
              "  'duration': 5.28},\n",
              " {'text': 'chain you would also need to learn about',\n",
              "  'start': 284.039,\n",
              "  'duration': 4.961},\n",
              " {'text': 'Vector databases like chroma DB pine',\n",
              "  'start': 286.039,\n",
              "  'duration': 6.641},\n",
              " {'text': 'cone Etc and embedding models like open',\n",
              "  'start': 289.0,\n",
              "  'duration': 7.12},\n",
              " {'text': 'Ai embeddings and coher embeddings once',\n",
              "  'start': 292.68,\n",
              "  'duration': 4.519},\n",
              " {'text': 'you have learned the essential', 'start': 296.12, 'duration': 3.76},\n",
              " {'text': 'components go ahead and build an',\n",
              "  'start': 297.199,\n",
              "  'duration': 5.241},\n",
              " {'text': 'appropriate rag application which can be',\n",
              "  'start': 299.88,\n",
              "  'duration': 4.44},\n",
              " {'text': 'used by you and your', 'start': 302.44, 'duration': 5.599},\n",
              " {'text': 'organization step five fine-tuning large',\n",
              "  'start': 304.32,\n",
              "  'duration': 6.319},\n",
              " {'text': 'language models your knowledge from',\n",
              "  'start': 308.039,\n",
              "  'duration': 4.72},\n",
              " {'text': 'working with pre-trained models and',\n",
              "  'start': 310.639,\n",
              "  'duration': 4.161},\n",
              " {'text': 'integrating them into llm bagged',\n",
              "  'start': 312.759,\n",
              "  'duration': 5.121},\n",
              " {'text': 'applications prepares you for this step',\n",
              "  'start': 314.8,\n",
              "  'duration': 4.72},\n",
              " {'text': \"now it's time to customize large\",\n",
              "  'start': 317.88,\n",
              "  'duration': 4.28},\n",
              " {'text': 'language models with fine-tuning',\n",
              "  'start': 319.52,\n",
              "  'duration': 5.44},\n",
              " {'text': 'fine-tuning and llm involves taking a',\n",
              "  'start': 322.16,\n",
              "  'duration': 6.0},\n",
              " {'text': 'general purpose llm and tweaking it to',\n",
              "  'start': 324.96,\n",
              "  'duration': 5.799},\n",
              " {'text': 'use it for very specific t tasks like',\n",
              "  'start': 328.16,\n",
              "  'duration': 6.28},\n",
              " {'text': 'financial analysis or biomedical',\n",
              "  'start': 330.759,\n",
              "  'duration': 6.481},\n",
              " {'text': 'understanding by carefully selecting a',\n",
              "  'start': 334.44,\n",
              "  'duration': 5.199},\n",
              " {'text': 'fine tuning data set and defining',\n",
              "  'start': 337.24,\n",
              "  'duration': 4.399},\n",
              " {'text': 'hyperparameters you can direct the',\n",
              "  'start': 339.639,\n",
              "  'duration': 5.201},\n",
              " {'text': \"model's outputs towards domain Centric\",\n",
              "  'start': 341.639,\n",
              "  'duration': 6.241},\n",
              " {'text': 'solutions that add tangible', 'start': 344.84, 'duration': 6.16},\n",
              " {'text': 'value fine-tuning when done correctly',\n",
              "  'start': 347.88,\n",
              "  'duration': 5.2},\n",
              " {'text': 'enables your large language models to',\n",
              "  'start': 351.0,\n",
              "  'duration': 5.12},\n",
              " {'text': 'produce insights tailored to the nuances',\n",
              "  'start': 353.08,\n",
              "  'duration': 6.72},\n",
              " {'text': 'of your chosen field turning a robust',\n",
              "  'start': 356.12,\n",
              "  'duration': 6.359},\n",
              " {'text': 'but broad language model into a powerful',\n",
              "  'start': 359.8,\n",
              "  'duration': 8.56},\n",
              " {'text': 'specialized tool step six build AI',\n",
              "  'start': 362.479,\n",
              "  'duration': 7.921},\n",
              " {'text': 'agents currently the Pinnacle of',\n",
              "  'start': 368.36,\n",
              "  'duration': 4.36},\n",
              " {'text': 'generative AI is building autonomous',\n",
              "  'start': 370.4,\n",
              "  'duration': 5.84},\n",
              " {'text': 'systems with AI agents agents are',\n",
              "  'start': 372.72,\n",
              "  'duration': 6.12},\n",
              " {'text': 'capable of Performing complex tasks by',\n",
              "  'start': 376.24,\n",
              "  'duration': 6.959},\n",
              " {'text': 'combining reasoning planning and action',\n",
              "  'start': 378.84,\n",
              "  'duration': 6.52},\n",
              " {'text': 'start by understanding agent Frameworks',\n",
              "  'start': 383.199,\n",
              "  'duration': 4.84},\n",
              " {'text': 'like crew Ai and autogen these', 'start': 385.36, 'duration': 4.92},\n",
              " {'text': 'Frameworks make it easy to chain',\n",
              "  'start': 388.039,\n",
              "  'duration': 5.081},\n",
              " {'text': 'multiple llm part actions connect',\n",
              "  'start': 390.28,\n",
              "  'duration': 7.759},\n",
              " {'text': 'external apis and retrieve realtime data',\n",
              "  'start': 393.12,\n",
              "  'duration': 6.519},\n",
              " {'text': 'by leveraging these Frameworks',\n",
              "  'start': 398.039,\n",
              "  'duration': 4.401},\n",
              " {'text': 'developers can orchestrate complex',\n",
              "  'start': 399.639,\n",
              "  'duration': 5.12},\n",
              " {'text': 'workflows they can integrate a variety',\n",
              "  'start': 402.44,\n",
              "  'duration': 5.08},\n",
              " {'text': 'of services and also streamline the',\n",
              "  'start': 404.759,\n",
              "  'duration': 5.28},\n",
              " {'text': 'communication between multiple agents',\n",
              "  'start': 407.52,\n",
              "  'duration': 7.16},\n",
              " {'text': 'and external systems step seven sharpen',\n",
              "  'start': 410.039,\n",
              "  'duration': 7.88},\n",
              " {'text': 'your skills and build a portfolio with',\n",
              "  'start': 414.68,\n",
              "  'duration': 5.84},\n",
              " {'text': 'all your new found knowledge and skills',\n",
              "  'start': 417.919,\n",
              "  'duration': 4.521},\n",
              " {'text': \"it's essential to demonstrate your\",\n",
              "  'start': 420.52,\n",
              "  'duration': 4.359},\n",
              " {'text': 'expertise start by working on real world',\n",
              "  'start': 422.44,\n",
              "  'duration': 5.24},\n",
              " {'text': 'projects that align with your interests',\n",
              "  'start': 424.879,\n",
              "  'duration': 5.361},\n",
              " {'text': \"or your organization's needs build\",\n",
              "  'start': 427.68,\n",
              "  'duration': 5.4},\n",
              " {'text': 'applications showcasing your skills such',\n",
              "  'start': 430.24,\n",
              "  'duration': 6.6},\n",
              " {'text': 'as an endless symptom checker or an AI',\n",
              "  'start': 433.08,\n",
              "  'duration': 7.28},\n",
              " {'text': 'pair programmer or an agentic data',\n",
              "  'start': 436.84,\n",
              "  'duration': 6.079},\n",
              " {'text': 'analyst create a professional portfolio',\n",
              "  'start': 440.36,\n",
              "  'duration': 5.44},\n",
              " {'text': 'to document your journey include project',\n",
              "  'start': 442.919,\n",
              "  'duration': 5.441},\n",
              " {'text': 'details challenges that you faced',\n",
              "  'start': 445.8,\n",
              "  'duration': 4.76},\n",
              " {'text': 'solutions that you implemented',\n",
              "  'start': 448.36,\n",
              "  'duration': 5.519},\n",
              " {'text': 'and the impact of your applications a',\n",
              "  'start': 450.56,\n",
              "  'duration': 5.12},\n",
              " {'text': 'well-rounded portfolio not only',\n",
              "  'start': 453.879,\n",
              "  'duration': 3.801},\n",
              " {'text': 'highlights your technical skills but',\n",
              "  'start': 455.68,\n",
              "  'duration': 4.639},\n",
              " {'text': 'also reflects your problem solving',\n",
              "  'start': 457.68,\n",
              "  'duration': 5.12},\n",
              " {'text': 'abilities engage with the AI community',\n",
              "  'start': 460.319,\n",
              "  'duration': 5.641},\n",
              " {'text': 'on platforms like GitHub LinkedIn and',\n",
              "  'start': 462.8,\n",
              "  'duration': 5.72},\n",
              " {'text': 'kaggle to share your projects gain',\n",
              "  'start': 465.96,\n",
              "  'duration': 4.799},\n",
              " {'text': 'feedback and', 'start': 468.52, 'duration': 5.48},\n",
              " {'text': 'collaborate lastly remember that staying',\n",
              "  'start': 470.759,\n",
              "  'duration': 5.241},\n",
              " {'text': 'updated with the latest trends in',\n",
              "  'start': 474.0,\n",
              "  'duration': 3.96},\n",
              " {'text': 'generative AI is', 'start': 476.0, 'duration': 4.919},\n",
              " {'text': 'crucial follow search papers participate',\n",
              "  'start': 477.96,\n",
              "  'duration': 5.679},\n",
              " {'text': 'in hackathons and take Advanced courses',\n",
              "  'start': 480.919,\n",
              "  'duration': 6.321},\n",
              " {'text': 'to continue expanding your expertise and',\n",
              "  'start': 483.639,\n",
              "  'duration': 6.641},\n",
              " {'text': 'there you have it a complete road map to',\n",
              "  'start': 487.24,\n",
              "  'duration': 6.359},\n",
              " {'text': 'mastering generated AI in', 'start': 490.28, 'duration': 5.68},\n",
              " {'text': \"2025 whether you're just starting or\",\n",
              "  'start': 493.599,\n",
              "  'duration': 4.401},\n",
              " {'text': 'looking to sharpen your skills this',\n",
              "  'start': 495.96,\n",
              "  'duration': 4.32},\n",
              " {'text': 'guide will help you achieve your goals',\n",
              "  'start': 498.0,\n",
              "  'duration': 3.759},\n",
              " {'text': 'to help you become a generative AI',\n",
              "  'start': 500.28,\n",
              "  'duration': 4.359},\n",
              " {'text': 'expert we have created a comprehensive',\n",
              "  'start': 501.759,\n",
              "  'duration': 5.201},\n",
              " {'text': 'generative AI binacle program this',\n",
              "  'start': 504.639,\n",
              "  'duration': 4.28},\n",
              " {'text': 'program is designed to equip you with',\n",
              "  'start': 506.96,\n",
              "  'duration': 4.4},\n",
              " {'text': 'everything you need from foundational AI',\n",
              "  'start': 508.919,\n",
              "  'duration': 4.961},\n",
              " {'text': 'Concepts to Advanced Techniques like',\n",
              "  'start': 511.36,\n",
              "  'duration': 5.08},\n",
              " {'text': 'fine-tuning llms and building agentic',\n",
              "  'start': 513.88,\n",
              "  'duration': 4.88},\n",
              " {'text': 'rag systems if you found this guide',\n",
              "  'start': 516.44,\n",
              "  'duration': 5.24},\n",
              " {'text': \"helpful don't forget to like share and\",\n",
              "  'start': 518.76,\n",
              "  'duration': 5.92},\n",
              " {'text': 'subscribe', 'start': 521.68, 'duration': 3.0}]"
            ]
          },
          "metadata": {},
          "execution_count": 5
        }
      ]
    },
    {
      "cell_type": "markdown",
      "source": [
        "- It extract the data in form of list of dictionay\n",
        "- `transcript_list` contain the list of dictionary that contain `start` showing the transcript on taht specific time and `duration` showing that transcript presnt on screen.\n",
        "\n"
      ],
      "metadata": {
        "id": "3-_1HB0_uiFB"
      }
    },
    {
      "cell_type": "markdown",
      "source": [
        "## 1b Applying recusive splitting to create chunking"
      ],
      "metadata": {
        "id": "m5sgG4YjwKHi"
      }
    },
    {
      "cell_type": "code",
      "source": [
        "splitter = RecursiveCharacterTextSplitter(chunk_size=1000, chunk_overlap=200)\n",
        "chunks = splitter.create_documents([transcript])"
      ],
      "metadata": {
        "id": "7SP5hkhnuCTY"
      },
      "execution_count": null,
      "outputs": []
    },
    {
      "cell_type": "code",
      "source": [
        "len(chunks)"
      ],
      "metadata": {
        "colab": {
          "base_uri": "https://localhost:8080/"
        },
        "id": "XZUsil4MwJDP",
        "outputId": "72282e3a-e86e-4053-f323-7ae321f11f1c"
      },
      "execution_count": null,
      "outputs": [
        {
          "output_type": "execute_result",
          "data": {
            "text/plain": [
              "168"
            ]
          },
          "metadata": {},
          "execution_count": 42
        }
      ]
    },
    {
      "cell_type": "markdown",
      "source": [
        "### Step 1c & 1d - Indexing (Embedding Generation and Storing in Vector Store)\n",
        "\n"
      ],
      "metadata": {
        "id": "IMOX3nia0dYa"
      }
    },
    {
      "cell_type": "code",
      "source": [
        "import os\n",
        "os.environ['HF_TOKEN'] = \"hf_XV\""
      ],
      "metadata": {
        "id": "3QOCUWEZ1i_M"
      },
      "execution_count": null,
      "outputs": []
    },
    {
      "cell_type": "code",
      "source": [
        "from langchain_huggingface import HuggingFaceEmbeddings\n",
        "\n",
        "model_name = \"sentence-transformers/all-mpnet-base-v2\"\n",
        "model_kwargs = {'device': 'cpu'}\n",
        "encode_kwargs = {'normalize_embeddings': False}\n",
        "embeddings = HuggingFaceEmbeddings(\n",
        "    model_name=model_name,\n",
        "    model_kwargs=model_kwargs,\n",
        "    encode_kwargs=encode_kwargs\n",
        ")\n",
        "vector_store = FAISS.from_documents(chunks, embeddings)"
      ],
      "metadata": {
        "id": "iIeJ5UabwqEX"
      },
      "execution_count": null,
      "outputs": []
    },
    {
      "cell_type": "markdown",
      "source": [
        "## Step 2 - Retrieval\n",
        "\n",
        "- Query will send into this retrieval and this retrieval embedd this query ad do vector search a\\c to our desire as we define. here we define it a similarity search.\n",
        "- we get the list of documnets base upon our search no. of document is describe in search_kwargs = {'k' :2} so we get 2 documnet from vectir store based upon similarity"
      ],
      "metadata": {
        "id": "xfF_nIA92Yhl"
      }
    },
    {
      "cell_type": "code",
      "source": [
        "retriever = vector_store.as_retriever(search_type = 'similarity' , search_kwargs = {'k':2})"
      ],
      "metadata": {
        "id": "N_3pG6Lz4FCe"
      },
      "execution_count": null,
      "outputs": []
    },
    {
      "cell_type": "code",
      "source": [
        "#checking retriever\n",
        "vector_store.index_to_docstore_id"
      ],
      "metadata": {
        "colab": {
          "base_uri": "https://localhost:8080/"
        },
        "id": "dXEFxWGL44-d",
        "outputId": "eee72ce9-3d51-4cf2-f281-a048aafdcd1b"
      },
      "execution_count": null,
      "outputs": [
        {
          "output_type": "execute_result",
          "data": {
            "text/plain": [
              "{0: '4ca7fdd4-2ef8-42bc-987a-1bff970fe4b2',\n",
              " 1: 'd7b53a78-591f-4fef-9f75-8b01f6437735',\n",
              " 2: '029f5c38-a3e3-45cc-b42f-cc0deb8cd167',\n",
              " 3: '479610fb-61b5-4b40-90e9-fe810f3b6293',\n",
              " 4: '5f114a35-cb35-4959-bb98-01d6b20e7799',\n",
              " 5: '79e8ed44-67ca-4859-8f05-7ccc55a5dc60',\n",
              " 6: '24223f00-a48e-4434-877c-3a9481c69981',\n",
              " 7: '09069e85-8270-4a2b-b2e0-3c16f112ba95',\n",
              " 8: 'b0bddfb6-9b24-4c22-985a-69f4dca16cd2',\n",
              " 9: '4433e3a7-212e-4d66-8f17-a9bc4a46efe9',\n",
              " 10: '19018ab7-4d10-4cfa-a495-2287c5004eb4',\n",
              " 11: '25c2fe0d-09f7-41a2-9e17-dace2707dbc4',\n",
              " 12: '79caa7ae-dc30-47cc-b7b6-3ef8f247253a',\n",
              " 13: 'b246852d-4ba3-4387-b638-f3bc2cac35fc',\n",
              " 14: '828614e9-c778-49ae-bb07-e0a495c5027b',\n",
              " 15: 'dd44da59-0c67-4980-a167-947e63fcbf58',\n",
              " 16: 'e2c511c8-d22c-4f41-8ae2-905b748fc521',\n",
              " 17: '4605efdd-1ffb-4e29-8e2b-59a33f7c19d9',\n",
              " 18: '433384a7-2fae-4c34-90f9-d9325b778b18',\n",
              " 19: '1c5b7b7f-a261-4383-b59b-6d97b1a399f5',\n",
              " 20: 'cc46d7ad-0d07-40f9-9732-1ba5395554df',\n",
              " 21: 'e092b943-e53a-4786-bc8d-770508447f2b',\n",
              " 22: '9d5a789e-751e-42ba-9bae-e562d11b5b7a',\n",
              " 23: 'f1fafda2-9aa7-40e3-9bcd-0456571af450',\n",
              " 24: '98094846-faf9-4a45-bff9-5070a3df62b5',\n",
              " 25: '9d1f3951-52df-47c0-8c9d-27b49a4d76d1',\n",
              " 26: '8c062b9f-c808-441d-b5ef-942106038f79',\n",
              " 27: '0ecf4096-be85-4c20-a5ca-087ba6cb118f',\n",
              " 28: '347eb6e9-b7d0-4962-8ce1-f6594312f432',\n",
              " 29: 'e895b4b5-81b7-430e-9108-46ddddce8732',\n",
              " 30: 'ef99ded6-7533-423d-8bba-de65380aa0c6',\n",
              " 31: '32f1b68c-89bc-4eea-9c4b-38a1e14d1d61',\n",
              " 32: '3ff4b6bf-d650-4fc8-83e8-a76619cd2ce4',\n",
              " 33: '55e95dca-935e-415e-b078-b28a2d4bcb05',\n",
              " 34: 'f09e7000-c77a-4c04-b0c2-e682f70b975f',\n",
              " 35: '0e039e11-c5fe-45fc-a8b3-9093601cfc42',\n",
              " 36: '26fda039-6e77-43e4-9be3-40a86e7f1737',\n",
              " 37: 'c271ca0e-7088-43f0-ac68-e924ec9d8569',\n",
              " 38: '02c490ea-a87c-4af4-bf60-9300b5e52b8a',\n",
              " 39: '1052e825-deb4-4f43-9bef-e9013e0cefbd',\n",
              " 40: 'c5aacfec-a6b8-458b-9933-1e71f6049a0c',\n",
              " 41: 'b45e7712-5e14-4aa6-9b08-4d4983c43bfe',\n",
              " 42: 'd087be2f-a59d-4ac7-bb31-e7aca656847b',\n",
              " 43: '8ab11612-6606-4a7f-94c8-d575dfe0ae6b',\n",
              " 44: '1576e6ee-55c2-4a05-a790-21f9831112a1',\n",
              " 45: 'a32256ac-96a3-4ee7-a528-b4fb096bd29b',\n",
              " 46: 'cb7369f7-2a97-4c78-b93f-053ca66e310e',\n",
              " 47: '9a8a8954-c445-4d75-8f96-d2245d1e385e',\n",
              " 48: 'dd327e4a-8b1d-42fe-8496-ca5aee6c9905',\n",
              " 49: 'dfc493a6-7399-4101-9536-5e428093ba0a',\n",
              " 50: 'ba4ff28f-a61c-47f2-9fa8-e16442a51b81',\n",
              " 51: '7e87137c-743c-49fc-b142-d68cc43b49fc',\n",
              " 52: '033d5851-2863-483d-a274-63e1c12f134a',\n",
              " 53: 'c8836427-ca8e-47b3-b02e-6acbcc10d268',\n",
              " 54: '3daae515-f981-4baf-bc03-0a8226045478',\n",
              " 55: '760f8f07-5cd0-4757-8100-66229eb1d212',\n",
              " 56: '85e890f5-af4f-4f56-8af5-5e46c738aa6c',\n",
              " 57: '5912dff3-3e5d-4371-b2e1-fc126484e7ae',\n",
              " 58: 'e42e4da0-6e0c-42a0-a786-8f3f0370a845',\n",
              " 59: 'e008ad16-b0dd-4126-8eb0-43182f0fb446',\n",
              " 60: 'c6e29b71-216b-4e75-a25c-beb9802b6dd8',\n",
              " 61: '40026533-925f-4197-8b17-532631059093',\n",
              " 62: '27764c75-af11-4243-9ebd-a76385713096',\n",
              " 63: 'eb2bc9cb-7dbd-4965-ab8c-71bfc20eb05b',\n",
              " 64: 'ad64a502-9e71-464c-9ce5-0f2890a86383',\n",
              " 65: '1114ce64-834e-4c90-ad89-c2795f5e7a1f',\n",
              " 66: '1ed47f9e-1e63-42c1-b48f-1880a2d93458',\n",
              " 67: '9dd42c71-67b5-495a-802c-9e10bb523efd',\n",
              " 68: 'd612b3c8-c9a4-437c-b36c-6a50ae3b8900',\n",
              " 69: 'defb58a1-30de-42a6-b765-dc95432e88ad',\n",
              " 70: '1a8d0b9b-c35b-4c97-89eb-81b43e1f4407',\n",
              " 71: '113738a5-a9ae-4dd0-9013-7085ad43f583',\n",
              " 72: '3b59a6c0-9f76-4a35-8244-fff61497337c',\n",
              " 73: '3f388ede-c38e-48ab-976e-7ce8cf738121',\n",
              " 74: 'af4bc6aa-4b4e-4b25-9e68-926ca42a086b',\n",
              " 75: '7003f5f6-a6ff-42df-915b-e65865d6d6d7',\n",
              " 76: '33910b2d-5438-42b2-92e3-18c1b1b51655',\n",
              " 77: '4053487f-a206-44c7-a2b0-623b9f1777bc',\n",
              " 78: '7343ab1f-6d0d-494d-9d08-73f021702877',\n",
              " 79: '90af968c-eaf5-427a-aa09-f546f0f84790',\n",
              " 80: '0f0aad04-a608-4efe-9a2a-c63f0a759eac',\n",
              " 81: '81b434cf-fa57-4bfc-9e1e-d8c58142df72',\n",
              " 82: '77d693c5-af5c-42c4-9b74-e65e2e07cb49',\n",
              " 83: '75e406ed-883a-4bee-80fb-d77e6c407575',\n",
              " 84: 'fc1cf276-8e1d-41d4-bc29-0d6c3ac51303',\n",
              " 85: 'e1aaf988-0455-452e-8d2f-a7b5ef5c01af',\n",
              " 86: 'c90e0c13-ed1d-4ff4-9329-7ed3e7981d6d',\n",
              " 87: 'd908a3eb-0308-4933-80ea-a9c37f8a652a',\n",
              " 88: 'c4ed4092-eba6-42cb-aaf3-80e3282158e8',\n",
              " 89: '767af921-67b0-4ccb-af98-34e5e9c3125e',\n",
              " 90: '7d82c025-050c-4145-affe-b5adec5322e0',\n",
              " 91: 'f5f1733a-6c1f-4a81-8bc9-8e6dd6501000',\n",
              " 92: '5b2d0171-4a7e-44e3-9386-66f25ef98776',\n",
              " 93: '1c46f39e-66af-4f64-9fd6-e200f7dad0ea',\n",
              " 94: '24dee4ee-47a3-4261-bcaf-0417a6fe8137',\n",
              " 95: '41efa218-80bb-4300-a4de-dd01def701cc',\n",
              " 96: '9124c3cf-6072-4dcd-b948-b8d8c986093b',\n",
              " 97: '03e01fa9-66e1-45cb-a30d-ad24bedcf720',\n",
              " 98: '5f595587-c089-478f-a6d0-7115665acdf8',\n",
              " 99: '9e13f287-0254-48e1-942e-159e0badd181',\n",
              " 100: 'c507b767-c7e9-424a-be0e-a43ddf6004b4',\n",
              " 101: '368521ca-f1db-4672-99a3-4ac245989621',\n",
              " 102: '3957f70a-f3be-41f7-8890-34fde1ba2a37',\n",
              " 103: 'f568de46-5685-4817-9373-f71f2b5b9787',\n",
              " 104: '4ea88b07-f61a-4652-b357-5d8796ba13ef',\n",
              " 105: '7e840a87-180b-4f10-99c8-01ba31ccf1d0',\n",
              " 106: '36af66ea-4b82-472f-b839-dd0a2adf476e',\n",
              " 107: 'e275c308-181e-4269-88e2-c5e687f9406a',\n",
              " 108: 'eb761be8-1e31-47ae-a02c-f94f3af44d19',\n",
              " 109: 'a1e1af0c-91ba-4080-a843-61ec64e47dfe',\n",
              " 110: 'ad58eb41-a2ca-4408-885e-6493a58b83dc',\n",
              " 111: '246aa293-05ed-4354-8c5e-014e4cd5bd3d',\n",
              " 112: '58fa2a46-c89d-40fe-afaf-f01b9ce6e901',\n",
              " 113: '3a7f7358-8432-45eb-8faa-9e132e438fd0',\n",
              " 114: 'c9fd0bbb-969f-4855-873f-930bbde299d1',\n",
              " 115: '8cb2b716-3380-47a0-88bc-c1900f56560c',\n",
              " 116: 'e827d1cc-9af5-435b-a65a-0ef537031251',\n",
              " 117: '1fffe345-64eb-4e05-9503-b2c739e22a82',\n",
              " 118: '409e4fd1-bacd-4875-a584-5b94c0e522ec',\n",
              " 119: 'f39cd269-64f6-4884-9e22-45c6256487f4',\n",
              " 120: '0d55c868-4b7f-4863-82aa-3a3d7b0830e9',\n",
              " 121: '51e13c29-b2be-42ea-9658-e7170d16ef6f',\n",
              " 122: 'd68fc5fd-f8ba-4260-81b5-ad4bea4d4510',\n",
              " 123: 'd115f7dc-be56-4bea-b828-1f4348eab4c3',\n",
              " 124: 'a905b402-4cd9-4d95-926d-3727d18df222',\n",
              " 125: '870eebea-aeee-4c7e-8046-d9c0e2ec1563',\n",
              " 126: '5f066968-46a4-41e1-96a8-f77cacaecb05',\n",
              " 127: 'dc5135c0-745e-489d-b3a4-46c22bee1bc8',\n",
              " 128: '872749ce-84f8-4695-b1fc-23f97d835325',\n",
              " 129: '099ec6de-e846-4b5a-baef-7f6bc5392c48',\n",
              " 130: '2d57a7c3-9bfc-4467-897b-c6aa4effd08c',\n",
              " 131: 'f5bdbab3-ea7c-4004-b264-bddb2cafac4e',\n",
              " 132: 'a63f3a1f-6064-4047-a4d3-b76eff45b3db',\n",
              " 133: '184259ae-9963-4eed-a7bc-4c5c0263b51c',\n",
              " 134: 'af43fe4f-b750-4201-9514-74c5d856eabe',\n",
              " 135: '6236f22a-3e79-48c4-b156-cbf0c04da4e9',\n",
              " 136: '68e83624-7b5b-48a8-ab21-cd44323ba873',\n",
              " 137: 'b1ce531c-6e59-42c1-8fe2-1453a81230f1',\n",
              " 138: '9a0818dd-ce18-4ede-834a-116ce8aae3f5',\n",
              " 139: '1b493dab-86c2-4729-979f-51f468f8eca4',\n",
              " 140: 'e36d7e52-6ade-41d0-89f4-f6b249119ae5',\n",
              " 141: '0cbf9d7e-9a55-4ba5-955f-6890387abcd8',\n",
              " 142: '2a57ce82-0c6f-4336-915a-58df8480dfaa',\n",
              " 143: '36a91b78-85e2-477c-a32f-fe49999d4f49',\n",
              " 144: 'f1e51fe3-8720-48cd-8065-9ab1aede44d6',\n",
              " 145: 'f7491a4b-eb23-404b-8672-d6475e919e85',\n",
              " 146: '2a128194-30de-4072-ad53-0db2a483a55a',\n",
              " 147: 'a5deef13-65af-4ce6-b9a2-ef416ae6c54f',\n",
              " 148: 'c95ab1a7-4b5b-4e79-abff-08949605a15f',\n",
              " 149: '2415dc9a-8447-4300-aaee-5eef0f8575e8',\n",
              " 150: '537dfb74-2dff-4d52-9f94-0441e0c04929',\n",
              " 151: '4b04a3fc-6ff2-408e-85d7-aa211d62aba9',\n",
              " 152: 'b4171344-e88c-4c6e-8e65-ec2a15d5cbf1',\n",
              " 153: 'ffaf4862-3e81-4683-8dd6-bf63dafa6066',\n",
              " 154: '39df9798-e21e-4ef0-a3d3-894855d5c865',\n",
              " 155: '3b5db245-bb89-42fe-a73e-c30977a7e078',\n",
              " 156: 'a177b6c8-6a32-4657-af2e-53a547823ad1',\n",
              " 157: 'c1bbd93c-c1dd-420a-9a80-856a53cb0977',\n",
              " 158: '5a152933-f2a0-4652-88b0-ee0d6f3eded7',\n",
              " 159: '11be4ab0-e4f2-460d-81de-347d74aef73c',\n",
              " 160: '5182b600-8c1d-4f20-a14a-6728188cb3f2',\n",
              " 161: '4efa7d61-b19b-442b-9c4c-5d6829513516',\n",
              " 162: 'a51c23d2-a0b1-4a93-b3d8-1dc4d70a410c',\n",
              " 163: '99e9b285-564d-4159-9e7b-1d94b9319851',\n",
              " 164: 'bf15bd55-bc9b-4d88-a374-53827f432c91',\n",
              " 165: '51f84b82-95c3-4fc0-80c0-6dd80a628836',\n",
              " 166: '9fa1479f-3c10-4512-a55e-8c4544aec2d9',\n",
              " 167: 'bba6d4c3-1911-481b-b6d7-9164bfb66e03'}"
            ]
          },
          "metadata": {},
          "execution_count": 46
        }
      ]
    },
    {
      "cell_type": "code",
      "source": [
        "experiment = vector_store.get_by_ids(['9955c64b-5dd4-42a5-983d-9971983a5d1e'])"
      ],
      "metadata": {
        "id": "tXwz75Ho5C40"
      },
      "execution_count": null,
      "outputs": []
    },
    {
      "cell_type": "code",
      "source": [
        "# extracting only text\n",
        "for doc in experiment:\n",
        "    page_content = doc.page_content  # Accessing the page_content attribute\n",
        "    print(page_content)"
      ],
      "metadata": {
        "colab": {
          "base_uri": "https://localhost:8080/"
        },
        "id": "wn5Xb6a55xFJ",
        "outputId": "c01e8bba-0d30-44f4-9604-6c2e77cdef3d"
      },
      "execution_count": null,
      "outputs": [
        {
          "output_type": "stream",
          "name": "stdout",
          "text": [
            "demas establish to support this podcast please check out our sponsors in the description and now let me leave you with some words from edskar dykstra computer science is no more about computers than astronomy is about telescopes thank you for listening and hope to see you next time\n"
          ]
        }
      ]
    },
    {
      "cell_type": "markdown",
      "source": [
        "## STEP3 AUGMENTATION\n",
        "- Augmentation refers to improving or enhancing something by adding extra features or elements."
      ],
      "metadata": {
        "id": "RmctbmZq4wEl"
      }
    },
    {
      "cell_type": "markdown",
      "source": [
        "- In augmentation we have to define the prompt and in generation we define LLM"
      ],
      "metadata": {
        "id": "CJBvWo-p6RM4"
      }
    },
    {
      "cell_type": "code",
      "source": [
        "prompt = PromptTemplate(\n",
        "    template=\"\"\"\n",
        "      You are a helpful assistant with access to a specific transcript.\n",
        "      Your task is to answer the question based solely on the provided context.\n",
        "      If the context does not contain enough information to answer, respond with \"I don't know.\"\n",
        "\n",
        "      Context:\n",
        "      {context}\n",
        "\n",
        "      Question: {question}\n",
        "\n",
        "      Please provide a concise and accurate answer.\n",
        "    \"\"\",\n",
        "    input_variables=['context', 'question']\n",
        ")"
      ],
      "metadata": {
        "id": "4cP8k0A_4E-4"
      },
      "execution_count": null,
      "outputs": []
    },
    {
      "cell_type": "code",
      "source": [
        "# checking the prompt\n",
        "question          = \"is the topic of nuclear fusion discussed in this video? if yes then what was discussed\"\n",
        "retrieved_docs    = retriever.invoke(question)"
      ],
      "metadata": {
        "id": "xTB7_JYq4E9H"
      },
      "execution_count": null,
      "outputs": []
    },
    {
      "cell_type": "code",
      "source": [
        "retrieved_docs"
      ],
      "metadata": {
        "colab": {
          "base_uri": "https://localhost:8080/"
        },
        "id": "n4Xw-tnW4E7N",
        "outputId": "d9fa7561-dc39-458c-ded4-0199ed12d4df"
      },
      "execution_count": null,
      "outputs": [
        {
          "output_type": "execute_result",
          "data": {
            "text/plain": [
              "[Document(id='41efa218-80bb-4300-a4de-dd01def701cc', metadata={}, page_content=\"in this case in fusion we we collaborated with epfl in switzerland the swiss technical institute who are amazing they have a test reactor that they were willing to let us use which you know i double checked with the team we were going to use carefully and safely i was impressed they managed to persuade them to let us use it and um and it's a it's an amazing test reactor they have there and they try all sorts of pretty crazy experiments on it and um the the the what we tend to look at is if we go into a new domain like fusion what are all the bottleneck problems uh like thinking from first principles you know what are all the bottleneck problems that are still stopping fusion working today and then we look at we you know we get a fusion expert to tell us and then we look at those bottlenecks and we look at the ones which ones are amenable to our ai methods today yes right and and and then and would be interesting from a research perspective from our point of view from an ai point of\"),\n",
              " Document(id='5f595587-c089-478f-a6d0-7115665acdf8', metadata={}, page_content=\"so we with this problem and we published it in a nature paper last year uh we held the fusion that we held the plasma in specific shapes so actually it's almost like carving the plasma into different shapes and control and hold it there for the record amount of time so um so that's one of the problems of of fusion sort of um solved so i have a controller that's able to no matter the shape uh contain it continue yeah contain it and hold it in structure and there's different shapes that are better for for the energy productions called droplets and and and so on so um so that was huge and now we're looking we're talking to lots of fusion startups to see what's the next problem we can tackle uh in the fusion area so another fascinating place in a paper title pushing the frontiers of density functionals by solving the fractional electron problem so you're taking on modeling and simulating the quantum mechanical behavior of electrons yes um can you explain this work and can ai model and\")]"
            ]
          },
          "metadata": {},
          "execution_count": 49
        }
      ]
    },
    {
      "cell_type": "code",
      "source": [
        "# let concatenate the output of all our retrieved documents\n",
        "context_text = \"\\n\\n\".join(doc.page_content for doc in retrieved_docs)\n",
        "context_text"
      ],
      "metadata": {
        "colab": {
          "base_uri": "https://localhost:8080/",
          "height": 123
        },
        "id": "9yrsUl7PA70a",
        "outputId": "1ec6613d-17f2-4c10-95a0-d2f97c41cb2d"
      },
      "execution_count": null,
      "outputs": [
        {
          "output_type": "execute_result",
          "data": {
            "text/plain": [
              "\"in this case in fusion we we collaborated with epfl in switzerland the swiss technical institute who are amazing they have a test reactor that they were willing to let us use which you know i double checked with the team we were going to use carefully and safely i was impressed they managed to persuade them to let us use it and um and it's a it's an amazing test reactor they have there and they try all sorts of pretty crazy experiments on it and um the the the what we tend to look at is if we go into a new domain like fusion what are all the bottleneck problems uh like thinking from first principles you know what are all the bottleneck problems that are still stopping fusion working today and then we look at we you know we get a fusion expert to tell us and then we look at those bottlenecks and we look at the ones which ones are amenable to our ai methods today yes right and and and then and would be interesting from a research perspective from our point of view from an ai point of\\n\\nso we with this problem and we published it in a nature paper last year uh we held the fusion that we held the plasma in specific shapes so actually it's almost like carving the plasma into different shapes and control and hold it there for the record amount of time so um so that's one of the problems of of fusion sort of um solved so i have a controller that's able to no matter the shape uh contain it continue yeah contain it and hold it in structure and there's different shapes that are better for for the energy productions called droplets and and and so on so um so that was huge and now we're looking we're talking to lots of fusion startups to see what's the next problem we can tackle uh in the fusion area so another fascinating place in a paper title pushing the frontiers of density functionals by solving the fractional electron problem so you're taking on modeling and simulating the quantum mechanical behavior of electrons yes um can you explain this work and can ai model and\""
            ],
            "application/vnd.google.colaboratory.intrinsic+json": {
              "type": "string"
            }
          },
          "metadata": {},
          "execution_count": 50
        }
      ]
    },
    {
      "cell_type": "markdown",
      "source": [
        "- we have done with our prompt and our context text(output doc from retriever)"
      ],
      "metadata": {
        "id": "ukwNxcuCCKe4"
      }
    },
    {
      "cell_type": "code",
      "source": [
        "final_prompt = prompt.invoke({\"context\": context_text, \"question\": question})"
      ],
      "metadata": {
        "id": "lLX8Rfj3B598"
      },
      "execution_count": null,
      "outputs": []
    },
    {
      "cell_type": "code",
      "source": [
        "final_prompt"
      ],
      "metadata": {
        "colab": {
          "base_uri": "https://localhost:8080/"
        },
        "id": "fhdzwIMqCJlw",
        "outputId": "ee94be41-27fd-44e9-ac4e-802726618a53"
      },
      "execution_count": null,
      "outputs": [
        {
          "output_type": "execute_result",
          "data": {
            "text/plain": [
              "StringPromptValue(text='\\n      You are a helpful assistant with access to a specific transcript.\\n      Your task is to answer the question based solely on the provided context.\\n      If the context does not contain enough information to answer, respond with \"I don\\'t know.\"\\n\\n      Context:\\n      in this case in fusion we we collaborated with epfl in switzerland the swiss technical institute who are amazing they have a test reactor that they were willing to let us use which you know i double checked with the team we were going to use carefully and safely i was impressed they managed to persuade them to let us use it and um and it\\'s a it\\'s an amazing test reactor they have there and they try all sorts of pretty crazy experiments on it and um the the the what we tend to look at is if we go into a new domain like fusion what are all the bottleneck problems uh like thinking from first principles you know what are all the bottleneck problems that are still stopping fusion working today and then we look at we you know we get a fusion expert to tell us and then we look at those bottlenecks and we look at the ones which ones are amenable to our ai methods today yes right and and and then and would be interesting from a research perspective from our point of view from an ai point of\\n\\nso we with this problem and we published it in a nature paper last year uh we held the fusion that we held the plasma in specific shapes so actually it\\'s almost like carving the plasma into different shapes and control and hold it there for the record amount of time so um so that\\'s one of the problems of of fusion sort of um solved so i have a controller that\\'s able to no matter the shape uh contain it continue yeah contain it and hold it in structure and there\\'s different shapes that are better for for the energy productions called droplets and and and so on so um so that was huge and now we\\'re looking we\\'re talking to lots of fusion startups to see what\\'s the next problem we can tackle uh in the fusion area so another fascinating place in a paper title pushing the frontiers of density functionals by solving the fractional electron problem so you\\'re taking on modeling and simulating the quantum mechanical behavior of electrons yes um can you explain this work and can ai model and\\n\\n      Question: is the topic of nuclear fusion discussed in this video? if yes then what was discussed\\n\\n      Please provide a concise and accurate answer.\\n    ')"
            ]
          },
          "metadata": {},
          "execution_count": 52
        }
      ]
    },
    {
      "cell_type": "markdown",
      "source": [
        "## Step 4 - Generation"
      ],
      "metadata": {
        "id": "4XBoycfqChb6"
      }
    },
    {
      "cell_type": "code",
      "source": [
        "from langchain_groq import ChatGroq\n",
        "llm=ChatGroq(model_name=\"Llama3-8b-8192\")"
      ],
      "metadata": {
        "id": "hm-z_TSaCXr9"
      },
      "execution_count": null,
      "outputs": []
    },
    {
      "cell_type": "code",
      "source": [
        "answer = llm.invoke(final_prompt)\n",
        "print(answer.content)"
      ],
      "metadata": {
        "colab": {
          "base_uri": "https://localhost:8080/"
        },
        "id": "ena2dSjMDSvt",
        "outputId": "9340121b-ec1a-4519-d87d-d572482838a5"
      },
      "execution_count": null,
      "outputs": [
        {
          "output_type": "stream",
          "name": "stdout",
          "text": [
            "Yes, the topic of nuclear fusion is discussed in this video. The speaker mentions collaborating with EPFL (École Polytechnique Fédérale de Lausanne) in Switzerland to use their test reactor, and how they used AI methods to solve one of the bottleneck problems in fusion, which is holding the plasma in specific shapes for a record amount of time. They also mention that they are looking to tackle another problem in the fusion area.\n"
          ]
        }
      ]
    },
    {
      "cell_type": "markdown",
      "source": [
        "## STEP5 Creating pipeline i.e Chain\n",
        "- we create a chain so that the output of one step act as the input of other\n"
      ],
      "metadata": {
        "id": "zA2YP66BDxC9"
      }
    },
    {
      "cell_type": "code",
      "source": [
        "from langchain_core.runnables import RunnableParallel, RunnablePassthrough, RunnableLambda\n",
        "from langchain_core.output_parsers import StrOutputParser"
      ],
      "metadata": {
        "id": "cGQaq6KVDcTG"
      },
      "execution_count": null,
      "outputs": []
    },
    {
      "cell_type": "markdown",
      "source": [
        "- we will build the function that take the retrieved document and join only content of the retrieved document and return whole text"
      ],
      "metadata": {
        "id": "1uXkEtSmE8BR"
      }
    },
    {
      "cell_type": "code",
      "source": [
        "def format_docs(retrieved_docs):\n",
        "  context_text = \"\\n\\n\".join(doc.page_content for doc in retrieved_docs)\n",
        "  return context_text"
      ],
      "metadata": {
        "id": "9IkqYwMdD4Df"
      },
      "execution_count": null,
      "outputs": []
    },
    {
      "cell_type": "code",
      "source": [
        "parallel_chain = RunnableParallel({\n",
        "    'context': retriever | RunnableLambda(format_docs),\n",
        "    'question': RunnablePassthrough()\n",
        "})"
      ],
      "metadata": {
        "id": "WVFr7LvQEGMu"
      },
      "execution_count": null,
      "outputs": []
    },
    {
      "cell_type": "markdown",
      "source": [
        "- `RunnableParallel` is use to define the chain in form of dictionary.\n",
        "\n",
        "It contain the key **context** with the value of **chain** `retriever` connected to the function we build `format_docs` (a function return all our docs from retriver)\n",
        "\n",
        "we have to make the function `format_docs` a runable thats why we are using RunnableLambda\n"
      ],
      "metadata": {
        "id": "Cm6K5_-cHMJs"
      }
    },
    {
      "cell_type": "markdown",
      "source": [
        "**WHY PARALLEL CHAIN**\n",
        "\n",
        "we use parallel chain because of follwing reason\n",
        "1. In prompt we are getting 2 inputs.\n",
        "- one is query and other is context.\n",
        "- For query we send it directly to the prompt\n",
        "- But for context we use to retrieve it accoeding to the query so here we have 2 chains\n",
        "- one for question input second for retrieving doc from retriever\n",
        "\n",
        "2. These 2 above chain now pass into another chain that is simple and consist of prompt|llm|parser\n",
        "\n",
        "our chains are:\n",
        "\n",
        "question | prompt (parallel)\n",
        "\n",
        "question | retriever | docs | prompt (parallel)\n",
        "\n",
        "prompt | llm | parser (parallel chains connect to this chain)"
      ],
      "metadata": {
        "id": "24pIyTZMFTiH"
      }
    },
    {
      "cell_type": "code",
      "source": [
        "parallel_chain.invoke('who is demis')"
      ],
      "metadata": {
        "colab": {
          "base_uri": "https://localhost:8080/"
        },
        "id": "4YDI921xFSuW",
        "outputId": "cd834996-f3ee-442a-a336-1838a7a7e177"
      },
      "execution_count": null,
      "outputs": [
        {
          "output_type": "execute_result",
          "data": {
            "text/plain": [
              "{'context': \"the following is a conversation with demus hasabis ceo and co-founder of deepmind a company that has published and builds some of the most incredible artificial intelligence systems in the history of computing including alfred zero that learned all by itself to play the game of gold better than any human in the world and alpha fold two that solved protein folding both tasks considered nearly impossible for a very long time demus is widely considered to be one of the most brilliant and impactful humans in the history of artificial intelligence and science and engineering in general this was truly an honor and a pleasure for me to finally sit down with him for this conversation and i'm sure we will talk many times again in the future this is the lex friedman podcast to support it please check out our sponsors in the description and now dear friends here's demis hassabis let's start with a bit of a personal question am i an ai program you wrote to interview people until i get good enough\\n\\nout our sponsors in the description and now dear friends here's demis hassabis let's start with a bit of a personal question am i an ai program you wrote to interview people until i get good enough to interview you well i'll be impressed if if you were i'd be impressed by myself if you were i don't think we're quite up to that yet but uh maybe you're from the future lex if you did would you tell me is that is that a good thing to tell a language model that's tasked with interviewing that it is in fact um ai maybe we're in a kind of meta turing test uh probably probably it would be a good idea not to tell you so it doesn't change your behavior right this is a kind of heisenberg uncertainty principle situation if i told you you behave differently yeah maybe that's what's happening with us of course this is a benchmark from the future where they replay 2022 as a year before ais were good enough yet and now we want to see is it going to pass exactly if i was such a program would you be\",\n",
              " 'question': 'who is demis'}"
            ]
          },
          "metadata": {},
          "execution_count": 60
        }
      ]
    },
    {
      "cell_type": "markdown",
      "source": [
        "- we get 2 key. one is context and other os question"
      ],
      "metadata": {
        "id": "cmNMGir6I0Hg"
      }
    },
    {
      "cell_type": "code",
      "source": [
        "# getting desired output i.e string\n",
        "parser = StrOutputParser()"
      ],
      "metadata": {
        "id": "zHfcxJIrG6xT"
      },
      "execution_count": null,
      "outputs": []
    },
    {
      "cell_type": "code",
      "source": [
        "# whole chain\n",
        "main_chain = parallel_chain | prompt | llm | parser"
      ],
      "metadata": {
        "id": "E1-bv_Y3JAbB"
      },
      "execution_count": null,
      "outputs": []
    },
    {
      "cell_type": "code",
      "source": [
        "main_chain.invoke('Can you summarize the video')"
      ],
      "metadata": {
        "colab": {
          "base_uri": "https://localhost:8080/",
          "height": 70
        },
        "id": "6hkZgjdFJEnl",
        "outputId": "0554693b-99fb-4914-8f41-c67f52d1b676"
      },
      "execution_count": null,
      "outputs": [
        {
          "output_type": "execute_result",
          "data": {
            "text/plain": [
              "'Based on the provided transcript, here is a concise summary of the video:\\n\\nThe conversation is with Demis Hassabis, the CEO and co-founder of DeepMind, a company that has developed advanced artificial intelligence systems. The host, Lex Friedman, introduces Demis as one of the most brilliant and impactful humans in AI and science. The conversation starts with a personal question, whether Demis wrote an AI program to interview people until it becomes good enough.'"
            ],
            "application/vnd.google.colaboratory.intrinsic+json": {
              "type": "string"
            }
          },
          "metadata": {},
          "execution_count": 63
        }
      ]
    },
    {
      "cell_type": "markdown",
      "source": [
        "------------------- THAT ALL ABOUT SIMPLE RAG--------------------"
      ],
      "metadata": {
        "id": "LZjmFo3JJanj"
      }
    },
    {
      "cell_type": "markdown",
      "source": [
        "# FURTHER COMPLEX TECHNIQUES USE IN INDUSTRIES FOR RAG"
      ],
      "metadata": {
        "id": "dKHyllmOJeRU"
      }
    },
    {
      "cell_type": "code",
      "source": [],
      "metadata": {
        "id": "PfMe4Tw7JGl_"
      },
      "execution_count": null,
      "outputs": []
    }
  ]
}