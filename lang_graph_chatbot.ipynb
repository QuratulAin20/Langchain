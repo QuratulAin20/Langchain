{
  "nbformat": 4,
  "nbformat_minor": 0,
  "metadata": {
    "colab": {
      "provenance": [],
      "toc_visible": true,
      "authorship_tag": "ABX9TyO3EUTPwwTpecCcKzWJZX+x"
    },
    "kernelspec": {
      "name": "python3",
      "display_name": "Python 3"
    },
    "language_info": {
      "name": "python"
    }
  },
  "cells": [
    {
      "cell_type": "markdown",
      "source": [
        "## What is LangGraph?\n",
        "LangGraph is like a toolbox for building smart programs that use AI (like ChatGPT) to do cool things. It helps you create programs where multiple \"actors\" (think of them as robots or characters) work together to solve problems. These actors can talk to each other, make decisions, and remember what they did before (that's what stateful means)."
      ],
      "metadata": {
        "id": "4YFuvDpFakT1"
      }
    },
    {
      "cell_type": "markdown",
      "source": [
        "1. Why using Lang graph?\n",
        "Teamwork: Just like in a group project, actors can work together to get things done faster.\\\n",
        "Smart Conversations: The actors use something called LLMs (Large Language Models), which are really good at understanding and creating language, like chatting or writing stories.\\\n",
        "Stateful: This means each actor remembers what it was doing. It can keep track of its own progress, just like how you keep notes for your homework.\n",
        "\n",
        "\n",
        "2. How Does It Work?\\\n",
        "Imagine you have a team of actors:\\\n",
        "One actor might be good at answering questions.\\\n",
        "Another might be great at finding information online.\\\n",
        "They send messages to each other to help complete a task.\\\n",
        "Example\\\n",
        "Think of a school project where:\n",
        "\n",
        "Actor 1 gathers facts about a topic.\\\n",
        "Actor 2 writes a report using those facts.\\\n",
        "Actor 3 designs a poster based on the report.\\\n",
        "Each actor does its own part but helps each other by sharing what they know!"
      ],
      "metadata": {
        "id": "5ynlNtxlat2S"
      }
    },
    {
      "cell_type": "markdown",
      "source": [
        "# Chat bot using LANG GRAPH"
      ],
      "metadata": {
        "id": "CaMKdq6xgX0B"
      }
    },
    {
      "cell_type": "code",
      "execution_count": 1,
      "metadata": {
        "colab": {
          "base_uri": "https://localhost:8080/"
        },
        "id": "duV6Mc_kYSq4",
        "outputId": "b4a162a3-8077-463f-ac7a-8c11d59c8398"
      },
      "outputs": [
        {
          "output_type": "stream",
          "name": "stdout",
          "text": [
            "Collecting langgraph\n",
            "  Downloading langgraph-0.2.70-py3-none-any.whl.metadata (17 kB)\n",
            "Requirement already satisfied: langsmith in /usr/local/lib/python3.11/dist-packages (0.3.5)\n",
            "Requirement already satisfied: langchain-core!=0.3.0,!=0.3.1,!=0.3.10,!=0.3.11,!=0.3.12,!=0.3.13,!=0.3.14,!=0.3.15,!=0.3.16,!=0.3.17,!=0.3.18,!=0.3.19,!=0.3.2,!=0.3.20,!=0.3.21,!=0.3.22,!=0.3.3,!=0.3.4,!=0.3.5,!=0.3.6,!=0.3.7,!=0.3.8,!=0.3.9,<0.4.0,>=0.2.43 in /usr/local/lib/python3.11/dist-packages (from langgraph) (0.3.33)\n",
            "Collecting langgraph-checkpoint<3.0.0,>=2.0.10 (from langgraph)\n",
            "  Downloading langgraph_checkpoint-2.0.12-py3-none-any.whl.metadata (4.6 kB)\n",
            "Collecting langgraph-sdk<0.2.0,>=0.1.42 (from langgraph)\n",
            "  Downloading langgraph_sdk-0.1.51-py3-none-any.whl.metadata (1.8 kB)\n",
            "Requirement already satisfied: httpx<1,>=0.23.0 in /usr/local/lib/python3.11/dist-packages (from langsmith) (0.28.1)\n",
            "Requirement already satisfied: orjson<4.0.0,>=3.9.14 in /usr/local/lib/python3.11/dist-packages (from langsmith) (3.10.15)\n",
            "Requirement already satisfied: pydantic<3,>=1 in /usr/local/lib/python3.11/dist-packages (from langsmith) (2.10.6)\n",
            "Requirement already satisfied: requests<3,>=2 in /usr/local/lib/python3.11/dist-packages (from langsmith) (2.32.3)\n",
            "Requirement already satisfied: requests-toolbelt<2.0.0,>=1.0.0 in /usr/local/lib/python3.11/dist-packages (from langsmith) (1.0.0)\n",
            "Requirement already satisfied: zstandard<0.24.0,>=0.23.0 in /usr/local/lib/python3.11/dist-packages (from langsmith) (0.23.0)\n",
            "Requirement already satisfied: anyio in /usr/local/lib/python3.11/dist-packages (from httpx<1,>=0.23.0->langsmith) (3.7.1)\n",
            "Requirement already satisfied: certifi in /usr/local/lib/python3.11/dist-packages (from httpx<1,>=0.23.0->langsmith) (2025.1.31)\n",
            "Requirement already satisfied: httpcore==1.* in /usr/local/lib/python3.11/dist-packages (from httpx<1,>=0.23.0->langsmith) (1.0.7)\n",
            "Requirement already satisfied: idna in /usr/local/lib/python3.11/dist-packages (from httpx<1,>=0.23.0->langsmith) (3.10)\n",
            "Requirement already satisfied: h11<0.15,>=0.13 in /usr/local/lib/python3.11/dist-packages (from httpcore==1.*->httpx<1,>=0.23.0->langsmith) (0.14.0)\n",
            "Requirement already satisfied: PyYAML>=5.3 in /usr/local/lib/python3.11/dist-packages (from langchain-core!=0.3.0,!=0.3.1,!=0.3.10,!=0.3.11,!=0.3.12,!=0.3.13,!=0.3.14,!=0.3.15,!=0.3.16,!=0.3.17,!=0.3.18,!=0.3.19,!=0.3.2,!=0.3.20,!=0.3.21,!=0.3.22,!=0.3.3,!=0.3.4,!=0.3.5,!=0.3.6,!=0.3.7,!=0.3.8,!=0.3.9,<0.4.0,>=0.2.43->langgraph) (6.0.2)\n",
            "Requirement already satisfied: jsonpatch<2.0,>=1.33 in /usr/local/lib/python3.11/dist-packages (from langchain-core!=0.3.0,!=0.3.1,!=0.3.10,!=0.3.11,!=0.3.12,!=0.3.13,!=0.3.14,!=0.3.15,!=0.3.16,!=0.3.17,!=0.3.18,!=0.3.19,!=0.3.2,!=0.3.20,!=0.3.21,!=0.3.22,!=0.3.3,!=0.3.4,!=0.3.5,!=0.3.6,!=0.3.7,!=0.3.8,!=0.3.9,<0.4.0,>=0.2.43->langgraph) (1.33)\n",
            "Requirement already satisfied: packaging<25,>=23.2 in /usr/local/lib/python3.11/dist-packages (from langchain-core!=0.3.0,!=0.3.1,!=0.3.10,!=0.3.11,!=0.3.12,!=0.3.13,!=0.3.14,!=0.3.15,!=0.3.16,!=0.3.17,!=0.3.18,!=0.3.19,!=0.3.2,!=0.3.20,!=0.3.21,!=0.3.22,!=0.3.3,!=0.3.4,!=0.3.5,!=0.3.6,!=0.3.7,!=0.3.8,!=0.3.9,<0.4.0,>=0.2.43->langgraph) (24.2)\n",
            "Requirement already satisfied: tenacity!=8.4.0,<10.0.0,>=8.1.0 in /usr/local/lib/python3.11/dist-packages (from langchain-core!=0.3.0,!=0.3.1,!=0.3.10,!=0.3.11,!=0.3.12,!=0.3.13,!=0.3.14,!=0.3.15,!=0.3.16,!=0.3.17,!=0.3.18,!=0.3.19,!=0.3.2,!=0.3.20,!=0.3.21,!=0.3.22,!=0.3.3,!=0.3.4,!=0.3.5,!=0.3.6,!=0.3.7,!=0.3.8,!=0.3.9,<0.4.0,>=0.2.43->langgraph) (9.0.0)\n",
            "Requirement already satisfied: typing-extensions>=4.7 in /usr/local/lib/python3.11/dist-packages (from langchain-core!=0.3.0,!=0.3.1,!=0.3.10,!=0.3.11,!=0.3.12,!=0.3.13,!=0.3.14,!=0.3.15,!=0.3.16,!=0.3.17,!=0.3.18,!=0.3.19,!=0.3.2,!=0.3.20,!=0.3.21,!=0.3.22,!=0.3.3,!=0.3.4,!=0.3.5,!=0.3.6,!=0.3.7,!=0.3.8,!=0.3.9,<0.4.0,>=0.2.43->langgraph) (4.12.2)\n",
            "Requirement already satisfied: msgpack<2.0.0,>=1.1.0 in /usr/local/lib/python3.11/dist-packages (from langgraph-checkpoint<3.0.0,>=2.0.10->langgraph) (1.1.0)\n",
            "Requirement already satisfied: annotated-types>=0.6.0 in /usr/local/lib/python3.11/dist-packages (from pydantic<3,>=1->langsmith) (0.7.0)\n",
            "Requirement already satisfied: pydantic-core==2.27.2 in /usr/local/lib/python3.11/dist-packages (from pydantic<3,>=1->langsmith) (2.27.2)\n",
            "Requirement already satisfied: charset-normalizer<4,>=2 in /usr/local/lib/python3.11/dist-packages (from requests<3,>=2->langsmith) (3.4.1)\n",
            "Requirement already satisfied: urllib3<3,>=1.21.1 in /usr/local/lib/python3.11/dist-packages (from requests<3,>=2->langsmith) (2.3.0)\n",
            "Requirement already satisfied: jsonpointer>=1.9 in /usr/local/lib/python3.11/dist-packages (from jsonpatch<2.0,>=1.33->langchain-core!=0.3.0,!=0.3.1,!=0.3.10,!=0.3.11,!=0.3.12,!=0.3.13,!=0.3.14,!=0.3.15,!=0.3.16,!=0.3.17,!=0.3.18,!=0.3.19,!=0.3.2,!=0.3.20,!=0.3.21,!=0.3.22,!=0.3.3,!=0.3.4,!=0.3.5,!=0.3.6,!=0.3.7,!=0.3.8,!=0.3.9,<0.4.0,>=0.2.43->langgraph) (3.0.0)\n",
            "Requirement already satisfied: sniffio>=1.1 in /usr/local/lib/python3.11/dist-packages (from anyio->httpx<1,>=0.23.0->langsmith) (1.3.1)\n",
            "Downloading langgraph-0.2.70-py3-none-any.whl (149 kB)\n",
            "\u001b[2K   \u001b[90m━━━━━━━━━━━━━━━━━━━━━━━━━━━━━━━━━━━━━━━━\u001b[0m \u001b[32m149.7/149.7 kB\u001b[0m \u001b[31m3.6 MB/s\u001b[0m eta \u001b[36m0:00:00\u001b[0m\n",
            "\u001b[?25hDownloading langgraph_checkpoint-2.0.12-py3-none-any.whl (38 kB)\n",
            "Downloading langgraph_sdk-0.1.51-py3-none-any.whl (44 kB)\n",
            "\u001b[2K   \u001b[90m━━━━━━━━━━━━━━━━━━━━━━━━━━━━━━━━━━━━━━━━\u001b[0m \u001b[32m44.7/44.7 kB\u001b[0m \u001b[31m858.8 kB/s\u001b[0m eta \u001b[36m0:00:00\u001b[0m\n",
            "\u001b[?25hInstalling collected packages: langgraph-sdk, langgraph-checkpoint, langgraph\n",
            "Successfully installed langgraph-0.2.70 langgraph-checkpoint-2.0.12 langgraph-sdk-0.1.51\n"
          ]
        }
      ],
      "source": [
        "!pip install langgraph langsmith"
      ]
    },
    {
      "cell_type": "code",
      "source": [
        "!pip install langchain langchain_groq langchain_community"
      ],
      "metadata": {
        "colab": {
          "base_uri": "https://localhost:8080/"
        },
        "id": "jR8OYDmsgv66",
        "outputId": "7e2c0efd-7d77-46a9-e050-36c7ccc1de12"
      },
      "execution_count": 2,
      "outputs": [
        {
          "output_type": "stream",
          "name": "stdout",
          "text": [
            "Requirement already satisfied: langchain in /usr/local/lib/python3.11/dist-packages (0.3.17)\n",
            "Collecting langchain_groq\n",
            "  Downloading langchain_groq-0.2.4-py3-none-any.whl.metadata (3.0 kB)\n",
            "Collecting langchain_community\n",
            "  Downloading langchain_community-0.3.17-py3-none-any.whl.metadata (2.4 kB)\n",
            "Requirement already satisfied: PyYAML>=5.3 in /usr/local/lib/python3.11/dist-packages (from langchain) (6.0.2)\n",
            "Requirement already satisfied: SQLAlchemy<3,>=1.4 in /usr/local/lib/python3.11/dist-packages (from langchain) (2.0.37)\n",
            "Requirement already satisfied: aiohttp<4.0.0,>=3.8.3 in /usr/local/lib/python3.11/dist-packages (from langchain) (3.11.11)\n",
            "Requirement already satisfied: langchain-core<0.4.0,>=0.3.33 in /usr/local/lib/python3.11/dist-packages (from langchain) (0.3.33)\n",
            "Requirement already satisfied: langchain-text-splitters<0.4.0,>=0.3.3 in /usr/local/lib/python3.11/dist-packages (from langchain) (0.3.5)\n",
            "Requirement already satisfied: langsmith<0.4,>=0.1.17 in /usr/local/lib/python3.11/dist-packages (from langchain) (0.3.5)\n",
            "Requirement already satisfied: numpy<2,>=1.22.4 in /usr/local/lib/python3.11/dist-packages (from langchain) (1.26.4)\n",
            "Requirement already satisfied: pydantic<3.0.0,>=2.7.4 in /usr/local/lib/python3.11/dist-packages (from langchain) (2.10.6)\n",
            "Requirement already satisfied: requests<3,>=2 in /usr/local/lib/python3.11/dist-packages (from langchain) (2.32.3)\n",
            "Requirement already satisfied: tenacity!=8.4.0,<10,>=8.1.0 in /usr/local/lib/python3.11/dist-packages (from langchain) (9.0.0)\n",
            "Collecting groq<1,>=0.4.1 (from langchain_groq)\n",
            "  Downloading groq-0.18.0-py3-none-any.whl.metadata (14 kB)\n",
            "Collecting langchain-core<0.4.0,>=0.3.33 (from langchain)\n",
            "  Downloading langchain_core-0.3.34-py3-none-any.whl.metadata (5.9 kB)\n",
            "Collecting langchain\n",
            "  Downloading langchain-0.3.18-py3-none-any.whl.metadata (7.8 kB)\n",
            "Collecting dataclasses-json<0.7,>=0.5.7 (from langchain_community)\n",
            "  Downloading dataclasses_json-0.6.7-py3-none-any.whl.metadata (25 kB)\n",
            "Collecting pydantic-settings<3.0.0,>=2.4.0 (from langchain_community)\n",
            "  Downloading pydantic_settings-2.7.1-py3-none-any.whl.metadata (3.5 kB)\n",
            "Collecting httpx-sse<1.0.0,>=0.4.0 (from langchain_community)\n",
            "  Downloading httpx_sse-0.4.0-py3-none-any.whl.metadata (9.0 kB)\n",
            "Collecting langchain-text-splitters<1.0.0,>=0.3.6 (from langchain)\n",
            "  Downloading langchain_text_splitters-0.3.6-py3-none-any.whl.metadata (1.9 kB)\n",
            "Requirement already satisfied: aiohappyeyeballs>=2.3.0 in /usr/local/lib/python3.11/dist-packages (from aiohttp<4.0.0,>=3.8.3->langchain) (2.4.4)\n",
            "Requirement already satisfied: aiosignal>=1.1.2 in /usr/local/lib/python3.11/dist-packages (from aiohttp<4.0.0,>=3.8.3->langchain) (1.3.2)\n",
            "Requirement already satisfied: attrs>=17.3.0 in /usr/local/lib/python3.11/dist-packages (from aiohttp<4.0.0,>=3.8.3->langchain) (25.1.0)\n",
            "Requirement already satisfied: frozenlist>=1.1.1 in /usr/local/lib/python3.11/dist-packages (from aiohttp<4.0.0,>=3.8.3->langchain) (1.5.0)\n",
            "Requirement already satisfied: multidict<7.0,>=4.5 in /usr/local/lib/python3.11/dist-packages (from aiohttp<4.0.0,>=3.8.3->langchain) (6.1.0)\n",
            "Requirement already satisfied: propcache>=0.2.0 in /usr/local/lib/python3.11/dist-packages (from aiohttp<4.0.0,>=3.8.3->langchain) (0.2.1)\n",
            "Requirement already satisfied: yarl<2.0,>=1.17.0 in /usr/local/lib/python3.11/dist-packages (from aiohttp<4.0.0,>=3.8.3->langchain) (1.18.3)\n",
            "Collecting marshmallow<4.0.0,>=3.18.0 (from dataclasses-json<0.7,>=0.5.7->langchain_community)\n",
            "  Downloading marshmallow-3.26.1-py3-none-any.whl.metadata (7.3 kB)\n",
            "Collecting typing-inspect<1,>=0.4.0 (from dataclasses-json<0.7,>=0.5.7->langchain_community)\n",
            "  Downloading typing_inspect-0.9.0-py3-none-any.whl.metadata (1.5 kB)\n",
            "Requirement already satisfied: anyio<5,>=3.5.0 in /usr/local/lib/python3.11/dist-packages (from groq<1,>=0.4.1->langchain_groq) (3.7.1)\n",
            "Requirement already satisfied: distro<2,>=1.7.0 in /usr/local/lib/python3.11/dist-packages (from groq<1,>=0.4.1->langchain_groq) (1.9.0)\n",
            "Requirement already satisfied: httpx<1,>=0.23.0 in /usr/local/lib/python3.11/dist-packages (from groq<1,>=0.4.1->langchain_groq) (0.28.1)\n",
            "Requirement already satisfied: sniffio in /usr/local/lib/python3.11/dist-packages (from groq<1,>=0.4.1->langchain_groq) (1.3.1)\n",
            "Requirement already satisfied: typing-extensions<5,>=4.10 in /usr/local/lib/python3.11/dist-packages (from groq<1,>=0.4.1->langchain_groq) (4.12.2)\n",
            "Requirement already satisfied: jsonpatch<2.0,>=1.33 in /usr/local/lib/python3.11/dist-packages (from langchain-core<0.4.0,>=0.3.33->langchain) (1.33)\n",
            "Requirement already satisfied: packaging<25,>=23.2 in /usr/local/lib/python3.11/dist-packages (from langchain-core<0.4.0,>=0.3.33->langchain) (24.2)\n",
            "Requirement already satisfied: orjson<4.0.0,>=3.9.14 in /usr/local/lib/python3.11/dist-packages (from langsmith<0.4,>=0.1.17->langchain) (3.10.15)\n",
            "Requirement already satisfied: requests-toolbelt<2.0.0,>=1.0.0 in /usr/local/lib/python3.11/dist-packages (from langsmith<0.4,>=0.1.17->langchain) (1.0.0)\n",
            "Requirement already satisfied: zstandard<0.24.0,>=0.23.0 in /usr/local/lib/python3.11/dist-packages (from langsmith<0.4,>=0.1.17->langchain) (0.23.0)\n",
            "Requirement already satisfied: annotated-types>=0.6.0 in /usr/local/lib/python3.11/dist-packages (from pydantic<3.0.0,>=2.7.4->langchain) (0.7.0)\n",
            "Requirement already satisfied: pydantic-core==2.27.2 in /usr/local/lib/python3.11/dist-packages (from pydantic<3.0.0,>=2.7.4->langchain) (2.27.2)\n",
            "Collecting python-dotenv>=0.21.0 (from pydantic-settings<3.0.0,>=2.4.0->langchain_community)\n",
            "  Downloading python_dotenv-1.0.1-py3-none-any.whl.metadata (23 kB)\n",
            "Requirement already satisfied: charset-normalizer<4,>=2 in /usr/local/lib/python3.11/dist-packages (from requests<3,>=2->langchain) (3.4.1)\n",
            "Requirement already satisfied: idna<4,>=2.5 in /usr/local/lib/python3.11/dist-packages (from requests<3,>=2->langchain) (3.10)\n",
            "Requirement already satisfied: urllib3<3,>=1.21.1 in /usr/local/lib/python3.11/dist-packages (from requests<3,>=2->langchain) (2.3.0)\n",
            "Requirement already satisfied: certifi>=2017.4.17 in /usr/local/lib/python3.11/dist-packages (from requests<3,>=2->langchain) (2025.1.31)\n",
            "Requirement already satisfied: greenlet!=0.4.17 in /usr/local/lib/python3.11/dist-packages (from SQLAlchemy<3,>=1.4->langchain) (3.1.1)\n",
            "Requirement already satisfied: httpcore==1.* in /usr/local/lib/python3.11/dist-packages (from httpx<1,>=0.23.0->groq<1,>=0.4.1->langchain_groq) (1.0.7)\n",
            "Requirement already satisfied: h11<0.15,>=0.13 in /usr/local/lib/python3.11/dist-packages (from httpcore==1.*->httpx<1,>=0.23.0->groq<1,>=0.4.1->langchain_groq) (0.14.0)\n",
            "Requirement already satisfied: jsonpointer>=1.9 in /usr/local/lib/python3.11/dist-packages (from jsonpatch<2.0,>=1.33->langchain-core<0.4.0,>=0.3.33->langchain) (3.0.0)\n",
            "Collecting mypy-extensions>=0.3.0 (from typing-inspect<1,>=0.4.0->dataclasses-json<0.7,>=0.5.7->langchain_community)\n",
            "  Downloading mypy_extensions-1.0.0-py3-none-any.whl.metadata (1.1 kB)\n",
            "Downloading langchain_groq-0.2.4-py3-none-any.whl (14 kB)\n",
            "Downloading langchain_community-0.3.17-py3-none-any.whl (2.5 MB)\n",
            "\u001b[2K   \u001b[90m━━━━━━━━━━━━━━━━━━━━━━━━━━━━━━━━━━━━━━━━\u001b[0m \u001b[32m2.5/2.5 MB\u001b[0m \u001b[31m28.0 MB/s\u001b[0m eta \u001b[36m0:00:00\u001b[0m\n",
            "\u001b[?25hDownloading langchain-0.3.18-py3-none-any.whl (1.0 MB)\n",
            "\u001b[2K   \u001b[90m━━━━━━━━━━━━━━━━━━━━━━━━━━━━━━━━━━━━━━━━\u001b[0m \u001b[32m1.0/1.0 MB\u001b[0m \u001b[31m24.9 MB/s\u001b[0m eta \u001b[36m0:00:00\u001b[0m\n",
            "\u001b[?25hDownloading dataclasses_json-0.6.7-py3-none-any.whl (28 kB)\n",
            "Downloading groq-0.18.0-py3-none-any.whl (121 kB)\n",
            "\u001b[2K   \u001b[90m━━━━━━━━━━━━━━━━━━━━━━━━━━━━━━━━━━━━━━━━\u001b[0m \u001b[32m121.9/121.9 kB\u001b[0m \u001b[31m7.2 MB/s\u001b[0m eta \u001b[36m0:00:00\u001b[0m\n",
            "\u001b[?25hDownloading httpx_sse-0.4.0-py3-none-any.whl (7.8 kB)\n",
            "Downloading langchain_core-0.3.34-py3-none-any.whl (412 kB)\n",
            "\u001b[2K   \u001b[90m━━━━━━━━━━━━━━━━━━━━━━━━━━━━━━━━━━━━━━━━\u001b[0m \u001b[32m413.0/413.0 kB\u001b[0m \u001b[31m14.9 MB/s\u001b[0m eta \u001b[36m0:00:00\u001b[0m\n",
            "\u001b[?25hDownloading langchain_text_splitters-0.3.6-py3-none-any.whl (31 kB)\n",
            "Downloading pydantic_settings-2.7.1-py3-none-any.whl (29 kB)\n",
            "Downloading marshmallow-3.26.1-py3-none-any.whl (50 kB)\n",
            "\u001b[2K   \u001b[90m━━━━━━━━━━━━━━━━━━━━━━━━━━━━━━━━━━━━━━━━\u001b[0m \u001b[32m50.9/50.9 kB\u001b[0m \u001b[31m3.4 MB/s\u001b[0m eta \u001b[36m0:00:00\u001b[0m\n",
            "\u001b[?25hDownloading python_dotenv-1.0.1-py3-none-any.whl (19 kB)\n",
            "Downloading typing_inspect-0.9.0-py3-none-any.whl (8.8 kB)\n",
            "Downloading mypy_extensions-1.0.0-py3-none-any.whl (4.7 kB)\n",
            "Installing collected packages: python-dotenv, mypy-extensions, marshmallow, httpx-sse, typing-inspect, pydantic-settings, groq, dataclasses-json, langchain-core, langchain-text-splitters, langchain_groq, langchain, langchain_community\n",
            "  Attempting uninstall: langchain-core\n",
            "    Found existing installation: langchain-core 0.3.33\n",
            "    Uninstalling langchain-core-0.3.33:\n",
            "      Successfully uninstalled langchain-core-0.3.33\n",
            "  Attempting uninstall: langchain-text-splitters\n",
            "    Found existing installation: langchain-text-splitters 0.3.5\n",
            "    Uninstalling langchain-text-splitters-0.3.5:\n",
            "      Successfully uninstalled langchain-text-splitters-0.3.5\n",
            "  Attempting uninstall: langchain\n",
            "    Found existing installation: langchain 0.3.17\n",
            "    Uninstalling langchain-0.3.17:\n",
            "      Successfully uninstalled langchain-0.3.17\n",
            "Successfully installed dataclasses-json-0.6.7 groq-0.18.0 httpx-sse-0.4.0 langchain-0.3.18 langchain-core-0.3.34 langchain-text-splitters-0.3.6 langchain_community-0.3.17 langchain_groq-0.2.4 marshmallow-3.26.1 mypy-extensions-1.0.0 pydantic-settings-2.7.1 python-dotenv-1.0.1 typing-inspect-0.9.0\n"
          ]
        }
      ]
    },
    {
      "cell_type": "code",
      "source": [
        "# setting API key\n",
        "from google.colab import userdata\n",
        "groq_api_key=userdata.get('groq_api_key')\n",
        "lang_smith_api_key = userdata.get('langsmith_api_key')"
      ],
      "metadata": {
        "id": "ODH9hL-RhBa_"
      },
      "execution_count": 6,
      "outputs": []
    },
    {
      "cell_type": "code",
      "source": [
        "import os\n",
        "os.environ['LANGCHAIN_API_KEY'] = lang_smith_api_key\n",
        "os.environ['LANGCHAIN_TRACING_V2'] = \"true\"\n",
        "os.environ['LANGCHAIN_PROJECT'] = \"langgraph-chatbot\""
      ],
      "metadata": {
        "id": "zQr6oPS5h_-f"
      },
      "execution_count": 7,
      "outputs": []
    },
    {
      "cell_type": "code",
      "source": [
        "from langchain_groq import ChatGroq"
      ],
      "metadata": {
        "id": "lWlp-k3TjMEM"
      },
      "execution_count": 8,
      "outputs": []
    },
    {
      "cell_type": "code",
      "source": [
        "# Defining LLM model\n",
        "llm = ChatGroq(groq_api_key=groq_api_key, model_name=\"Gemma2-9b-It\")\n",
        "llm"
      ],
      "metadata": {
        "colab": {
          "base_uri": "https://localhost:8080/"
        },
        "id": "HdZj5vvsjQAP",
        "outputId": "17d52d2c-d47b-40aa-ce29-bd3d37c35056"
      },
      "execution_count": 11,
      "outputs": [
        {
          "output_type": "execute_result",
          "data": {
            "text/plain": [
              "ChatGroq(client=<groq.resources.chat.completions.Completions object at 0x7824e3d2e3d0>, async_client=<groq.resources.chat.completions.AsyncCompletions object at 0x7824e3d42c50>, model_name='Gemma2-9b-It', model_kwargs={}, groq_api_key=SecretStr('**********'))"
            ]
          },
          "metadata": {},
          "execution_count": 11
        }
      ]
    },
    {
      "cell_type": "code",
      "source": [
        "# Building chatbot\n",
        "from typing import Annotated\n",
        "from typing_extensions import TypedDict\n",
        "from langgraph.graph import StateGraph, START, END\n",
        "from langgraph.graph.message import add_messages"
      ],
      "metadata": {
        "id": "zCJdYvDzjnjG"
      },
      "execution_count": 14,
      "outputs": []
    },
    {
      "cell_type": "markdown",
      "source": [
        "### 1. **Imports**\n",
        "\n",
        "```python\n",
        "from typing import Annotated\n",
        "from typing_extensions import TypedDict\n",
        "from langgraph.graph import StateGraph, START, END\n",
        "from langgraph.graph.message import add_messages\n",
        "```\n",
        "\n",
        "#### a. `from typing import Annotated`\n",
        "- This import brings in `Annotated`, which is a way to add metadata to type hints in Python. It's often used to provide additional context about the type, like constraints or descriptions.\n",
        "\n",
        "#### b. `from typing_extensions import TypedDict`\n",
        "- `TypedDict` allows you to define dictionaries with a specific structure in Python. This means you can specify what keys are required and what types of values they should hold. This is useful for creating more readable and maintainable code.\n",
        "\n",
        "#### c. `from langgraph.graph import StateGraph, START, END`\n",
        "- **`StateGraph`**: This is likely a class that represents a graph structure where nodes can represent different states in a workflow or process. It helps manage transitions between these states.\n",
        "- **`START` and `END`**: These are probably constants representing the starting and ending points of the graph. They help define the boundaries of the process flow.\n",
        "\n",
        "#### d. `from langgraph.graph.message import add_messages`\n",
        "- **`add_messages`**: This function is likely used to add messages to the state graph. Messages can be important for communication between actors or for maintaining context in workflows.\n",
        "\n",
        "### 2. **Understanding the Components**\n",
        "\n",
        "Now, let’s break down what each component involves conceptually:\n",
        "\n",
        "#### a. **Annotated**\n",
        "- When you use `Annotated`, you can add extra information to a type. For example:\n",
        "  ```python\n",
        "  MyType = Annotated[int, \"This is an integer\"]\n",
        "  ```\n",
        "  This means `MyType` is an integer, and the annotation provides additional context.\n",
        "\n",
        "#### b. **TypedDict**\n",
        "- You can define a specific structure for a dictionary. For example:\n",
        "  ```python\n",
        "  class Person(TypedDict):\n",
        "      name: str\n",
        "      age: int\n",
        "  ```\n",
        "  Here, `Person` is a dictionary that must have a `name` (a string) and an `age` (an integer).\n",
        "\n",
        "#### c. **StateGraph**\n",
        "- A state graph organizes states and transitions. Think of it like a flowchart:\n",
        "  - **Nodes** represent states (like tasks).\n",
        "  - **Edges** represent transitions (how to move between tasks).\n",
        "  \n",
        "#### d. **START and END**\n",
        "- These constants help define where the process begins and ends in the state graph. They are essential for ensuring that the workflow is clear and manageable.\n",
        "\n",
        "#### e. **add_messages**\n",
        "- This function helps manage communication within the state graph. It could be used to log messages, send data between actors, or keep track of actions taken.\n",
        "\n",
        "### 3. **Putting It All Together**\n",
        "\n",
        "When you combine these components, you can create a structured way to manage workflows with actors. Here's how they might work together:\n",
        "\n",
        "- You define data structures using `TypedDict` to ensure clarity in the data you manage.\n",
        "- You create a `StateGraph` to represent the workflow, using `START` to initiate and `END` to conclude processes.\n",
        "- You can use `add_messages` to facilitate communication and keep track of what’s happening in the workflow.\n",
        "\n",
        "### Conclusion\n",
        "\n",
        "The code snippet sets the stage for building a stateful multi-agent application using LangGraph. Each part contributes to creating a robust structure for managing state and interactions in your application. If you have specific parts you'd like more detail on, feel free to ask!"
      ],
      "metadata": {
        "id": "sFmpSUP_msKP"
      }
    },
    {
      "cell_type": "code",
      "source": [
        "class State(TypedDict):\n",
        "  # messages have the type 'list'.The 'add_messages' function in the annotation defines how the state key should be updated\n",
        "  # in this case it is updated as append into a list not overwrite\n",
        "  messages:Annotated[list, add_messages]\n",
        "\n",
        "graph_builder=StateGraph(State)"
      ],
      "metadata": {
        "id": "_oaxok25jzzc"
      },
      "execution_count": 16,
      "outputs": []
    },
    {
      "cell_type": "code",
      "source": [
        "graph_builder"
      ],
      "metadata": {
        "colab": {
          "base_uri": "https://localhost:8080/"
        },
        "id": "WNL8ckjhoAk6",
        "outputId": "7b7121da-91de-40ad-f464-b196b62871bb"
      },
      "execution_count": 17,
      "outputs": [
        {
          "output_type": "execute_result",
          "data": {
            "text/plain": [
              "<langgraph.graph.state.StateGraph at 0x7824e37677d0>"
            ]
          },
          "metadata": {},
          "execution_count": 17
        }
      ]
    },
    {
      "cell_type": "code",
      "source": [
        "def chatbot(state:State):\n",
        "  return {\"messages\":llm.invoke(state['messages'])}"
      ],
      "metadata": {
        "id": "lEls2eFMoYTk"
      },
      "execution_count": 19,
      "outputs": []
    },
    {
      "cell_type": "markdown",
      "source": [
        "- After creating the graph builder next we have to create the next node i.e chatbot.\n",
        "- Remember when ever we are defining the node of the graph it should take State as a parameter so that our state management keep on changing on every interaction.\n",
        "- next we must return in our messages what ever we are executing\n",
        "- In short we have this chatbot function that is invoking the previous messages by user and return some messages"
      ],
      "metadata": {
        "id": "56l3dlGhqMJc"
      }
    },
    {
      "cell_type": "code",
      "source": [
        "# Adding our first node to graph builder\n",
        "graph_builder.add_node(\"chatbot\", chatbot)"
      ],
      "metadata": {
        "colab": {
          "base_uri": "https://localhost:8080/"
        },
        "id": "L5atBAuIow5r",
        "outputId": "69299e7e-9bf5-427c-d250-3c91cc474b55"
      },
      "execution_count": 20,
      "outputs": [
        {
          "output_type": "execute_result",
          "data": {
            "text/plain": [
              "<langgraph.graph.state.StateGraph at 0x7824e37677d0>"
            ]
          },
          "metadata": {},
          "execution_count": 20
        }
      ]
    },
    {
      "cell_type": "markdown",
      "source": [
        "### UPTILL NOW\n",
        "1. first we create a class state, WHY? In order to manage our state of whole work flow.\n",
        "2. Next created over graph builder, WHY? This graph builder organizes your states and transitions, allowing you to manage how different parts of your workflow interact with each other. It sets up the framework for adding nodes (like functions or tasks) that represent different states or actions in your process.\n",
        "\n",
        "3. Finally , define our first node i.e chatbot and its functionality along with what is it returning. Remember this chatbot is inheriting the state class we build on fist step. So that our state will keep on appending."
      ],
      "metadata": {
        "id": "k9Xd-f5xrrkv"
      }
    },
    {
      "cell_type": "markdown",
      "source": [
        "Sure! Here’s a concise summary of each step:\n",
        "\n",
        "1. **Creating the State Class**: The `State` class is defined using `TypedDict` to establish a structured format for managing a list of messages in the workflow.\n",
        "\n",
        "2. **Creating the Graph Builder**: A `graph_builder` instance is created using `StateGraph(State)` to organize states and transitions, facilitating interaction between different components of the workflow.\n",
        "\n",
        "3. **Defining the Chatbot Node**: The `chatbot` function processes input messages by invoking a language model and returns updated messages, enabling conversation functionality.\n",
        "\n",
        "4. **Adding the First Node to the Graph Builder**: The `chatbot` function is added as the first node in the `graph_builder`, initiating the conversational flow and allowing for state management of user interactions."
      ],
      "metadata": {
        "id": "DQvKWMIhtbRd"
      }
    },
    {
      "cell_type": "code",
      "source": [
        "# connecting to graph_builder\n",
        "graph_builder.add_edge(START,'chatbot')\n",
        "graph_builder.add_edge('chatbot',END)"
      ],
      "metadata": {
        "colab": {
          "base_uri": "https://localhost:8080/"
        },
        "id": "eAMm4laKrnVm",
        "outputId": "46766f67-2b78-48ad-f42b-c5324786bfec"
      },
      "execution_count": 21,
      "outputs": [
        {
          "output_type": "execute_result",
          "data": {
            "text/plain": [
              "<langgraph.graph.state.StateGraph at 0x7824e37677d0>"
            ]
          },
          "metadata": {},
          "execution_count": 21
        }
      ]
    },
    {
      "cell_type": "code",
      "source": [
        "# compiling our graph\n",
        "graph= graph_builder.compile()"
      ],
      "metadata": {
        "id": "ror-uuDGt8t_"
      },
      "execution_count": 22,
      "outputs": []
    },
    {
      "cell_type": "code",
      "source": [
        "# Dispalying the graph\n",
        "from IPython.display import Image, display\n",
        "try:\n",
        "  display(Image(graph.get_graph().draw_mermaid_png()))\n",
        "except Exception:\n",
        "  pass"
      ],
      "metadata": {
        "colab": {
          "base_uri": "https://localhost:8080/",
          "height": 251
        },
        "id": "Jc8umVrYuF2-",
        "outputId": "00cf5ccd-b85f-4949-b602-30bbaed9041c"
      },
      "execution_count": 23,
      "outputs": [
        {
          "output_type": "display_data",
          "data": {
            "image/png": "[encoded data removed]",
            "text/plain": [
              "<IPython.core.display.Image object>"
            ]
          },
          "metadata": {}
        }
      ]
    },
    {
      "cell_type": "code",
      "source": [
        "# Executing\n",
        "\n",
        "while True:\n",
        "  user_input= input(\"User : \")\n",
        "  if user_input.lower() in [\"quit\" , \"q\"]:\n",
        "    print(\"Good Bye\")\n",
        "    break\n",
        "  for event in graph.stream({'messages':(\"user\", user_input)}):\n",
        "    print(event.values())\n",
        "    for value in event.values():\n",
        "      print(value['messages'])\n",
        "      print(\"Assisstant:\", value['messages'].content)"
      ],
      "metadata": {
        "colab": {
          "base_uri": "https://localhost:8080/"
        },
        "id": "WTNX23zQuh6r",
        "outputId": "ebc7e654-415c-450c-8ba4-a017bfff904a"
      },
      "execution_count": 24,
      "outputs": [
        {
          "output_type": "stream",
          "name": "stdout",
          "text": [
            "User : hi\n",
            "dict_values([{'messages': AIMessage(content='Hello! 👋  How can I help you today? 😊\\n', additional_kwargs={}, response_metadata={'token_usage': {'completion_tokens': 15, 'prompt_tokens': 10, 'total_tokens': 25, 'completion_time': 0.027272727, 'prompt_time': 3.4e-07, 'queue_time': 0.025528604, 'total_time': 0.027273067}, 'model_name': 'Gemma2-9b-It', 'system_fingerprint': 'fp_10c08bf97d', 'finish_reason': 'stop', 'logprobs': None}, id='run-e426b56b-305e-4989-9a30-1d1b4d1aaae4-0', usage_metadata={'input_tokens': 10, 'output_tokens': 15, 'total_tokens': 25})}])\n",
            "content='Hello! 👋  How can I help you today? 😊\\n' additional_kwargs={} response_metadata={'token_usage': {'completion_tokens': 15, 'prompt_tokens': 10, 'total_tokens': 25, 'completion_time': 0.027272727, 'prompt_time': 3.4e-07, 'queue_time': 0.025528604, 'total_time': 0.027273067}, 'model_name': 'Gemma2-9b-It', 'system_fingerprint': 'fp_10c08bf97d', 'finish_reason': 'stop', 'logprobs': None} id='run-e426b56b-305e-4989-9a30-1d1b4d1aaae4-0' usage_metadata={'input_tokens': 10, 'output_tokens': 15, 'total_tokens': 25}\n",
            "Assisstant: Hello! 👋  How can I help you today? 😊\n",
            "\n",
            "User : can you tell me what is lang chain\n",
            "dict_values([{'messages': AIMessage(content=\"LangChain is an open-source framework designed to simplify the development of applications powered by large language models (LLMs).\\n\\n**What it does:**\\n\\n* **Chains together LLMs with other tools:** LangChain allows you to combine LLMs with external APIs, databases, and other data sources. This enables you to build more powerful and versatile applications that can access and process information beyond the LLM's own knowledge.\\n\\n* **Provides building blocks for LLM applications:** It offers a set of pre-built modules and components that you can use to construct common LLM application patterns, such as question answering, summarization, code generation, and chatbot interactions.\\n\\n* **Manages LLM interactions:**\\n\\nLangChain handles the complexities of interacting with LLMs, including prompt engineering, tokenization, and response parsing. This frees you to focus on the application logic rather than the technical details.\\n\\n**Key Features:**\\n\\n* **Chain:**\\n\\nA core concept that allows you to sequence together multiple LLMs or other components to build complex workflows.\\n\\n* **Agents:**\\n\\nAutonomous entities that can interact with their environment, access external tools, and make decisions based on LLM outputs.\\n* **Memory:** Enables LLMs to retain information from previous interactions, creating a more conversational and context-aware experience.\\n\\n* **Prompt Templates:**\\n\\nReusable structures for defining prompts to LLMs, allowing for greater consistency and efficiency.\\n* **Data Access:**\\n\\nConnectors for integrating with various data sources, including databases, APIs, and files.\\n\\n**Benefits:**\\n\\n* **Faster development:**\\n\\nPre-built components and patterns accelerate the development process.\\n* **Increased flexibility:**\\n\\nCombine LLMs with other tools to build customized applications.\\n* **Improved performance:**\\n\\nEfficient LLM interaction management and memory capabilities enhance application performance.\\n* **Open-source and community-driven:**\\n\\nAccess to a vibrant community and continuous improvements through contributions.\\n\\n**Use Cases:**\\n\\n* Chatbots and conversational agents\\n* Question answering systems\\n* Text summarization and generation\\n* Code generation and documentation\\n* Data analysis and insights\\n\\n**Overall, LangChain empowers developers to harness the power of LLMs and build innovative applications that leverage the latest advancements in AI.**\\n\", additional_kwargs={}, response_metadata={'token_usage': {'completion_tokens': 460, 'prompt_tokens': 17, 'total_tokens': 477, 'completion_time': 0.836363636, 'prompt_time': 7.635e-05, 'queue_time': 0.022465258000000002, 'total_time': 0.836439986}, 'model_name': 'Gemma2-9b-It', 'system_fingerprint': 'fp_10c08bf97d', 'finish_reason': 'stop', 'logprobs': None}, id='run-3428a2ea-d2cc-4286-b352-267ed98e8080-0', usage_metadata={'input_tokens': 17, 'output_tokens': 460, 'total_tokens': 477})}])\n",
            "content=\"LangChain is an open-source framework designed to simplify the development of applications powered by large language models (LLMs).\\n\\n**What it does:**\\n\\n* **Chains together LLMs with other tools:** LangChain allows you to combine LLMs with external APIs, databases, and other data sources. This enables you to build more powerful and versatile applications that can access and process information beyond the LLM's own knowledge.\\n\\n* **Provides building blocks for LLM applications:** It offers a set of pre-built modules and components that you can use to construct common LLM application patterns, such as question answering, summarization, code generation, and chatbot interactions.\\n\\n* **Manages LLM interactions:**\\n\\nLangChain handles the complexities of interacting with LLMs, including prompt engineering, tokenization, and response parsing. This frees you to focus on the application logic rather than the technical details.\\n\\n**Key Features:**\\n\\n* **Chain:**\\n\\nA core concept that allows you to sequence together multiple LLMs or other components to build complex workflows.\\n\\n* **Agents:**\\n\\nAutonomous entities that can interact with their environment, access external tools, and make decisions based on LLM outputs.\\n* **Memory:** Enables LLMs to retain information from previous interactions, creating a more conversational and context-aware experience.\\n\\n* **Prompt Templates:**\\n\\nReusable structures for defining prompts to LLMs, allowing for greater consistency and efficiency.\\n* **Data Access:**\\n\\nConnectors for integrating with various data sources, including databases, APIs, and files.\\n\\n**Benefits:**\\n\\n* **Faster development:**\\n\\nPre-built components and patterns accelerate the development process.\\n* **Increased flexibility:**\\n\\nCombine LLMs with other tools to build customized applications.\\n* **Improved performance:**\\n\\nEfficient LLM interaction management and memory capabilities enhance application performance.\\n* **Open-source and community-driven:**\\n\\nAccess to a vibrant community and continuous improvements through contributions.\\n\\n**Use Cases:**\\n\\n* Chatbots and conversational agents\\n* Question answering systems\\n* Text summarization and generation\\n* Code generation and documentation\\n* Data analysis and insights\\n\\n**Overall, LangChain empowers developers to harness the power of LLMs and build innovative applications that leverage the latest advancements in AI.**\\n\" additional_kwargs={} response_metadata={'token_usage': {'completion_tokens': 460, 'prompt_tokens': 17, 'total_tokens': 477, 'completion_time': 0.836363636, 'prompt_time': 7.635e-05, 'queue_time': 0.022465258000000002, 'total_time': 0.836439986}, 'model_name': 'Gemma2-9b-It', 'system_fingerprint': 'fp_10c08bf97d', 'finish_reason': 'stop', 'logprobs': None} id='run-3428a2ea-d2cc-4286-b352-267ed98e8080-0' usage_metadata={'input_tokens': 17, 'output_tokens': 460, 'total_tokens': 477}\n",
            "Assisstant: LangChain is an open-source framework designed to simplify the development of applications powered by large language models (LLMs).\n",
            "\n",
            "**What it does:**\n",
            "\n",
            "* **Chains together LLMs with other tools:** LangChain allows you to combine LLMs with external APIs, databases, and other data sources. This enables you to build more powerful and versatile applications that can access and process information beyond the LLM's own knowledge.\n",
            "\n",
            "* **Provides building blocks for LLM applications:** It offers a set of pre-built modules and components that you can use to construct common LLM application patterns, such as question answering, summarization, code generation, and chatbot interactions.\n",
            "\n",
            "* **Manages LLM interactions:**\n",
            "\n",
            "LangChain handles the complexities of interacting with LLMs, including prompt engineering, tokenization, and response parsing. This frees you to focus on the application logic rather than the technical details.\n",
            "\n",
            "**Key Features:**\n",
            "\n",
            "* **Chain:**\n",
            "\n",
            "A core concept that allows you to sequence together multiple LLMs or other components to build complex workflows.\n",
            "\n",
            "* **Agents:**\n",
            "\n",
            "Autonomous entities that can interact with their environment, access external tools, and make decisions based on LLM outputs.\n",
            "* **Memory:** Enables LLMs to retain information from previous interactions, creating a more conversational and context-aware experience.\n",
            "\n",
            "* **Prompt Templates:**\n",
            "\n",
            "Reusable structures for defining prompts to LLMs, allowing for greater consistency and efficiency.\n",
            "* **Data Access:**\n",
            "\n",
            "Connectors for integrating with various data sources, including databases, APIs, and files.\n",
            "\n",
            "**Benefits:**\n",
            "\n",
            "* **Faster development:**\n",
            "\n",
            "Pre-built components and patterns accelerate the development process.\n",
            "* **Increased flexibility:**\n",
            "\n",
            "Combine LLMs with other tools to build customized applications.\n",
            "* **Improved performance:**\n",
            "\n",
            "Efficient LLM interaction management and memory capabilities enhance application performance.\n",
            "* **Open-source and community-driven:**\n",
            "\n",
            "Access to a vibrant community and continuous improvements through contributions.\n",
            "\n",
            "**Use Cases:**\n",
            "\n",
            "* Chatbots and conversational agents\n",
            "* Question answering systems\n",
            "* Text summarization and generation\n",
            "* Code generation and documentation\n",
            "* Data analysis and insights\n",
            "\n",
            "**Overall, LangChain empowers developers to harness the power of LLMs and build innovative applications that leverage the latest advancements in AI.**\n",
            "\n",
            "User : q\n",
            "Good Bye\n"
          ]
        }
      ]
    },
    {
      "cell_type": "code",
      "source": [],
      "metadata": {
        "id": "l4uNKztyv1T5"
      },
      "execution_count": null,
      "outputs": []
    }
  ]
}